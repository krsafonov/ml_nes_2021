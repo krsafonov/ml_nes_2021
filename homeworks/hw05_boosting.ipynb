{
 "cells": [
  {
   "cell_type": "markdown",
   "metadata": {
    "id": "IHgmxWG_7lnE"
   },
   "source": [
    "# Домашняя работа 5. Бустинг\n",
    "\n",
    "*Мягкий дедлайн: 17 декабря, 21:00*\n",
    "\n",
    "*Жесткий дедлайн: 19 декабря, 21:00*\n"
   ]
  },
  {
   "cell_type": "markdown",
   "metadata": {},
   "source": [
    "Максимальная оценка 5 баллов :)"
   ]
  },
  {
   "cell_type": "code",
   "execution_count": 1,
   "metadata": {
    "id": "GOqjUI6igeLc"
   },
   "outputs": [],
   "source": [
    "import numpy as np\n",
    "import pandas as pd\n",
    "\n",
    "from sklearn.datasets import load_boston # sorry(not sorry)\n",
    "from sklearn.model_selection import train_test_split\n",
    "from sklearn.tree import DecisionTreeClassifier, DecisionTreeRegressor\n",
    "from sklearn.metrics import mean_squared_error"
   ]
  },
  {
   "cell_type": "code",
   "execution_count": 2,
   "metadata": {},
   "outputs": [],
   "source": [
    "from scipy.optimize import minimize"
   ]
  },
  {
   "cell_type": "markdown",
   "metadata": {
    "id": "-tKaz0okgeLh"
   },
   "source": [
    "### Задание 1. Градиентный бустинг своими руками  (2 балла)\n",
    "\n",
    "Вам нужно реализовать упрощенный вариант градиентного бутсинга для задачи регресси. \n",
    "\n",
    "\n",
    "**Напоминание, как это работает:**\n",
    "\n",
    "Обозначим текущую композицию на $N-1$ шаге за $a_{N - 1}(x_i)$. Базовый алгоритм $b_N(x_i)$ обучается на ответах $-\\frac{\\partial L(y_i, z)}{\\partial z}\\Bigl|_{z = a_{N - 1}(x_i)}$, где $L(y_i, z)$ — значение функции потерь на объекте при правильном ответе $y_i$ и предсказании $z$. Композиция на следующем шаге получается так:\n",
    "\n",
    "$$\n",
    "a_N(x_i) = a_{N-1}(x_i) + \\nu\\gamma_Nb_N(x_i)\n",
    "$$\n",
    "\n",
    "Здесь $\\nu \\in [0, 1]$ — темп обучения (гиперпараметр), $\\gamma_N$ — оптимальный вес, настраиваемый на каждом шаге алгоритма в ходе решения оптимизационной задачи:\n",
    "\n",
    "$$\n",
    "\\gamma_N = \\mathrm{arg}\\min_\\gamma \\frac{1}{\\ell}\\sum\\limits_{i=1}^{\\ell}L\\left(y_i, a_{N - 1}(x_i) + \\gamma b_N(x_i)\\right)\n",
    "$$\n",
    "\n",
    "\n",
    "Заметьте, что в формуле выше нет $\\nu$. Этот гиперпараметр используется для сокращения длины шага, оптимального при составлении композиции $a_N$. Идея отклонения от оптимума должна быть вам уже знакома как способ борьбы с переобучением, когда мы специально форсим модель работать чуть хуже, чем могла бы, на текущем шаге, чтобы сохранить обобщающую способность и не подогнаться под тренировочную выборку (или под шум).\n",
    "\n",
    "С потерей в 0.5 балла можете принять $\\gamma_N = 1$ для каждого $N$. На полный балл необходимо реализовать нахождение оптимального $\\gamma_N$ на каждом шаге.\n",
    "\n",
    "В качестве функции потерь $L$ возьмите MSE."
   ]
  },
  {
   "cell_type": "markdown",
   "metadata": {},
   "source": [
    "В качестве базовой модели можете использовать `DecisionTreeRegressor` из `sklearn`.\n",
    "Для решения оптимизационной задачки можно воспользоваться алгоритмами из любых библиотек, например, `scipy.optimize`, или найти оптимум перебором по сетке из некоторого разумного диапазона.\n",
    "\n",
    "Можно дописывать свои функции, если необходимо."
   ]
  },
  {
   "cell_type": "code",
   "execution_count": 356,
   "metadata": {
    "id": "ZB5Yt-LKgeLi"
   },
   "outputs": [],
   "source": [
    "class GradientBoosting:\n",
    "    def __init__(\n",
    "        self, \n",
    "        base_model_class: object = DecisionTreeRegressor,\n",
    "        base_model_params: dict = {'max_depth': None},\n",
    "        n_estimators: int = 10,\n",
    "        learning_rate: float = 0.1\n",
    "    ):\n",
    "        \"\"\"\n",
    "        \n",
    "        Args:\n",
    "          base_model_class: Class of the base learner.\n",
    "\n",
    "          base_model_params: Hyperparameters of the base learner.\n",
    "          \n",
    "          n_estimators: Number of boosting stages.\n",
    "          \n",
    "          learning_rate: Value used to shrink contribution of each base learner to the model. \n",
    "          \n",
    "        \"\"\"\n",
    "        \n",
    "        self.base_model_class = base_model_class\n",
    "        self.n_estimators = n_estimators\n",
    "        self.learning_rate = learning_rate\n",
    "        \n",
    "        self.base_model_params = base_model_params\n",
    "        \n",
    "        # list for optimal gammas at each iteration\n",
    "        self.gammas = []\n",
    "        \n",
    "        # list for base models\n",
    "        self.models = []\n",
    "        \n",
    "        # list for error tracking\n",
    "        self.errors = []\n",
    "          \n",
    "    \n",
    "    def find_optimal_gamma(self, \n",
    "                           y: np.array, \n",
    "                           old_predictions: np.array,\n",
    "                           new_predictions: np.array) -> float:\n",
    "        \"\"\"You may add arguments if it's necessary for your optimization algorithm.\n",
    "        \n",
    "        Args:\n",
    "          y: Target variable.\n",
    "\n",
    "          old_predictions: Prediction of the additive model at the previous stage.\n",
    "          \n",
    "          new_predictions: Prediction of the base learner at the current stage. \n",
    "          \n",
    "        Returns:\n",
    "          Optimal value for gamma.\n",
    "          \n",
    "        \"\"\"\n",
    "        optimal_gamma = minimize(lambda gamma: np.sum((y - old_predictions - gamma*new_predictions)**2), x0 = 1).x[0]\n",
    "        self.gammas.append(optimal_gamma)\n",
    "    \n",
    "    \n",
    "    def _fit_base_model(self, X: np.ndarray, y: np.array):\n",
    "        \"\"\"Train one base learner. \n",
    "        \n",
    "        Args:\n",
    "          X: Feature matrix\n",
    "          \n",
    "          y: Target variable.\n",
    "          \n",
    "          \n",
    "        Returns:\n",
    "          Fitted base learner.\n",
    "          \n",
    "        \"\"\"\n",
    "        base_model = DecisionTreeRegressor()\n",
    "        base_model.set_params(**self.base_model_params)\n",
    "        base_model.fit(X, y)\n",
    "        self.models.append(base_model)\n",
    "        return base_model\n",
    "    \n",
    "        \n",
    "    def fit(self, X: np.ndarray, y: np.array):\n",
    "        \"\"\"Train boosting (\"sum\" of base learners). \n",
    "        \n",
    "        Args:\n",
    "          X: Feature matrix\n",
    "          \n",
    "          y: Target variable.\n",
    "          \n",
    "          \n",
    "        Returns:\n",
    "          Fitted boosting.\n",
    "          \n",
    "        \"\"\"\n",
    "        \n",
    "        for i in range(self.n_estimators):\n",
    "            if len(self.models) == 0:\n",
    "                    self.models.append(np.zeros(X.shape[0]))\n",
    "                    self.gammas.append(1)\n",
    "            else:\n",
    "                s = 2*(y-self.predict(X))/len(X)\n",
    "                old_predictions = self.predict(X)\n",
    "                model = self._fit_base_model(X, s)\n",
    "                \n",
    "                self.find_optimal_gamma(y, old_predictions, model.predict(X))\n",
    "            if i % 2 == 0:\n",
    "                self.errors.append(mean_squared_error(y, self.predict(X)))\n",
    "        return self\n",
    "       \n",
    "        \n",
    "    def predict(self, X: np.ndarray):\n",
    "        \"\"\"Make prediction of fitted boosting. \n",
    "        \n",
    "        Args:\n",
    "          X: Feature matrix\n",
    "\n",
    "\n",
    "        Returns:\n",
    "          Prediction of fitted boosting.\n",
    "          \n",
    "        \"\"\"\n",
    "        if len(self.models) > 0:\n",
    "            y_predicted = np.zeros(X.shape[0])\n",
    "            for i, base_model in enumerate(self.models[1:]):\n",
    "                y_predicted += self.learning_rate*self.gammas[i]*base_model.predict(X)\n",
    "            return y_predicted\n",
    "            "
   ]
  },
  {
   "cell_type": "markdown",
   "metadata": {},
   "source": [
    "Проверьте вашу реализацию на бостонском датасете. Подберите оптимальные гиперпараметры, чтобы победить RandomForestRegressor (не меняйте параметры сида)."
   ]
  },
  {
   "cell_type": "code",
   "execution_count": 201,
   "metadata": {},
   "outputs": [],
   "source": [
    "boston = load_boston()\n",
    "X = boston.data\n",
    "y = boston.target\n",
    "X_train, X_test, y_train, y_test = train_test_split(X, y, test_size=0.25, random_state=13)"
   ]
  },
  {
   "cell_type": "code",
   "execution_count": 202,
   "metadata": {},
   "outputs": [
    {
     "data": {
      "text/plain": [
       "9.63198271791959"
      ]
     },
     "execution_count": 202,
     "metadata": {},
     "output_type": "execute_result"
    }
   ],
   "source": [
    "from sklearn.ensemble import RandomForestRegressor\n",
    "\n",
    "rf = RandomForestRegressor(max_features=4, n_estimators=640, random_state=19052019)\n",
    "\n",
    "rf.fit(X_train, y_train)\n",
    "mean_squared_error(y_test, rf.predict(X_test))"
   ]
  },
  {
   "cell_type": "markdown",
   "metadata": {},
   "source": [
    "Попробуем запустить `Gradient Boosting` с дефолтными параметрами. Зафисксируем случайный seed для воспроизводимости результатов."
   ]
  },
  {
   "cell_type": "code",
   "execution_count": 315,
   "metadata": {},
   "outputs": [
    {
     "name": "stdout",
     "output_type": "stream",
     "text": [
      "MSE of this model is 121.41628142959033\n",
      "Wall time: 61.9 ms\n"
     ]
    }
   ],
   "source": [
    "%%time\n",
    "\n",
    "gb = GradientBoosting(base_model_params={\"random_state\" : 42})\n",
    "gb.fit(X_train, y_train)\n",
    "print(f\"MSE of this model is {mean_squared_error(y_test, gb.predict(X_test))}\")"
   ]
  },
  {
   "cell_type": "markdown",
   "metadata": {},
   "source": [
    "Видно, что разница очень велика. Попробуем подобрать по сетке гиперпараметры:"
   ]
  },
  {
   "cell_type": "code",
   "execution_count": 347,
   "metadata": {},
   "outputs": [
    {
     "name": "stdout",
     "output_type": "stream",
     "text": [
      "Wall time: 41min 39s\n"
     ]
    }
   ],
   "source": [
    "%%time\n",
    "params = {\n",
    "    \"n_estimators\" : np.arange(10, 60, 2),\n",
    "    \"learning_rate\" : np.arange(0.1, 0.25, 0.025),\n",
    "    \"max_depth\" : np.arange(1, 7),\n",
    "    \"min_samples_leaf\" : np.arange(2, 5),\n",
    "    \"max_features\" : np.arange(1, 5)\n",
    "}\n",
    "keys = list(params.keys())\n",
    "combinations = np.array(np.meshgrid(*list(params.values()))).T.reshape(-1,5)\n",
    "best_MSE = None\n",
    "best_params = None\n",
    "for i in combinations:\n",
    "    base_model_params = dict(zip(keys[2:], i[2:].astype(int)))\n",
    "    base_model_params[\"random_state\"] = 42\n",
    "    gb = GradientBoosting(n_estimators=int(i[0]), learning_rate=i[1], base_model_params=base_model_params)\n",
    "    gb.fit(X_train, y_train)\n",
    "    mse = mean_squared_error(y_test, gb.predict(X_test))\n",
    "    if best_MSE is None:\n",
    "        best_MSE = mse\n",
    "        best_params = i\n",
    "    if mse < best_MSE:\n",
    "        best_MSE = mse\n",
    "        best_params = i"
   ]
  },
  {
   "cell_type": "markdown",
   "metadata": {},
   "source": [
    "Параметры и скор лучшей модели:"
   ]
  },
  {
   "cell_type": "code",
   "execution_count": 353,
   "metadata": {},
   "outputs": [
    {
     "name": "stdout",
     "output_type": "stream",
     "text": [
      "Parameters of the best model:\n",
      "\tn_estimators : 58.0\n",
      "\tlearning_rate : 0.15\n",
      "\tmax_depth : 6.0\n",
      "\tmin_samples_leaf : 4.0\n",
      "\tmax_features : 4.0\n",
      "MSE of the best model is 8.815345865232844\n"
     ]
    }
   ],
   "source": [
    "print(\"Parameters of the best model:\")\n",
    "for i, key in enumerate(keys):\n",
    "    print(f\"\\t{key} : {best_params[i]}\")\n",
    "print(f\"MSE of the best model is {best_MSE}\")"
   ]
  },
  {
   "cell_type": "markdown",
   "metadata": {},
   "source": [
    "В итоге, я подобрал гиперпараметры, которые победили RandomForest, хотя и кажется, что здесь randomforest лучше справляется. При переборе гиперпараметров можно было еще сделать early stopping, но я слишком поздно это понял и мне лень еще раз запускать это."
   ]
  },
  {
   "cell_type": "code",
   "execution_count": 359,
   "metadata": {},
   "outputs": [
    {
     "data": {
      "text/plain": [
       "8.815345865232844"
      ]
     },
     "execution_count": 359,
     "metadata": {},
     "output_type": "execute_result"
    }
   ],
   "source": [
    "# best model once again\n",
    "gb = GradientBoosting(n_estimators=58, learning_rate=0.15, base_model_params={'max_depth':6, \"min_samples_leaf\":4, \"max_features\":4, \"random_state\":42})\n",
    "gb.fit(X_train, y_train)\n",
    "mean_squared_error(y_test, gb.predict(X_test))"
   ]
  },
  {
   "cell_type": "code",
   "execution_count": 365,
   "metadata": {},
   "outputs": [
    {
     "data": {
      "text/plain": [
       "Text(0.5, 1.0, 'Best model train')"
      ]
     },
     "execution_count": 365,
     "metadata": {},
     "output_type": "execute_result"
    },
    {
     "data": {
      "image/png": "[encoded data removed]",
      "text/plain": [
       "<Figure size 432x288 with 1 Axes>"
      ]
     },
     "metadata": {
      "needs_background": "light"
     },
     "output_type": "display_data"
    }
   ],
   "source": [
    "from matplotlib import pyplot as plt\n",
    "plt.plot(np.arange(len(gb.errors))*2, gb.errors)\n",
    "plt.xlabel(\"n_iteration\")\n",
    "plt.ylabel('MSE on train')\n",
    "plt.title(\"Best model train\")"
   ]
  },
  {
   "cell_type": "markdown",
   "metadata": {},
   "source": [
    "### Задание 2. Сравнение подходов (1.5 балла)"
   ]
  },
  {
   "cell_type": "markdown",
   "metadata": {},
   "source": [
    "Скачайте данные о выдаче кредитов. Это данные с kaggle, целевая переменная `y` показывает, вернуло ли кредит физическое лицо."
   ]
  },
  {
   "cell_type": "code",
   "execution_count": 403,
   "metadata": {},
   "outputs": [],
   "source": [
    "!wget  -O 'bank_data.csv' -q 'https://www.dropbox.com/s/uy27mctxo0gbuof/bank_data.csv?dl=0'"
   ]
  },
  {
   "cell_type": "code",
   "execution_count": 404,
   "metadata": {},
   "outputs": [
    {
     "data": {
      "text/html": [
       "<div>\n",
       "<style scoped>\n",
       "    .dataframe tbody tr th:only-of-type {\n",
       "        vertical-align: middle;\n",
       "    }\n",
       "\n",
       "    .dataframe tbody tr th {\n",
       "        vertical-align: top;\n",
       "    }\n",
       "\n",
       "    .dataframe thead th {\n",
       "        text-align: right;\n",
       "    }\n",
       "</style>\n",
       "<table border=\"1\" class=\"dataframe\">\n",
       "  <thead>\n",
       "    <tr style=\"text-align: right;\">\n",
       "      <th></th>\n",
       "      <th>age</th>\n",
       "      <th>job</th>\n",
       "      <th>marital</th>\n",
       "      <th>education</th>\n",
       "      <th>default</th>\n",
       "      <th>housing</th>\n",
       "      <th>loan</th>\n",
       "      <th>contact</th>\n",
       "      <th>month</th>\n",
       "      <th>day_of_week</th>\n",
       "      <th>...</th>\n",
       "      <th>campaign</th>\n",
       "      <th>pdays</th>\n",
       "      <th>previous</th>\n",
       "      <th>poutcome</th>\n",
       "      <th>emp.var.rate</th>\n",
       "      <th>cons.price.idx</th>\n",
       "      <th>cons.conf.idx</th>\n",
       "      <th>euribor3m</th>\n",
       "      <th>nr.employed</th>\n",
       "      <th>y</th>\n",
       "    </tr>\n",
       "  </thead>\n",
       "  <tbody>\n",
       "    <tr>\n",
       "      <th>6043</th>\n",
       "      <td>57</td>\n",
       "      <td>admin.</td>\n",
       "      <td>single</td>\n",
       "      <td>university.degree</td>\n",
       "      <td>no</td>\n",
       "      <td>no</td>\n",
       "      <td>yes</td>\n",
       "      <td>cellular</td>\n",
       "      <td>may</td>\n",
       "      <td>mon</td>\n",
       "      <td>...</td>\n",
       "      <td>3</td>\n",
       "      <td>999</td>\n",
       "      <td>0</td>\n",
       "      <td>nonexistent</td>\n",
       "      <td>-1.8</td>\n",
       "      <td>92.893</td>\n",
       "      <td>-46.2</td>\n",
       "      <td>1.354</td>\n",
       "      <td>5099.1</td>\n",
       "      <td>1</td>\n",
       "    </tr>\n",
       "    <tr>\n",
       "      <th>6251</th>\n",
       "      <td>30</td>\n",
       "      <td>services</td>\n",
       "      <td>single</td>\n",
       "      <td>high.school</td>\n",
       "      <td>unknown</td>\n",
       "      <td>yes</td>\n",
       "      <td>no</td>\n",
       "      <td>telephone</td>\n",
       "      <td>apr</td>\n",
       "      <td>fri</td>\n",
       "      <td>...</td>\n",
       "      <td>1</td>\n",
       "      <td>999</td>\n",
       "      <td>0</td>\n",
       "      <td>nonexistent</td>\n",
       "      <td>-1.8</td>\n",
       "      <td>93.075</td>\n",
       "      <td>-47.1</td>\n",
       "      <td>1.405</td>\n",
       "      <td>5099.1</td>\n",
       "      <td>-1</td>\n",
       "    </tr>\n",
       "    <tr>\n",
       "      <th>8125</th>\n",
       "      <td>49</td>\n",
       "      <td>blue-collar</td>\n",
       "      <td>divorced</td>\n",
       "      <td>unknown</td>\n",
       "      <td>unknown</td>\n",
       "      <td>no</td>\n",
       "      <td>no</td>\n",
       "      <td>cellular</td>\n",
       "      <td>jul</td>\n",
       "      <td>wed</td>\n",
       "      <td>...</td>\n",
       "      <td>2</td>\n",
       "      <td>999</td>\n",
       "      <td>0</td>\n",
       "      <td>nonexistent</td>\n",
       "      <td>1.4</td>\n",
       "      <td>93.918</td>\n",
       "      <td>-42.7</td>\n",
       "      <td>4.957</td>\n",
       "      <td>5228.1</td>\n",
       "      <td>-1</td>\n",
       "    </tr>\n",
       "    <tr>\n",
       "      <th>8714</th>\n",
       "      <td>29</td>\n",
       "      <td>admin.</td>\n",
       "      <td>single</td>\n",
       "      <td>university.degree</td>\n",
       "      <td>no</td>\n",
       "      <td>no</td>\n",
       "      <td>yes</td>\n",
       "      <td>cellular</td>\n",
       "      <td>aug</td>\n",
       "      <td>mon</td>\n",
       "      <td>...</td>\n",
       "      <td>2</td>\n",
       "      <td>999</td>\n",
       "      <td>0</td>\n",
       "      <td>nonexistent</td>\n",
       "      <td>1.4</td>\n",
       "      <td>93.444</td>\n",
       "      <td>-36.1</td>\n",
       "      <td>4.965</td>\n",
       "      <td>5228.1</td>\n",
       "      <td>-1</td>\n",
       "    </tr>\n",
       "    <tr>\n",
       "      <th>6647</th>\n",
       "      <td>64</td>\n",
       "      <td>housemaid</td>\n",
       "      <td>married</td>\n",
       "      <td>unknown</td>\n",
       "      <td>no</td>\n",
       "      <td>yes</td>\n",
       "      <td>no</td>\n",
       "      <td>telephone</td>\n",
       "      <td>may</td>\n",
       "      <td>wed</td>\n",
       "      <td>...</td>\n",
       "      <td>3</td>\n",
       "      <td>999</td>\n",
       "      <td>0</td>\n",
       "      <td>nonexistent</td>\n",
       "      <td>-1.8</td>\n",
       "      <td>93.876</td>\n",
       "      <td>-40.0</td>\n",
       "      <td>0.697</td>\n",
       "      <td>5008.7</td>\n",
       "      <td>1</td>\n",
       "    </tr>\n",
       "  </tbody>\n",
       "</table>\n",
       "<p>5 rows × 21 columns</p>\n",
       "</div>"
      ],
      "text/plain": [
       "      age          job   marital          education  default housing loan  \\\n",
       "6043   57       admin.    single  university.degree       no      no  yes   \n",
       "6251   30     services    single        high.school  unknown     yes   no   \n",
       "8125   49  blue-collar  divorced            unknown  unknown      no   no   \n",
       "8714   29       admin.    single  university.degree       no      no  yes   \n",
       "6647   64    housemaid   married            unknown       no     yes   no   \n",
       "\n",
       "        contact month day_of_week  ...  campaign  pdays  previous  \\\n",
       "6043   cellular   may         mon  ...         3    999         0   \n",
       "6251  telephone   apr         fri  ...         1    999         0   \n",
       "8125   cellular   jul         wed  ...         2    999         0   \n",
       "8714   cellular   aug         mon  ...         2    999         0   \n",
       "6647  telephone   may         wed  ...         3    999         0   \n",
       "\n",
       "         poutcome emp.var.rate  cons.price.idx  cons.conf.idx  euribor3m  \\\n",
       "6043  nonexistent         -1.8          92.893          -46.2      1.354   \n",
       "6251  nonexistent         -1.8          93.075          -47.1      1.405   \n",
       "8125  nonexistent          1.4          93.918          -42.7      4.957   \n",
       "8714  nonexistent          1.4          93.444          -36.1      4.965   \n",
       "6647  nonexistent         -1.8          93.876          -40.0      0.697   \n",
       "\n",
       "      nr.employed  y  \n",
       "6043       5099.1  1  \n",
       "6251       5099.1 -1  \n",
       "8125       5228.1 -1  \n",
       "8714       5228.1 -1  \n",
       "6647       5008.7  1  \n",
       "\n",
       "[5 rows x 21 columns]"
      ]
     },
     "execution_count": 404,
     "metadata": {},
     "output_type": "execute_result"
    }
   ],
   "source": [
    "df = pd.read_csv('bank_data.csv')\n",
    "df.sample(5)"
   ]
  },
  {
   "cell_type": "markdown",
   "metadata": {},
   "source": [
    "Решите задачу предсказания возвращения кредита методами, перечисленными ниже:\n",
    "\n",
    "- Случайный лес\n",
    "- Бэггинг на деревьях (поставьте для базовых деревьев min_samples_leaf=1)\n",
    "- Бэггинг, у которого базовой моделью является бустинг с большим числом деревьев (> 100)\n",
    "- Бэггинг на логистических регрессиях\n",
    "\n",
    "Используйте логистическую регрессию, случайный лес, `GradientBoostingClassifier` и `BaggingClassifier` из `sklearn`.\n",
    "\n",
    "1) Какая из моделей имеет лучшее качество? С чем это связано?\n",
    "\n",
    "2) Какая из моделей сильнее всего переобучается?\n"
   ]
  },
  {
   "cell_type": "markdown",
   "metadata": {},
   "source": [
    "### Задание 3. Современные бустинги (1.5 балла)\n",
    "\n",
    "Сравните на этих данных любую из трёх популярных имплементаций градиентного бустинга (xgboost, lightgbm, catboost). Подберите основные гиперпараметры (число деревьев, длина шага, глубина дерева/число листьев). Получилось ли круче, чем с моделями выше?"
   ]
  },
  {
   "cell_type": "markdown",
   "metadata": {},
   "source": [
    "### Бонус (0.1 балла)\n",
    "\n",
    "Прикрепите сюда что-нибудь для новогоднего настроения 👒"
   ]
  },
  {
   "cell_type": "code",
   "execution_count": null,
   "metadata": {},
   "outputs": [],
   "source": [
    "# сюда"
   ]
  }
 ],
 "metadata": {
  "colab": {
   "collapsed_sections": [],
   "name": "hw8-boosting-clustering.ipynb",
   "provenance": [],
   "toc_visible": true
  },
  "kernelspec": {
   "display_name": "Python 3",
   "language": "python",
   "name": "python3"
  },
  "language_info": {
   "codemirror_mode": {
    "name": "ipython",
    "version": 3
   },
   "file_extension": ".py",
   "mimetype": "text/x-python",
   "name": "python",
   "nbconvert_exporter": "python",
   "pygments_lexer": "ipython3",
   "version": "3.8.8"
  }
 },
 "nbformat": 4,
 "nbformat_minor": 1
}
