{
 "cells": [
  {
   "cell_type": "markdown",
   "metadata": {},
   "source": [
    "# Домашняя работа 3. Задача классификации\n",
    "\n",
    "~~*Дедлайн мягкий как облачко: 1 ноября, 21:00*~~\n",
    "\n",
    "~~*Дедлайн жесткий как неспелая хурма: 5 ноября, 21:00*~~\n",
    "\n",
    "*Дедлайн унылый как Асино настроение: 6 ноября, 21:00* (жесткий и единственный, без снятия баллов)"
   ]
  },
  {
   "cell_type": "markdown",
   "metadata": {},
   "source": [
    "### Оценивание и штрафы\n",
    "\n",
    "Максимальная оценка — 10 баллов. Еще есть 2 бонусных балла, которые можно добавить к любым домашкам или проверочным.\n",
    "\n",
    "Не списывайте, иначе всем участникам обнулим :)"
   ]
  },
  {
   "cell_type": "markdown",
   "metadata": {},
   "source": [
    "Для удобства проверки самостоятельно посчитайте свою максимальную оценку (исходя из набора решенных задач) и укажите ниже.\n",
    "\n",
    "**Оценка: ...** 10 + 1 бонусный"
   ]
  },
  {
   "cell_type": "code",
   "execution_count": 1,
   "metadata": {},
   "outputs": [
    {
     "name": "stdout",
     "output_type": "stream",
     "text": [
      "Всем удачи!👒\n"
     ]
    }
   ],
   "source": [
    "print('Всем удачи!👒')"
   ]
  },
  {
   "cell_type": "code",
   "execution_count": 2,
   "metadata": {},
   "outputs": [],
   "source": [
    "from __future__ import annotations\n",
    "\n",
    "import numpy as np\n",
    "import pandas as pd\n",
    "import matplotlib.pyplot as plt\n",
    "%matplotlib inline\n",
    "\n",
    "pd.set_option('display.max_rows', 100)\n",
    "pd.set_option('display.max_columns', 100)"
   ]
  },
  {
   "cell_type": "markdown",
   "metadata": {},
   "source": [
    "## Часть 1. Логрег своими руками (4.5 балла)"
   ]
  },
  {
   "cell_type": "markdown",
   "metadata": {},
   "source": [
    "**Задание 1 (4 балла)**. Реализуйте логистическую регрессию, обучаемую с помощью:\n",
    "- градиентного спуска **(2 балла)**\n",
    "\n",
    "- стохастического градиентного спуска **(2 балла)**\n",
    "\n",
    "Во всех пунктах необходимо соблюдать два условия:\n",
    "- Циклы можно использовать только для итераций градиентного спуска;\n",
    "- В качестве критерия останова необходимо использовать (одновременно):\n",
    "\n",
    "    - проверку на евклидову норму разности весов на двух соседних итерациях (например, меньше некоторого малого числа порядка $10^{-6}$), задаваемого параметром `tolerance`;\n",
    "    - достижение максимального числа итераций (например, 10000), задаваемого параметром `max_iter`.\n",
    "\n",
    "Чтобы проследить, что оптимизационный процесс действительно сходится, добавим атрибут класса `loss_history`. В нём после вызова метода `fit` должны содержаться значения функции потерь для всех итераций градиентного спуска, начиная с нулевой.\n",
    "\n",
    "Инициализировать веса можно случайным образом или нулевым вектором."
   ]
  },
  {
   "cell_type": "code",
   "execution_count": 3,
   "metadata": {},
   "outputs": [],
   "source": [
    "from sklearn.base import BaseEstimator\n",
    "from numpy.linalg import norm\n",
    "from collections import Counter\n",
    "from numpy import log\n",
    "\n",
    "class LogReg(BaseEstimator):\n",
    "    def __init__(self, gd_type: str = 'stochastic', batch_size: int = 1, tolerance: float = 1e-4, \n",
    "                 max_iter: int = 1000, eta: float = 1e-2,\n",
    "                 w0: np.array = None) -> None:\n",
    "        \"\"\"\n",
    "        Args:\n",
    "          gd_type: Type of gradient descent ('full' or 'stochastic'). \n",
    "          \n",
    "          tolerance: Threshold for stopping gradient descent.\n",
    "          \n",
    "          max_iter: Maximum number of steps in gradient descent.\n",
    "          \n",
    "          eta: Learning rate.\n",
    "          \n",
    "          w0: Array of shape d (d — number of weights to optimize).\n",
    "              Initial weights.\n",
    "        \"\"\"\n",
    "        self.gd_type = gd_type\n",
    "        self.batch_size = batch_size\n",
    "        self.tolerance = tolerance\n",
    "        self.max_iter = max_iter\n",
    "        self.eta = eta\n",
    "        self.w0 = w0\n",
    "        self.w = None\n",
    "        self.loss_history = None\n",
    "    \n",
    "    def fit(self, X: np.array, y: np.array) -> LogReg:\n",
    "        \"\"\"Fit the model on training data. Also, save value of loss after each iteration.\n",
    "        \n",
    "        Args:\n",
    "          X: Training data.\n",
    "          \n",
    "          y: Target.\n",
    "        \n",
    "        Returns: \n",
    "          self: Fitted classsifier.  \n",
    "        \"\"\"\n",
    "        self.loss_history = []\n",
    "        #╰( ͡° ͜ʖ ͡° )つ──☆*:・ﾟ\n",
    "        if self.w0 is None:\n",
    "            self.w0 = np.zeros(X.shape[1])\n",
    "              \n",
    "        self.w = self.w0\n",
    "            \n",
    "        \n",
    "        for i in range(self.max_iter):\n",
    "            if self.gd_type == \"stochastic\":\n",
    "                indices = np.random.randint(0, X.shape[0], self.batch_size)\n",
    "            else:\n",
    "                indices = np.arange(X.shape[0])\n",
    "            gradient = self.calc_gradient(X[indices], y[indices])\n",
    "            w = self.w + self.eta*gradient\n",
    "            self.loss_history.append(self.calc_loss(X,y,w))\n",
    "            if norm(w-self.w) < self.tolerance:\n",
    "                break\n",
    "            self.w = w\n",
    "        self.gradient = self.calc_gradient(X, y)\n",
    "        return self\n",
    "    \n",
    "    \n",
    "    def predict_proba(self, X: np.array) -> np.array:\n",
    "        \"\"\"Calculate probability of positive and negative class for each observation.\n",
    "        \n",
    "        Args:\n",
    "          X: Array of shape (n, d).\n",
    "             Data.\n",
    "        \n",
    "        Returns: \n",
    "             Array of shape (n, 2).\n",
    "             Predicted probabilities.\n",
    "        \"\"\"\n",
    "        if self.w is None:\n",
    "            raise Exception('Not trained yet')\n",
    "        #╰( ͡° ͜ʖ ͡° )つ──☆*:・ﾟ\n",
    "        sigmoid = lambda m: 1/(1+np.exp(-m))\n",
    "        proba = lambda x: np.array([1 - sigmoid(x), sigmoid(x)])\n",
    "        return proba(X@self.w).T\n",
    "    \n",
    "    \n",
    "    def predict(self, X: np.array) -> np.array:\n",
    "        \"\"\"Predict class for each observation.\n",
    "        \n",
    "        Args:\n",
    "          X: Array of shape (n, d).\n",
    "             Data.\n",
    "        \n",
    "        Returns: \n",
    "             Array of shape (n,).\n",
    "             Predicted class labels.  \n",
    "        \"\"\"\n",
    "        if self.w is None:\n",
    "            raise Exception('Not trained yet')\n",
    "        #╰( ͡° ͜ʖ ͡° )つ──☆*:・ﾟ\n",
    "        sigmoid = lambda m: 1/(1+np.exp(-m))   \n",
    "        return (sigmoid(X@self.w)>0.5).astype(int)\n",
    "        \n",
    "    \n",
    "    def calc_gradient(self, X: np.array, y: np.array) -> np.array:\n",
    "        \"\"\"Calculate gradient of loss function after each iteration.\n",
    "        \n",
    "        Args:\n",
    "          X: Array of shape (n, d), n can be equal to 1 if 'stochastic'.\n",
    "          y: Array of shape (n,).\n",
    "        \n",
    "        Returns:\n",
    "          Array of shape (d,).\n",
    "          Gradient of loss function after current iteration.\n",
    "        \"\"\"\n",
    "        #╰( ͡° ͜ʖ ͡° )つ──☆*:・ﾟ\n",
    "        sigmoid = lambda m: 1/(1+np.exp(-m))\n",
    "        return np.sum((y - sigmoid(X@self.w))[:, None]*X, axis = 0)/X.shape[0]\n",
    "\n",
    "    def calc_loss(self, X: np.array, y: np.array, w: np.array) -> float:\n",
    "        \"\"\"Calculate value of loss function after each iteration.\n",
    "        \n",
    "        Args:\n",
    "          X: Array of shape (n, d).\n",
    "          y: Array of shape (n,).\n",
    "        \n",
    "        Returns:\n",
    "          Value of loss function after current iteration.\n",
    "        \"\"\" \n",
    "        #╰( ͡° ͜ʖ ͡° )つ──☆*:・ﾟ\n",
    "        n = X.shape[0]\n",
    "        return -np.sum(y*np.log(self.predict_proba(X)[:, 1])+(1-y)*np.log(1 - self.predict_proba(X)[:, 1]))/n"
   ]
  },
  {
   "cell_type": "markdown",
   "metadata": {},
   "source": [
    "Далее предполагается, что вы используете собственную реализацию логистической регрессии.\n",
    "Если с написанием класса возникли проблемы, используйте реализацию sklearn, чтобы не терять баллы за остальные задания.\n",
    "\n",
    "В части 2 и далее я бы всем советовала использовать реализацию sklearn."
   ]
  },
  {
   "cell_type": "markdown",
   "metadata": {},
   "source": [
    "Сгенерируем синтетические данные."
   ]
  },
  {
   "cell_type": "code",
   "execution_count": 4,
   "metadata": {},
   "outputs": [],
   "source": [
    "from sklearn.datasets import make_classification\n",
    "from sklearn.model_selection import train_test_split\n",
    "\n",
    "X, y = make_classification(\n",
    "    n_samples=10000, n_features=10, n_informative=5, n_redundant=5,\n",
    "    random_state=42)\n",
    "\n",
    "X_train, X_test, y_train, y_test = train_test_split(\n",
    "    X, y, test_size=0.3, random_state=42)"
   ]
  },
  {
   "cell_type": "markdown",
   "metadata": {},
   "source": [
    "**Задание 2 (0.5 балла).** Обучите логистическую регрессию на синтетических данных. Нарисуйте изменение лосса во время обучения."
   ]
  },
  {
   "cell_type": "code",
   "execution_count": 5,
   "metadata": {},
   "outputs": [],
   "source": [
    "def auc(X, y):\n",
    "    deltas = abs(X[1:]-X[:-1])\n",
    "    ys = (y[:-1] + y[1:])/2\n",
    "    return np.sum(deltas * ys)"
   ]
  },
  {
   "cell_type": "code",
   "execution_count": 6,
   "metadata": {},
   "outputs": [],
   "source": [
    "### ╰( ͡° ͜ʖ ͡° )つ──☆*:・ﾟ\n",
    "log_reg = LogReg().fit(X_train, y_train)"
   ]
  },
  {
   "cell_type": "code",
   "execution_count": 7,
   "metadata": {},
   "outputs": [
    {
     "data": {
      "text/plain": [
       "[<matplotlib.lines.Line2D at 0x1f62526a820>]"
      ]
     },
     "execution_count": 7,
     "metadata": {},
     "output_type": "execute_result"
    },
    {
     "data": {
      "image/png": "[encoded data removed]",
      "text/plain": [
       "<Figure size 576x432 with 1 Axes>"
      ]
     },
     "metadata": {
      "needs_background": "light"
     },
     "output_type": "display_data"
    }
   ],
   "source": [
    "plt.figure(figsize=(8, 6))\n",
    "plt.style.use('seaborn')\n",
    "plt.xlabel('Iterations')\n",
    "plt.ylabel('Log Loss')\n",
    "plt.title('Log Loss History (stochastic)')\n",
    "plt.plot(np.arange(len(log_reg.loss_history)), log_reg.loss_history)"
   ]
  },
  {
   "cell_type": "code",
   "execution_count": 8,
   "metadata": {},
   "outputs": [
    {
     "data": {
      "text/plain": [
       "[<matplotlib.lines.Line2D at 0x1f62534c7f0>]"
      ]
     },
     "execution_count": 8,
     "metadata": {},
     "output_type": "execute_result"
    },
    {
     "data": {
      "image/png": "[encoded data removed]",
      "text/plain": [
       "<Figure size 576x432 with 1 Axes>"
      ]
     },
     "metadata": {},
     "output_type": "display_data"
    }
   ],
   "source": [
    "plt.figure(figsize=(8, 6))\n",
    "plt.style.use('seaborn')\n",
    "plt.xlabel('Iterations')\n",
    "plt.ylabel('Log Loss')\n",
    "plt.title('Log Loss History (full)')\n",
    "log_reg = LogReg(gd_type='full').fit(X_train, y_train)\n",
    "plt.plot(np.arange(len(log_reg.loss_history)), log_reg.loss_history)"
   ]
  },
  {
   "cell_type": "markdown",
   "metadata": {},
   "source": [
    "На тестовой части посчитайте ROC-AUC, PR-AUC. Постройте ROC и PR кривые."
   ]
  },
  {
   "cell_type": "code",
   "execution_count": 9,
   "metadata": {},
   "outputs": [],
   "source": [
    "### ╰( ͡° ͜ʖ ͡° )つ──☆*:・ﾟ\n",
    "m = log_reg.predict_proba(X_test)\n",
    "m[:, 0] = y_test\n",
    "m = m[np.flip(m[:, 1].argsort()), :][:, 0]"
   ]
  },
  {
   "cell_type": "code",
   "execution_count": 10,
   "metadata": {},
   "outputs": [],
   "source": [
    "a = np.tril(np.ones((m.shape[0]+1, m.shape[0])), k=-1).T"
   ]
  },
  {
   "cell_type": "code",
   "execution_count": 11,
   "metadata": {},
   "outputs": [],
   "source": [
    "l1 = np.sum(m).astype(int)\n",
    "l0 = len(m) - l1"
   ]
  },
  {
   "cell_type": "code",
   "execution_count": 12,
   "metadata": {},
   "outputs": [],
   "source": [
    "b = np.where((m[:, None]-a == -1), np.ones(a.shape), np.zeros(a.shape))"
   ]
  },
  {
   "cell_type": "code",
   "execution_count": 13,
   "metadata": {},
   "outputs": [],
   "source": [
    "TPR = np.sum(m[:, None]*a,0)/l1\n",
    "FPR = np.sum(b, 0)/l0"
   ]
  },
  {
   "cell_type": "code",
   "execution_count": 14,
   "metadata": {},
   "outputs": [
    {
     "data": {
      "text/plain": [
       "[<matplotlib.lines.Line2D at 0x1f6253bae20>]"
      ]
     },
     "execution_count": 14,
     "metadata": {},
     "output_type": "execute_result"
    },
    {
     "data": {
      "image/png": "[encoded data removed]",
      "text/plain": [
       "<Figure size 576x432 with 1 Axes>"
      ]
     },
     "metadata": {},
     "output_type": "display_data"
    }
   ],
   "source": [
    "plt.figure(figsize=(8, 6))\n",
    "plt.style.use('seaborn')\n",
    "plt.xlabel('FPR')\n",
    "plt.ylabel('TPR')\n",
    "plt.title('ROC AUC')\n",
    "plt.plot(FPR, TPR)"
   ]
  },
  {
   "cell_type": "code",
   "execution_count": 15,
   "metadata": {
    "scrolled": true
   },
   "outputs": [
    {
     "name": "stdout",
     "output_type": "stream",
     "text": [
      "Logistic regression roc_auc_score is 0.845350358334915\n"
     ]
    }
   ],
   "source": [
    "log_reg_roc_auc_score = auc(FPR, TPR)\n",
    "print(f\"Logistic regression roc_auc_score is {log_reg_roc_auc_score}\")"
   ]
  },
  {
   "cell_type": "code",
   "execution_count": 16,
   "metadata": {},
   "outputs": [],
   "source": [
    "PR = np.sum(m[:, None]*a,0)[1:]/np.sum(a,axis = 0)[1:]\n",
    "PR = np.insert(PR, 0, 1)\n",
    "RC = TPR"
   ]
  },
  {
   "cell_type": "code",
   "execution_count": 17,
   "metadata": {},
   "outputs": [
    {
     "data": {
      "text/plain": [
       "[<matplotlib.lines.Line2D at 0x1f625416f10>]"
      ]
     },
     "execution_count": 17,
     "metadata": {},
     "output_type": "execute_result"
    },
    {
     "data": {
      "image/png": "[encoded data removed]",
      "text/plain": [
       "<Figure size 576x432 with 1 Axes>"
      ]
     },
     "metadata": {},
     "output_type": "display_data"
    }
   ],
   "source": [
    "plt.figure(figsize=(8, 6))\n",
    "plt.style.use('seaborn')\n",
    "plt.xlabel('Recall')\n",
    "plt.ylabel('Precision')\n",
    "plt.title('AUC PR')\n",
    "plt.xlim([-0.01, 1.01])\n",
    "plt.ylim([-0.01, 1.01])\n",
    "plt.plot(RC, PR)"
   ]
  },
  {
   "cell_type": "code",
   "execution_count": 18,
   "metadata": {},
   "outputs": [
    {
     "name": "stdout",
     "output_type": "stream",
     "text": [
      "Logistic regression pr_auc_score is 0.8200545623773303\n"
     ]
    }
   ],
   "source": [
    "pr_auc_score = auc(RC, PR)\n",
    "print(f\"Logistic regression pr_auc_score is {pr_auc_score}\")"
   ]
  },
  {
   "cell_type": "markdown",
   "metadata": {},
   "source": [
    "## Часть 2. Работа с категориальными признаками (2.5 балла)"
   ]
  },
  {
   "cell_type": "markdown",
   "metadata": {},
   "source": [
    "В этой части мы научимся обрабатывать категориальные переменные. Как вы уже знаете, закодировать их в виде столбика чисел недостаточно (это задаёт некоторый порядок, которого на категориальных переменных может и не быть, но модель попробует его выучить). Существует два основных способа обработки категориальных значений:\n",
    "- One-hot-кодирование\n",
    "- Счётчики (CTR, mean-target кодирование, ...) — каждый категориальный признак заменяется на среднее значение целевой переменной по всем объектам, имеющим одинаковое значение в этом признаке.\n",
    "\n",
    "Начнём с one-hot-кодирования. Допустим наш категориальный признак $f_j(x)$ принимает значения из множества $C=\\{c_1, \\dots, c_m\\}$. Заменим его на $m$ бинарных признаков $b_1(x), \\dots, b_m(x)$, каждый из которых является индикатором одного из возможных категориальных значений:\n",
    "$$\n",
    "b_i(x) = [f_j(x) = c_i]\n",
    "$$"
   ]
  },
  {
   "cell_type": "markdown",
   "metadata": {},
   "source": [
    "__Подготовка данных.__\n",
    "\n",
    "Загрузим данные [UCI Bank Marketing Dataset](https://archive.ics.uci.edu/ml/datasets/bank+marketing). Этот датасет содержит информацию о маркетинговой кампании какого-то банка, объектом в нем является телефонный звонок потенциальному клиенту с предложением некоторой услуги (утверждается, что это краткосрочный депозит), целевой переменной — ответ клиента (согласился ли он открыть депозит?). В качестве признакового описания используются характеристики клиента (образование, брак и т.д.), данные о звонке и различные экономические индикаторы — более подробная информация на страничке с датасетом."
   ]
  },
  {
   "cell_type": "code",
   "execution_count": 19,
   "metadata": {},
   "outputs": [],
   "source": [
    "#!wget https://archive.ics.uci.edu/ml/machine-learning-databases/00222/bank-additional.zip\n",
    "#!unzip bank-additional.zip\n",
    "df = pd.read_csv('bank-additional/bank-additional-full.csv', sep=';')"
   ]
  },
  {
   "cell_type": "code",
   "execution_count": 20,
   "metadata": {
    "scrolled": false
   },
   "outputs": [
    {
     "data": {
      "text/html": [
       "<div>\n",
       "<style scoped>\n",
       "    .dataframe tbody tr th:only-of-type {\n",
       "        vertical-align: middle;\n",
       "    }\n",
       "\n",
       "    .dataframe tbody tr th {\n",
       "        vertical-align: top;\n",
       "    }\n",
       "\n",
       "    .dataframe thead th {\n",
       "        text-align: right;\n",
       "    }\n",
       "</style>\n",
       "<table border=\"1\" class=\"dataframe\">\n",
       "  <thead>\n",
       "    <tr style=\"text-align: right;\">\n",
       "      <th></th>\n",
       "      <th>age</th>\n",
       "      <th>job</th>\n",
       "      <th>marital</th>\n",
       "      <th>education</th>\n",
       "      <th>default</th>\n",
       "      <th>housing</th>\n",
       "      <th>loan</th>\n",
       "      <th>contact</th>\n",
       "      <th>month</th>\n",
       "      <th>day_of_week</th>\n",
       "      <th>duration</th>\n",
       "      <th>campaign</th>\n",
       "      <th>pdays</th>\n",
       "      <th>previous</th>\n",
       "      <th>poutcome</th>\n",
       "      <th>emp.var.rate</th>\n",
       "      <th>cons.price.idx</th>\n",
       "      <th>cons.conf.idx</th>\n",
       "      <th>euribor3m</th>\n",
       "      <th>nr.employed</th>\n",
       "      <th>y</th>\n",
       "    </tr>\n",
       "  </thead>\n",
       "  <tbody>\n",
       "    <tr>\n",
       "      <th>0</th>\n",
       "      <td>56</td>\n",
       "      <td>housemaid</td>\n",
       "      <td>married</td>\n",
       "      <td>basic.4y</td>\n",
       "      <td>no</td>\n",
       "      <td>no</td>\n",
       "      <td>no</td>\n",
       "      <td>telephone</td>\n",
       "      <td>may</td>\n",
       "      <td>mon</td>\n",
       "      <td>261</td>\n",
       "      <td>1</td>\n",
       "      <td>999</td>\n",
       "      <td>0</td>\n",
       "      <td>nonexistent</td>\n",
       "      <td>1.1</td>\n",
       "      <td>93.994</td>\n",
       "      <td>-36.4</td>\n",
       "      <td>4.857</td>\n",
       "      <td>5191.0</td>\n",
       "      <td>no</td>\n",
       "    </tr>\n",
       "    <tr>\n",
       "      <th>1</th>\n",
       "      <td>57</td>\n",
       "      <td>services</td>\n",
       "      <td>married</td>\n",
       "      <td>high.school</td>\n",
       "      <td>unknown</td>\n",
       "      <td>no</td>\n",
       "      <td>no</td>\n",
       "      <td>telephone</td>\n",
       "      <td>may</td>\n",
       "      <td>mon</td>\n",
       "      <td>149</td>\n",
       "      <td>1</td>\n",
       "      <td>999</td>\n",
       "      <td>0</td>\n",
       "      <td>nonexistent</td>\n",
       "      <td>1.1</td>\n",
       "      <td>93.994</td>\n",
       "      <td>-36.4</td>\n",
       "      <td>4.857</td>\n",
       "      <td>5191.0</td>\n",
       "      <td>no</td>\n",
       "    </tr>\n",
       "    <tr>\n",
       "      <th>2</th>\n",
       "      <td>37</td>\n",
       "      <td>services</td>\n",
       "      <td>married</td>\n",
       "      <td>high.school</td>\n",
       "      <td>no</td>\n",
       "      <td>yes</td>\n",
       "      <td>no</td>\n",
       "      <td>telephone</td>\n",
       "      <td>may</td>\n",
       "      <td>mon</td>\n",
       "      <td>226</td>\n",
       "      <td>1</td>\n",
       "      <td>999</td>\n",
       "      <td>0</td>\n",
       "      <td>nonexistent</td>\n",
       "      <td>1.1</td>\n",
       "      <td>93.994</td>\n",
       "      <td>-36.4</td>\n",
       "      <td>4.857</td>\n",
       "      <td>5191.0</td>\n",
       "      <td>no</td>\n",
       "    </tr>\n",
       "    <tr>\n",
       "      <th>3</th>\n",
       "      <td>40</td>\n",
       "      <td>admin.</td>\n",
       "      <td>married</td>\n",
       "      <td>basic.6y</td>\n",
       "      <td>no</td>\n",
       "      <td>no</td>\n",
       "      <td>no</td>\n",
       "      <td>telephone</td>\n",
       "      <td>may</td>\n",
       "      <td>mon</td>\n",
       "      <td>151</td>\n",
       "      <td>1</td>\n",
       "      <td>999</td>\n",
       "      <td>0</td>\n",
       "      <td>nonexistent</td>\n",
       "      <td>1.1</td>\n",
       "      <td>93.994</td>\n",
       "      <td>-36.4</td>\n",
       "      <td>4.857</td>\n",
       "      <td>5191.0</td>\n",
       "      <td>no</td>\n",
       "    </tr>\n",
       "    <tr>\n",
       "      <th>4</th>\n",
       "      <td>56</td>\n",
       "      <td>services</td>\n",
       "      <td>married</td>\n",
       "      <td>high.school</td>\n",
       "      <td>no</td>\n",
       "      <td>no</td>\n",
       "      <td>yes</td>\n",
       "      <td>telephone</td>\n",
       "      <td>may</td>\n",
       "      <td>mon</td>\n",
       "      <td>307</td>\n",
       "      <td>1</td>\n",
       "      <td>999</td>\n",
       "      <td>0</td>\n",
       "      <td>nonexistent</td>\n",
       "      <td>1.1</td>\n",
       "      <td>93.994</td>\n",
       "      <td>-36.4</td>\n",
       "      <td>4.857</td>\n",
       "      <td>5191.0</td>\n",
       "      <td>no</td>\n",
       "    </tr>\n",
       "  </tbody>\n",
       "</table>\n",
       "</div>"
      ],
      "text/plain": [
       "   age        job  marital    education  default housing loan    contact  \\\n",
       "0   56  housemaid  married     basic.4y       no      no   no  telephone   \n",
       "1   57   services  married  high.school  unknown      no   no  telephone   \n",
       "2   37   services  married  high.school       no     yes   no  telephone   \n",
       "3   40     admin.  married     basic.6y       no      no   no  telephone   \n",
       "4   56   services  married  high.school       no      no  yes  telephone   \n",
       "\n",
       "  month day_of_week  duration  campaign  pdays  previous     poutcome  \\\n",
       "0   may         mon       261         1    999         0  nonexistent   \n",
       "1   may         mon       149         1    999         0  nonexistent   \n",
       "2   may         mon       226         1    999         0  nonexistent   \n",
       "3   may         mon       151         1    999         0  nonexistent   \n",
       "4   may         mon       307         1    999         0  nonexistent   \n",
       "\n",
       "   emp.var.rate  cons.price.idx  cons.conf.idx  euribor3m  nr.employed   y  \n",
       "0           1.1          93.994          -36.4      4.857       5191.0  no  \n",
       "1           1.1          93.994          -36.4      4.857       5191.0  no  \n",
       "2           1.1          93.994          -36.4      4.857       5191.0  no  \n",
       "3           1.1          93.994          -36.4      4.857       5191.0  no  \n",
       "4           1.1          93.994          -36.4      4.857       5191.0  no  "
      ]
     },
     "execution_count": 20,
     "metadata": {},
     "output_type": "execute_result"
    }
   ],
   "source": [
    "df.head()"
   ]
  },
  {
   "cell_type": "markdown",
   "metadata": {},
   "source": [
    "__Задание 3 (0.5 балла).__ Разделите выборку на обучающую и тестовую в соотношении 3:1. Зафиксируйте `random_state=777`, укажите значение параметра `stratify`. Один из столбцов (помимо таргета :) ) стоит сразу выкинуть из обучающей выборки. Какой? Не отказывайте себе. \n",
    "\n"
   ]
  },
  {
   "cell_type": "code",
   "execution_count": 21,
   "metadata": {},
   "outputs": [],
   "source": [
    "#╰( ͡° ͜ʖ ͡° )つ──☆*:・ﾟ\n",
    "X = df.drop(columns = ['y', 'duration']).to_numpy()\n",
    "y = df.y.to_numpy()\n",
    "X_train, X_test, y_train, y_test = train_test_split(\n",
    "    X, y, test_size=0.25, random_state=777, stratify=y)"
   ]
  },
  {
   "cell_type": "markdown",
   "metadata": {},
   "source": [
    "Я решил выкинуть переменную `duration`."
   ]
  },
  {
   "cell_type": "code",
   "execution_count": 22,
   "metadata": {},
   "outputs": [
    {
     "data": {
      "text/plain": [
       "Counter({'no': 36548, 'yes': 4640})"
      ]
     },
     "execution_count": 22,
     "metadata": {},
     "output_type": "execute_result"
    }
   ],
   "source": [
    "Counter(y)"
   ]
  },
  {
   "cell_type": "markdown",
   "metadata": {},
   "source": [
    "Закодируйте категориальные признаки с помощью `OrdinalEncoder`. Посчитайте качество (в этом задании будем работать c `AUC-PR`) при применении логистической регрессии. Здесь и далее для реализации последовательности этих действий (обработка признаков + обучение модели) используйте пайплайны. Замерьте время, потребовавшееся на обучение модели (с учетом кодирования признаков).\n",
    "\n",
    "__Вопрос__: почему в данном задании мы выбрали метрикой именно `AUC-PR`, а не, к примеру, `AUC-ROC`?\n",
    "\n",
    "__Ваш ответ__: классы несбалансированны, отрицательного класса много больше, чем положительного. Компания больше беспокится о положительном классе, так как ей хочется понять, как продавать больше услуг. `AUC-PR` - хорошая метрика, чтобы учитывать больше улучшение на положительном классе, в то время, как `AUC-ROC` - более сбалансирования метрика."
   ]
  },
  {
   "cell_type": "code",
   "execution_count": 23,
   "metadata": {},
   "outputs": [],
   "source": [
    "#╰( ͡° ͜ʖ ͡° )つ──☆*:・ﾟ\n",
    "from sklearn.linear_model import LogisticRegression\n",
    "from sklearn.preprocessing import OrdinalEncoder, StandardScaler\n",
    "from sklearn.pipeline import Pipeline\n",
    "from sklearn.metrics import precision_recall_curve, auc\n",
    "\n",
    "def auc_pr(model, X_test, y_test):\n",
    "    precision, recall, thresholds = precision_recall_curve(y_test, model.predict_proba(X_test)[:, 1], pos_label=\"yes\")\n",
    "    print(f\"AUC PR score is {auc(recall, precision)}\") \n",
    "\n",
    "categorical_features = [1,2,3,4,5,6,7,8,9,13]\n",
    "numeric_features = list(set(np.arange(19)) - set(categorical_features))"
   ]
  },
  {
   "cell_type": "code",
   "execution_count": 24,
   "metadata": {
    "scrolled": true
   },
   "outputs": [],
   "source": [
    "from sklearn.compose import ColumnTransformer\n",
    "preprocessor = ColumnTransformer(transformers=[\n",
    "    (\"num\", StandardScaler(), numeric_features),\n",
    "    (\"cat\", OrdinalEncoder(handle_unknown='use_encoded_value', unknown_value=-1), categorical_features)])"
   ]
  },
  {
   "cell_type": "code",
   "execution_count": 25,
   "metadata": {},
   "outputs": [
    {
     "name": "stdout",
     "output_type": "stream",
     "text": [
      "Wall time: 387 ms\n"
     ]
    },
    {
     "data": {
      "text/plain": [
       "Pipeline(steps=[('preprocessor',\n",
       "                 ColumnTransformer(transformers=[('num', StandardScaler(),\n",
       "                                                  [0, 10, 11, 12, 14, 15, 16,\n",
       "                                                   17, 18]),\n",
       "                                                 ('cat',\n",
       "                                                  OrdinalEncoder(handle_unknown='use_encoded_value',\n",
       "                                                                 unknown_value=-1),\n",
       "                                                  [1, 2, 3, 4, 5, 6, 7, 8, 9,\n",
       "                                                   13])])),\n",
       "                ('log_reg', LogisticRegression(max_iter=1000))])"
      ]
     },
     "execution_count": 25,
     "metadata": {},
     "output_type": "execute_result"
    }
   ],
   "source": [
    "%%time\n",
    "pipeline = Pipeline([(\"preprocessor\", preprocessor), ('log_reg', LogisticRegression(max_iter = 1000))])\n",
    "pipeline.fit(X_train, y_train)"
   ]
  },
  {
   "cell_type": "code",
   "execution_count": 26,
   "metadata": {},
   "outputs": [
    {
     "name": "stdout",
     "output_type": "stream",
     "text": [
      "AUC PR score is 0.4418780493607445\n"
     ]
    }
   ],
   "source": [
    "auc_pr(pipeline, X_test, y_test)"
   ]
  },
  {
   "cell_type": "markdown",
   "metadata": {},
   "source": [
    "__Задание 4 (0.5 балла).__ Закодируйте все категориальные признаки с помощью one-hot-кодирования. Обучите логистическую регрессию и посмотрите, как изменилось качество модели. Измерьте время, потребовавшееся на кодирование категориальных признаков и обучение модели.\n",
    "\n"
   ]
  },
  {
   "cell_type": "code",
   "execution_count": 27,
   "metadata": {},
   "outputs": [],
   "source": [
    "#╰( ͡° ͜ʖ ͡° )つ──☆*:・ﾟ\n",
    "from sklearn.preprocessing import OneHotEncoder"
   ]
  },
  {
   "cell_type": "code",
   "execution_count": 28,
   "metadata": {},
   "outputs": [],
   "source": [
    "preprocessor = ColumnTransformer(transformers=[\n",
    "    (\"num\", StandardScaler(), numeric_features),\n",
    "    (\"cat\", OneHotEncoder(handle_unknown='ignore'), categorical_features)])"
   ]
  },
  {
   "cell_type": "code",
   "execution_count": 29,
   "metadata": {
    "scrolled": true
   },
   "outputs": [
    {
     "name": "stdout",
     "output_type": "stream",
     "text": [
      "Wall time: 1.27 s\n"
     ]
    },
    {
     "data": {
      "text/plain": [
       "Pipeline(steps=[('preprocessor',\n",
       "                 ColumnTransformer(transformers=[('num', StandardScaler(),\n",
       "                                                  [0, 10, 11, 12, 14, 15, 16,\n",
       "                                                   17, 18]),\n",
       "                                                 ('cat',\n",
       "                                                  OneHotEncoder(handle_unknown='ignore'),\n",
       "                                                  [1, 2, 3, 4, 5, 6, 7, 8, 9,\n",
       "                                                   13])])),\n",
       "                ('log_reg', LogisticRegression(max_iter=1000))])"
      ]
     },
     "execution_count": 29,
     "metadata": {},
     "output_type": "execute_result"
    }
   ],
   "source": [
    "%%time\n",
    "pipeline = Pipeline([(\"preprocessor\", preprocessor), ('log_reg', LogisticRegression(max_iter=1000))])\n",
    "pipeline.fit(X_train, y_train)"
   ]
  },
  {
   "cell_type": "code",
   "execution_count": 30,
   "metadata": {},
   "outputs": [
    {
     "name": "stdout",
     "output_type": "stream",
     "text": [
      "AUC PR score is 0.4492335358820087\n"
     ]
    }
   ],
   "source": [
    "auc_pr(pipeline, X_test, y_test)"
   ]
  },
  {
   "cell_type": "markdown",
   "metadata": {},
   "source": [
    "Как можно было заменить, one-hot-кодирование может сильно увеличивать количество признаков в датасете, что сказывается на памяти, особенно, если некоторый признак имеет большое количество значений. Эту проблему решает другой способ кодирования категориальных признаков — счётчики. Основная идея в том, что нам важны не сами категории, а значения целевой переменной, которые имеют объекты этой категории. Каждый категориальный признак мы заменим средним значением целевой переменной по всем объектам этой же категории:\n",
    "$$\n",
    "g_j(x, X) = \\frac{\\sum_{i=1}^{l} [f_j(x) = f_j(x_i)][y_i = +1]}{\\sum_{i=1}^{l} [f_j(x) = f_j(x_i)]}\n",
    "$$\n",
    "\n",
    "__Задание 5 (0.5 балла).__ Закодируйте категориальные переменные с помощью счётчиков (ровно так, как описано выше без каких-либо хитростей). Обучите логистическую регрессию и посмотрите на качество модели на тестовом множестве. Сравните время обучения с предыдущими экспериментами (с учетом кодирования признаков). Заметили ли вы что-то интересное?"
   ]
  },
  {
   "cell_type": "code",
   "execution_count": 31,
   "metadata": {},
   "outputs": [],
   "source": [
    "import copy\n",
    "y = np.vectorize({\"yes\":1, \"no\":0}.get)(y_train)\n",
    "def g(f_train, f_test):\n",
    "    \n",
    "    f_train = f_train.astype('O')\n",
    "    f_test = f_test.astype('O')\n",
    "    f_test[np.sum(np.array(list(set(Counter(f_test)) - set(Counter(f_train))))[:, None] == f_test, axis = 0)] = 0.\n",
    "    \n",
    "    mask_train = np.array(list(Counter(f_train)))[:, None]==f_train\n",
    "    mask_test = np.array(list(Counter(f_train)))[:, None]==f_test\n",
    "    mean = np.sum(y*mask_train, axis = 1)/np.sum(mask_train, axis = 1)\n",
    "    f_train = np.sum(mean[:, None]*mask_train, axis = 0)\n",
    "    f_test = np.sum(mean[:, None]*mask_test, axis = 0)\n",
    "    \n",
    "    return f_train.astype(float), f_test.astype(float)"
   ]
  },
  {
   "cell_type": "code",
   "execution_count": 32,
   "metadata": {},
   "outputs": [],
   "source": [
    "X_train_target, X_test_target = copy.copy(X_train), copy.copy(X_test)"
   ]
  },
  {
   "cell_type": "code",
   "execution_count": 33,
   "metadata": {},
   "outputs": [
    {
     "name": "stdout",
     "output_type": "stream",
     "text": [
      "AUC PR score is 0.4255910443965521\n",
      "Wall time: 618 ms\n"
     ]
    }
   ],
   "source": [
    "%%time\n",
    "for i in categorical_features:\n",
    "    X_train_target[:, i], X_test_target[:, i] = g(X_train[:, i], X_test[:, i])\n",
    "auc_pr(LogisticRegression(max_iter=1000).fit(X_train_target, y_train), X_test_target, y_test)"
   ]
  },
  {
   "cell_type": "markdown",
   "metadata": {},
   "source": [
    "Стало быстрее работать."
   ]
  },
  {
   "cell_type": "markdown",
   "metadata": {},
   "source": [
    "Отметим, что такие признаки сами по себе являются классификаторами и, обучаясь на них, мы допускаем «утечку» целевой переменной в признаки. Это ведёт к переобучению, поэтому считать такие признаки необходимо таким образом, чтобы при вычислении счетчика для конкретного объекта его целевая метка не использовалась. Это можно делать следующими способами:\n",
    "1. Вычислять значение счётчика по всем объектам расположенным выше в датасете (например, если у нас выборка отсортирована по времени).\n",
    "2. Вычислять по фолдам, то есть делить выборку на некоторое количество частей и подсчитывать значение признаков по всем фолдам кроме текущего (как делается в кросс-валидации).\n",
    "3. Вносить шум в посчитанные признаки. \n",
    "\n",
    "__Задание 6 (0.5 балла).__ Реализуйте корректное вычисление счётчиков самым простым способом — добавлением шума к значениям (постарайтесь найти баланс между борьбой с переобучением и сохранением полезности признаков). Снова обучите логистическую регрессию, оцените качество. Сделайте выводы.\n",
    "Какие плюсы и минусы использования счётчиков по сравнению с one-hot-кодированием можно отметить?"
   ]
  },
  {
   "cell_type": "code",
   "execution_count": 34,
   "metadata": {},
   "outputs": [],
   "source": [
    "#╰( ͡° ͜ʖ ͡° )つ──☆*:・ﾟ\n",
    "def g_noise(f_train, f_test, sigma = 1):\n",
    "    \n",
    "    f_train = f_train.astype('O')\n",
    "    f_test = f_test.astype('O')\n",
    "    f_test[np.sum(np.array(list(set(Counter(f_test)) - set(Counter(f_train))))[:, None] == f_test, axis = 0)] = 0.\n",
    "    \n",
    "    mask_train = np.array(list(Counter(f_train)))[:, None]==f_train\n",
    "    mask_test = np.array(list(Counter(f_train)))[:, None]==f_test\n",
    "    mean = np.sum(y*mask_train, axis = 1)/np.sum(mask_train, axis = 1)\n",
    "    \n",
    "    mean = mean + np.random.normal(0, sigma, len(mean))\n",
    "    \n",
    "    f_train = np.sum(mean[:, None]*mask_train, axis = 0)\n",
    "    f_test = np.sum(mean[:, None]*mask_test, axis = 0)\n",
    "    \n",
    "    return f_train.astype(float), f_test.astype(float)"
   ]
  },
  {
   "cell_type": "code",
   "execution_count": 35,
   "metadata": {},
   "outputs": [],
   "source": [
    "X_train_target_noise, X_test_target_noise = copy.copy(X_train), copy.copy(X_test)"
   ]
  },
  {
   "cell_type": "code",
   "execution_count": 36,
   "metadata": {},
   "outputs": [
    {
     "name": "stdout",
     "output_type": "stream",
     "text": [
      "AUC PR score is 0.4263705921649017\n",
      "Wall time: 607 ms\n"
     ]
    }
   ],
   "source": [
    "%%time\n",
    "for i in [1,2,3,4,5,6,7,8,9,13]:\n",
    "    X_train_target_noise[:, i], X_test_target_noise[:, i] = g_noise(X_train[:, i], X_test[:, i])\n",
    "auc_pr(LogisticRegression(max_iter=1000).fit(X_train_target_noise, y_train), X_test_target_noise, y_test)"
   ]
  },
  {
   "cell_type": "markdown",
   "metadata": {},
   "source": [
    "one-hot кодирование более понятное и вероятно ведет к более качественной моделе. Счетчики намного быстрее и не приводят к созданию огромного количества признаков."
   ]
  },
  {
   "cell_type": "markdown",
   "metadata": {},
   "source": [
    "__Задание 7 (0.5 балла).__ В данных имеется признак «возраст клиента». Сейчас мы интерпретируем его как числовой, что в общем случае для линейной модели может быть неверной гипотезой. Тем не менее, у этого признака есть довольно много уникальных значений (сколько?), поэтому применять к нему one-hot кодирование может оказаться излишним. Попробуйте закодировать возраст с помощью счетчиков. Стало ли лучше?\n",
    "\n"
   ]
  },
  {
   "cell_type": "code",
   "execution_count": 37,
   "metadata": {},
   "outputs": [
    {
     "data": {
      "text/plain": [
       "78"
      ]
     },
     "execution_count": 37,
     "metadata": {},
     "output_type": "execute_result"
    }
   ],
   "source": [
    "len(list(Counter(X[:, 0])))"
   ]
  },
  {
   "cell_type": "markdown",
   "metadata": {},
   "source": [
    "У признака `age` 78 уникальных значений."
   ]
  },
  {
   "cell_type": "code",
   "execution_count": 38,
   "metadata": {},
   "outputs": [
    {
     "name": "stdout",
     "output_type": "stream",
     "text": [
      "AUC PR score is 0.4134035946664698\n",
      "Wall time: 298 ms\n"
     ]
    }
   ],
   "source": [
    "%%time\n",
    "X_train_target_noise[:, 0], X_test_target_noise[:, 0] = g_noise(X_train[:, 0], X_test[:, 0])\n",
    "auc_pr(LogisticRegression(max_iter=1000).fit(X_train_target_noise, y_train), X_test_target_noise, y_test)"
   ]
  },
  {
   "cell_type": "markdown",
   "metadata": {},
   "source": [
    "При таком случайном шуме стало хуже. Но после многократных запусков результат как улучшался, так и ухудшался, поэтому однозначно нельзя сказать стало лучше или хуже."
   ]
  },
  {
   "cell_type": "markdown",
   "metadata": {},
   "source": [
    "Можно пойти и в обратную сторону. У нас есть признаки «месяц и день недели» для звонка. Попробуйте интерпретировать их как числовые (месяц от 0 до 12, дни недели от 0 до 4). Стало ли лучше в этот раз?"
   ]
  },
  {
   "cell_type": "code",
   "execution_count": 39,
   "metadata": {},
   "outputs": [],
   "source": [
    "#╰( ͡° ͜ʖ ͡° )つ──☆*:・ﾟ\n",
    "months = {\n",
    "    'mar' : 2,\n",
    "    'apr' : 3,\n",
    "    'may' : 4,\n",
    "    'jun' : 5,\n",
    "    'jul' : 6,\n",
    "    'aug' : 7,\n",
    "    'sep' : 8,\n",
    "    'oct' : 9,\n",
    "    'nov' : 10,\n",
    "    'dec' : 11,\n",
    "}\n",
    "days = {\n",
    "    'mon' : 0,\n",
    "    'tue' : 1,\n",
    "    'wed' : 2,\n",
    "    'thu' : 3,\n",
    "    'fri' : 4,\n",
    "}\n",
    "X_train[:, 8] = np.vectorize(months.get)(X_train[:, 8])\n",
    "X_train[:, 9] = np.vectorize(days.get)(X_train[:, 9])\n",
    "\n",
    "X_test[:, 8] = np.vectorize(months.get)(X_test[:, 8])\n",
    "X_test[:, 9] = np.vectorize(days.get)(X_test[:, 9])"
   ]
  },
  {
   "cell_type": "code",
   "execution_count": 40,
   "metadata": {},
   "outputs": [
    {
     "name": "stdout",
     "output_type": "stream",
     "text": [
      "AUC PR score is 0.43488094658653065\n",
      "Wall time: 2.44 s\n"
     ]
    }
   ],
   "source": [
    "%%time\n",
    "for i in [1,2,3,4,5,6,7,13]:\n",
    "    X_train[:, i], X_test[:, i] = g_noise(X_train[:, i], X_test[:, i])\n",
    "auc_pr(LogisticRegression(max_iter=1000).fit(X_train, y_train), X_test, y_test)"
   ]
  },
  {
   "cell_type": "markdown",
   "metadata": {},
   "source": [
    "В этот раз результат стал лучше."
   ]
  },
  {
   "cell_type": "markdown",
   "metadata": {},
   "source": [
    "## Часть 3. Отбор признаков (1 балл + 1 бонусный балл)"
   ]
  },
  {
   "cell_type": "markdown",
   "metadata": {},
   "source": [
    "Важной частью процесса построения модели является отбор признаков. На практике многие признаки оказывают малое влияние на модель (при этом их расчёт занимает время) или даже негативно сказываются на качестве модели. Попробуем несколько подходов отбора признаков, оценим, как они влияют на качество модели и сколько времени занимают.\n",
    "\n",
    "Обратимся к тому же датасету про банковский телефонный маркетинг."
   ]
  },
  {
   "cell_type": "code",
   "execution_count": 41,
   "metadata": {},
   "outputs": [],
   "source": [
    "df = pd.read_csv('bank-additional/bank-additional-full.csv', sep=';')\n",
    "\n",
    "X = df.drop(columns=['duration', 'y']).to_numpy()\n",
    "y = (df.y == 'yes').to_numpy()\n",
    "\n",
    "X_train, X_test, y_train, y_test = train_test_split(X, y, test_size=0.2, random_state=777, stratify=y)"
   ]
  },
  {
   "cell_type": "code",
   "execution_count": 42,
   "metadata": {},
   "outputs": [],
   "source": [
    "def auc_pr(model, X_test, y_test):\n",
    "    precision, recall, thresholds = precision_recall_curve(y_test, model.predict_proba(X_test)[:, 1], pos_label=1)\n",
    "    return auc(recall, precision)"
   ]
  },
  {
   "cell_type": "markdown",
   "metadata": {},
   "source": [
    "Как вы помните, в данных много категориальных признаков (сейчас давайте интерпретировать возраст как числовой). Давайте закодируем их с помощью one-hot кодирования. Исходные колонки с категориальными признаками можно удалить. Сколько признаков мы получили?"
   ]
  },
  {
   "cell_type": "code",
   "execution_count": 43,
   "metadata": {},
   "outputs": [],
   "source": [
    "#╰( ͡° ͜ʖ ͡° )つ──☆*:・ﾟ\n",
    "from sklearn. impute import SimpleImputer\n",
    "preprocessor = ColumnTransformer(transformers=[\n",
    "    (\"num\", SimpleImputer(), numeric_features),\n",
    "    (\"cat\", OneHotEncoder(handle_unknown='ignore', sparse=True), categorical_features)])"
   ]
  },
  {
   "cell_type": "code",
   "execution_count": 44,
   "metadata": {},
   "outputs": [
    {
     "data": {
      "text/plain": [
       "(32950, 62)"
      ]
     },
     "execution_count": 44,
     "metadata": {},
     "output_type": "execute_result"
    }
   ],
   "source": [
    "preprocessor.fit_transform(X_train).shape"
   ]
  },
  {
   "cell_type": "markdown",
   "metadata": {},
   "source": [
    "После применения `OneHotEncoder()` (и проверки на всякий случай пропущенных значений у числовых признаков) я получил 62 признака."
   ]
  },
  {
   "cell_type": "markdown",
   "metadata": {},
   "source": [
    "Как и ранее, в качестве основной модели будем использовать логистическую регрессию, а целевой метрикой выберем `AUC-PR`. Обучите модель и посчитайте качество на тестовой выборке. Давайте запомним полученное значение."
   ]
  },
  {
   "cell_type": "code",
   "execution_count": 45,
   "metadata": {},
   "outputs": [
    {
     "data": {
      "text/plain": [
       "0.4420143361687977"
      ]
     },
     "execution_count": 45,
     "metadata": {},
     "output_type": "execute_result"
    }
   ],
   "source": [
    "#╰( ͡° ͜ʖ ͡° )つ──☆*:・ﾟ\n",
    "pipeline = Pipeline([(\"preprocessor\", preprocessor), ('log_reg', LogisticRegression(max_iter=1000))])\n",
    "pipeline.fit(X_train, y_train)\n",
    "auc_pr(pipeline, X_test, y_test)"
   ]
  },
  {
   "cell_type": "markdown",
   "metadata": {},
   "source": [
    "### Встроенные методы"
   ]
  },
  {
   "cell_type": "markdown",
   "metadata": {},
   "source": [
    "Допустим, мы хотим оставить только 40 лучших признаков. Попробуем сделать это несколькими способами.\n",
    "\n",
    "Начнём с отбора признаков с помощью линейной модели. Как известно, веса линейной модели можно интерпретировать как вклад каждого признака в предсказание таргета, а значит, модуль этого вклада можно интерпретировать как важность признаков. Такой метод отбора называются встроенным (embedded methods), так как он заложен в особенности модели.\n",
    "\n",
    "__Задание 8 (0.5 балла).__ Оставьте 40 признаков с наибольшим модулем соответствующего параметра линейной модели. Обучите модель заново и оцените её качество. Замерьте скорость такого отбора признаков.\n",
    "\n",
    "Изменилось ли качество? Как?\n",
    "\n"
   ]
  },
  {
   "cell_type": "code",
   "execution_count": 46,
   "metadata": {},
   "outputs": [
    {
     "name": "stdout",
     "output_type": "stream",
     "text": [
      "Wall time: 162 ms\n"
     ]
    }
   ],
   "source": [
    "%%time\n",
    "coefs = (abs(pipeline[\"log_reg\"].coef_)).flatten()\n",
    "indices_max_coefs = np.flip(np.argsort(coefs))[:40]\n",
    "X_train_reduced = pipeline[\"preprocessor\"].transform(X_train)[:, indices_max_coefs]\n",
    "X_test_reduced = pipeline[\"preprocessor\"].transform(X_test)[:, indices_max_coefs]"
   ]
  },
  {
   "cell_type": "code",
   "execution_count": 47,
   "metadata": {},
   "outputs": [
    {
     "data": {
      "text/plain": [
       "0.445389993995527"
      ]
     },
     "execution_count": 47,
     "metadata": {},
     "output_type": "execute_result"
    }
   ],
   "source": [
    "auc_pr(LogisticRegression(max_iter=1000).fit(X_train_reduced, y_train), X_test_reduced, y_test)"
   ]
  },
  {
   "cell_type": "markdown",
   "metadata": {},
   "source": [
    "Качество модели немного выросло."
   ]
  },
  {
   "cell_type": "markdown",
   "metadata": {},
   "source": [
    "А теперь давайте подумаем, что мы не учли. Мы предположили, что признаки вносят вклад равномерно, но не учли их масштаба. Если мы умножим один из признаков в 100 раз, то без учёта регуляризации его вес уменьшится в эти же 100 раз. А мы на основе этого отбираем признаки! Давайте сначала отмасштабируем признаки каким-то известным вам способом, а только потом будем удалять признаки. \n",
    "\n",
    "Кстати, в таком случае надо пересчитать качество на всех признаках (это тоже сделайте ниже).\n",
    "\n",
    "Что получилось?"
   ]
  },
  {
   "cell_type": "code",
   "execution_count": 48,
   "metadata": {},
   "outputs": [
    {
     "data": {
      "text/plain": [
       "0.44728299267112476"
      ]
     },
     "execution_count": 48,
     "metadata": {},
     "output_type": "execute_result"
    }
   ],
   "source": [
    "#╰( ͡° ͜ʖ ͡° )つ──☆*:・ﾟ\n",
    "preprocessor = ColumnTransformer(transformers=[\n",
    "    (\"num\", StandardScaler(), numeric_features),\n",
    "    (\"cat\", OneHotEncoder(handle_unknown='ignore', sparse=True), categorical_features)])\n",
    "pipeline = Pipeline([(\"preprocessor\", preprocessor), ('log_reg', LogisticRegression(max_iter=1000))])\n",
    "pipeline.fit(X_train, y_train)\n",
    "auc_pr(pipeline, X_test, y_test)"
   ]
  },
  {
   "cell_type": "code",
   "execution_count": 49,
   "metadata": {
    "scrolled": true
   },
   "outputs": [
    {
     "name": "stdout",
     "output_type": "stream",
     "text": [
      "Wall time: 146 ms\n"
     ]
    }
   ],
   "source": [
    "%%time\n",
    "coefs = (abs(pipeline[\"log_reg\"].coef_)).flatten()\n",
    "indices_max_coefs = np.flip(np.argsort(coefs))[:40]\n",
    "X_train_reduced = pipeline[\"preprocessor\"].transform(X_train)[:, indices_max_coefs]\n",
    "X_test_reduced = pipeline[\"preprocessor\"].transform(X_test)[:, indices_max_coefs]"
   ]
  },
  {
   "cell_type": "code",
   "execution_count": 50,
   "metadata": {},
   "outputs": [
    {
     "data": {
      "text/plain": [
       "0.44810458707088197"
      ]
     },
     "execution_count": 50,
     "metadata": {},
     "output_type": "execute_result"
    }
   ],
   "source": [
    "auc_pr(LogisticRegression(max_iter=1000).fit(X_train_reduced, y_train), X_test_reduced, y_test)"
   ]
  },
  {
   "cell_type": "markdown",
   "metadata": {},
   "source": [
    "Качество модели еще больше выросло."
   ]
  },
  {
   "cell_type": "markdown",
   "metadata": {},
   "source": [
    "### Методы фильтрации\n",
    "\n",
    "\n",
    "Давайте отбирать признаки умнее, а именно через подсчёт некоторой функции для каждого признака. На основании значений этой функции будем оставлять наиболее важные признаки. Методы этого семейства называют фильтрующими или  filter methods. \n",
    "\n",
    "В качестве такой функции будем считать t-статистику:\n",
    "\n",
    "$$t(j) = \\frac{|\\mu_+ - \\mu_-|}{\\sqrt{\\frac{n_+ \\sigma^2_+ + n_- \\sigma^2_-}{n_+ + n_-}}},$$\n",
    "\n",
    "где $\\mu$, $\\sigma$, $n$ соответственно среднее, стандартное отклонение и количество объектов каждого из классов.\n",
    "\n",
    "__Задание 9 (0.5 балла).__ Оставьте 40 признаков с наибольшим значением $t$ и замерьте качество. Не забудьте замерить скорость отбора признаков в этом случае.\n",
    "\n"
   ]
  },
  {
   "cell_type": "code",
   "execution_count": 52,
   "metadata": {},
   "outputs": [],
   "source": [
    "#╰( ͡° ͜ʖ ͡° )つ──☆*:・ﾟ\n",
    "n_plus = np.sum(y_train)\n",
    "n_minus = len(y_train) - n_plus\n",
    "def t(j):\n",
    "    obj_plus = j[y_train == 1]\n",
    "    obj_minus = j[y_train == 0]\n",
    "    denominator = np.sqrt((n_plus*np.std(obj_plus)**2 + n_minus*np.std(obj_minus)**2) / (n_plus + n_minus))\n",
    "    return abs(np.mean(obj_plus)-np.mean(obj_minus))/denominator"
   ]
  },
  {
   "cell_type": "code",
   "execution_count": 53,
   "metadata": {},
   "outputs": [
    {
     "name": "stdout",
     "output_type": "stream",
     "text": [
      "Wall time: 280 ms\n"
     ]
    }
   ],
   "source": [
    "%%time\n",
    "t_values = np.apply_along_axis(t, 0, pipeline[\"preprocessor\"].transform(X_train))\n",
    "indices_max_coefs = np.flip(np.argsort(t_values))[:40]\n",
    "X_train_reduced = pipeline[\"preprocessor\"].transform(X_train)[:, indices_max_coefs]\n",
    "X_test_reduced = pipeline[\"preprocessor\"].transform(X_test)[:, indices_max_coefs]"
   ]
  },
  {
   "cell_type": "code",
   "execution_count": 54,
   "metadata": {},
   "outputs": [
    {
     "data": {
      "text/plain": [
       "0.45118170177175226"
      ]
     },
     "execution_count": 54,
     "metadata": {},
     "output_type": "execute_result"
    }
   ],
   "source": [
    "auc_pr(LogisticRegression(max_iter=1000).fit(X_train_reduced, y_train), X_test_reduced, y_test)"
   ]
  },
  {
   "cell_type": "markdown",
   "metadata": {},
   "source": [
    "Качество стало лучше, чем при отборе embedded, но время отбора тоже увеличилось."
   ]
  },
  {
   "cell_type": "markdown",
   "metadata": {},
   "source": [
    "### Методы-обёртки\n",
    "\n",
    "__Бонус (1 балл).__ \n",
    "\n",
    "Третий из рассматриваемых нами методов работает следующим образом: мы исключаем по очереди один из признаков и смотрим, как это влияет на качество. Удаляем признаки таким жадным способом, пока не окажется выполненым некоторое условие (количество признаков или ухудшение качества).\n",
    "\n",
    "Заметим, что во время отбора признаков нельзя подсматривать в тестовую выборку (так же как и при настройке гиперпараметров). Разделите обучающую выборку на 2 части, на одной из них обучайте модель без одного из признаков,  на второй части оценивайте качество. Исходную тестовую выборку стоит использовать только для финальной оценки качества.\n",
    "\n",
    "Снова оставьте только 40 признаков и оцените качество на тестовой выборке. Сколько времени занял такой отбор признаков?"
   ]
  },
  {
   "cell_type": "code",
   "execution_count": 55,
   "metadata": {},
   "outputs": [],
   "source": [
    "#╰( ͡° ͜ʖ ͡° )つ──☆*:・ﾟ"
   ]
  },
  {
   "cell_type": "markdown",
   "metadata": {},
   "source": [
    "Стоит отметить, что с помощью такого метода можно пойти и в обратную сторону. Попробуйте _добавлять_ по одному самому полезному признаку в выборку до тех пор, пока не наберется 40 штук. Найдется ли порог, при котором добавление следующих признаков будет только ухудшать качество модели?"
   ]
  },
  {
   "cell_type": "code",
   "execution_count": 56,
   "metadata": {},
   "outputs": [],
   "source": [
    "#╰( ͡° ͜ʖ ͡° )つ──☆*:・ﾟ"
   ]
  },
  {
   "cell_type": "markdown",
   "metadata": {},
   "source": [
    "**Вопрос для всех**: Давайте подведём итоги по отбору признаков. Назовите преимущества и недостатки каждого из методов. Какой метод привёл к наилучшему качеству?\n",
    "\n",
    "**Ответ:** Качество фильтр метода  лучше, чем при отборе embedded, но время отбора тоже увеличилось. Время отбора жадным способом самое большое."
   ]
  },
  {
   "cell_type": "markdown",
   "metadata": {},
   "source": [
    "## Часть 4. Оценка экономического эффекта модели (2 балла)\n",
    "\n",
    "В данной части мы займемся тем, что от вас скорее всего потребуется на реальной работе. А именно: мы будем считать некоторые метрики и с их помощью попытаемся настроить модель на максимизацию _прибыли_. Разумеется, здесь будет сделано множество упрощающих жизнь допущений, но обо всем по порядку. \n",
    "\n",
    "__Задание 10 (1 балл).__ Допустим, работники вашего колл-центра получают за один звонок клиенту 1 доллар. При согласии клиента на предлагаемые условия он принесет в банк 10 долларов.\n",
    "\n",
    "\n",
    "=== Краткий курс экономики от ФКН 👒===\n",
    "\n",
    "   - Если вы всё прослушали на экономике, то напомним, что выручка — это сколько денег нам принесли клиенты, а прибыль — выручка за вычетом расходов на зарплату и прочее.\n",
    "\n",
    "=== Конец краткого курса экономики от ФКН 👒 ===\n",
    "\n",
    "Загрузите данные о телемаркетинге из предыдущего блока заданий. В этой части не нужно делить выборку - мы будем использовать кросс-валидацию. Используйте 5 фолдов, сделайте `shuffle=True, random_state=500`. По кросс-валидации у вас получится 5 вариантов обучающей и тестовой выборки. Обучите логистическую регрессию на каждой обучающей выборке (воспользуйтесь one-hot для категориальных признаков, гиперпараметры оставьте со значениями по умолчанию) и сделайте предсказания для соответствующих тестовых выборок. Допустим, всем положительным прогнозам ваши сотрудники решили позвонить. Посчитайте на всех тестовых выборках выручку и усредните. Сколько денег вы в среднем заработаете? Также вычислите стандартное отклонение.\n",
    "\n",
    "Сколько из заработанных денег придётся отдать операторам вашего колл-центра?"
   ]
  },
  {
   "cell_type": "code",
   "execution_count": 57,
   "metadata": {},
   "outputs": [],
   "source": [
    "#╰( ͡° ͜ʖ ͡° )つ──☆*:・ﾟ\n",
    "from sklearn.model_selection import cross_validate\n",
    "preprocessor = ColumnTransformer(transformers=[\n",
    "    (\"cat\", OneHotEncoder(handle_unknown='ignore'), categorical_features)],\n",
    "                                remainder='passthrough')"
   ]
  },
  {
   "cell_type": "code",
   "execution_count": 58,
   "metadata": {},
   "outputs": [
    {
     "name": "stdout",
     "output_type": "stream",
     "text": [
      "0.47499862953532845\n",
      "0.42112425423987004\n",
      "0.4444186405462486\n",
      "0.4520871276180456\n",
      "0.4225822916865131\n"
     ]
    }
   ],
   "source": [
    "from sklearn.model_selection import KFold\n",
    "skf = KFold(n_splits=5, random_state=500, shuffle=True)\n",
    "\n",
    "total_costs = []\n",
    "total_revenues = []\n",
    "\n",
    "for train_index, test_index in skf.split(X):\n",
    "    X_train, X_test = X[train_index], X[test_index]\n",
    "    y_train, y_test = y[train_index], y[test_index]\n",
    "    pipeline = Pipeline([(\"preprocessor\", preprocessor), ('log_reg', LogisticRegression(max_iter=1000))])\n",
    "    y_pred = pipeline.fit(X_train, y_train).predict(X_test)\n",
    "    \n",
    "    total_cost = np.sum(y_pred)\n",
    "    total_revenue = np.sum(10*y_pred*y_test)\n",
    "    total_costs.append(total_cost)\n",
    "    total_revenues.append(total_revenue)\n",
    "    \n",
    "    print(auc_pr(pipeline, X_test, y_test))"
   ]
  },
  {
   "cell_type": "code",
   "execution_count": 59,
   "metadata": {},
   "outputs": [
    {
     "name": "stdout",
     "output_type": "stream",
     "text": [
      "[282, 334, 329, 301, 314]\n",
      "[2090, 2170, 2160, 2050, 2010]\n"
     ]
    }
   ],
   "source": [
    "print(total_costs)\n",
    "print(total_revenues)"
   ]
  },
  {
   "cell_type": "code",
   "execution_count": 60,
   "metadata": {},
   "outputs": [
    {
     "name": "stdout",
     "output_type": "stream",
     "text": [
      "Средняя выручка 2096.0 (стандартное отклонение 61.84); заплатим операторам в среднем 312.0\n",
      "Мы получим ожидаемую прибыль 1784.0\n"
     ]
    }
   ],
   "source": [
    "print(f\"Средняя выручка {np.round(np.mean(total_revenues), 2)} (стандартное отклонение {np.round(np.std(total_revenues),2)}); заплатим операторам в среднем {np.round(np.mean(total_costs), 2)}\")\n",
    "print(f\"Мы получим ожидаемую прибыль {np.round(np.mean(total_revenues) - np.mean(total_costs),2)}\")"
   ]
  },
  {
   "cell_type": "markdown",
   "metadata": {},
   "source": [
    "Внесем некоторую долю случайности. Пусть теперь согласный на условия клиент будет приносить не 10 долларов, а случайную величину, равномерно распределенную в интервале $[0;20)$. Проделайте все те же самые действия. Для имитации реальной ситуации **НЕ** фиксируйте `random_seed` при подсчете выручки с клиента. Что получилось?"
   ]
  },
  {
   "cell_type": "code",
   "execution_count": 61,
   "metadata": {},
   "outputs": [
    {
     "name": "stdout",
     "output_type": "stream",
     "text": [
      "0.47499862953532845\n",
      "0.42112425423987004\n",
      "0.4444186405462486\n",
      "0.4520871276180456\n",
      "0.4225822916865131\n"
     ]
    }
   ],
   "source": [
    "#╰( ͡° ͜ʖ ͡° )つ──☆*:・ﾟ\n",
    "preprocessor = ColumnTransformer(transformers=[\n",
    "    (\"cat\", OneHotEncoder(handle_unknown='ignore'), categorical_features)],\n",
    "                                remainder='passthrough')\n",
    "total_costs = []\n",
    "total_revenues = []\n",
    "\n",
    "for train_index, test_index in skf.split(X):\n",
    "    X_train, X_test = X[train_index], X[test_index]\n",
    "    y_train, y_test = y[train_index], y[test_index]\n",
    "    pipeline = Pipeline([(\"preprocessor\", preprocessor), ('log_reg', LogisticRegression(max_iter=1000))])\n",
    "    y_pred = pipeline.fit(X_train, y_train).predict(X_test)\n",
    "    \n",
    "    total_cost = np.sum(y_pred)\n",
    "    total_revenue = np.sum(np.random.uniform(0,20, len(y_pred))*y_pred*y_test)\n",
    "    total_costs.append(total_cost)\n",
    "    total_revenues.append(total_revenue)\n",
    "    \n",
    "    print(auc_pr(pipeline, X_test, y_test))"
   ]
  },
  {
   "cell_type": "code",
   "execution_count": 62,
   "metadata": {},
   "outputs": [
    {
     "name": "stdout",
     "output_type": "stream",
     "text": [
      "[282, 334, 329, 301, 314]\n",
      "[2075.9462079743557, 2221.4306866727356, 2023.0318214101815, 2128.568704348368, 1977.720029168873]\n"
     ]
    }
   ],
   "source": [
    "print(total_costs)\n",
    "print(total_revenues)"
   ]
  },
  {
   "cell_type": "code",
   "execution_count": 63,
   "metadata": {},
   "outputs": [
    {
     "name": "stdout",
     "output_type": "stream",
     "text": [
      "Средняя выручка 2085.34 (стандартное отклонение 84.78); заплатим операторам в среднем 312.0\n",
      "Мы получим ожидаемую прибыль 1773.34\n"
     ]
    }
   ],
   "source": [
    "print(f\"Средняя выручка {np.round(np.mean(total_revenues), 2)} (стандартное отклонение {np.round(np.std(total_revenues),2)}); заплатим операторам в среднем {np.round(np.mean(total_costs), 2)}\")\n",
    "print(f\"Мы получим ожидаемую прибыль {np.round(np.mean(total_revenues) - np.mean(total_costs),2)}\")"
   ]
  },
  {
   "cell_type": "markdown",
   "metadata": {},
   "source": [
    "Настройте по кросс-валидации коэффициент регуляризации модели для максимизации прибыли (считайте как случайную величину выше). Удалось ли получить какой-то выигрыш? При каком коэффициенте регуляризациии прибыль максимальна? Постройте график зависимости ожидаемой прибыли от коэффициента, также укажите стандартные отклонения (вам поможет `plt.errorbar`)."
   ]
  },
  {
   "cell_type": "code",
   "execution_count": 64,
   "metadata": {},
   "outputs": [],
   "source": [
    "#╰( ͡° ͜ʖ ͡° )つ──☆*:・ﾟ\n",
    "preprocessor = ColumnTransformer(transformers=[\n",
    "    (\"cat\", OneHotEncoder(handle_unknown='ignore'), categorical_features)],\n",
    "                                remainder='passthrough')\n",
    "expected_profit = []\n",
    "std = []\n",
    "for c in np.arange(1, 20):\n",
    "    total_costs = []\n",
    "    total_revenues = []\n",
    "\n",
    "    for train_index, test_index in skf.split(X):\n",
    "        X_train, X_test = X[train_index], X[test_index]\n",
    "        y_train, y_test = y[train_index], y[test_index]\n",
    "        pipeline = Pipeline([(\"preprocessor\", preprocessor), ('log_reg', LogisticRegression(max_iter=1000, C=1/c))])\n",
    "        y_pred = pipeline.fit(X_train, y_train).predict(X_test)\n",
    "\n",
    "        total_cost = np.sum(y_pred)\n",
    "        total_revenue = np.sum(np.random.uniform(0,20, len(y_pred))*y_pred*y_test)\n",
    "        total_costs.append(total_cost)\n",
    "        total_revenues.append(total_revenue)\n",
    "\n",
    "    expected_profit.append(np.mean(total_revenues)-np.mean(total_costs))\n",
    "    std.append(np.std(np.array(total_revenues)-np.array(total_costs)))\n"
   ]
  },
  {
   "cell_type": "code",
   "execution_count": 65,
   "metadata": {},
   "outputs": [
    {
     "data": {
      "text/plain": [
       "<ErrorbarContainer object of 3 artists>"
      ]
     },
     "execution_count": 65,
     "metadata": {},
     "output_type": "execute_result"
    },
    {
     "data": {
      "image/png": "[encoded data removed]",
      "text/plain": [
       "<Figure size 1440x720 with 1 Axes>"
      ]
     },
     "metadata": {},
     "output_type": "display_data"
    }
   ],
   "source": [
    "plt.style.use('seaborn')\n",
    "plt.figure(figsize=(20, 10))\n",
    "plt.xlabel('Коэффициент регуляризации')\n",
    "plt.ylabel('Средняя прибыль')\n",
    "plt.errorbar(np.arange(1, 20), expected_profit, np.array(std), marker='s', mfc='red',\n",
    "         mec='green', ms=5, mew=1, color = 'blue')"
   ]
  },
  {
   "cell_type": "code",
   "execution_count": 66,
   "metadata": {},
   "outputs": [
    {
     "name": "stdout",
     "output_type": "stream",
     "text": [
      "Лучший коэффициент релуляризации это 6\n"
     ]
    }
   ],
   "source": [
    "print(f\"Лучший коэффициент релуляризации это {np.arange(1, 20)[np.argmax(expected_profit)]}\")"
   ]
  },
  {
   "cell_type": "markdown",
   "metadata": {},
   "source": [
    "__Задание 11 (1 балл).__ Выше мы уже описали примерную экономическую модель вашей задачи. Как вы считаете, что для этого бизнеса важнее — хороший precision или recall модели? Почему?\n",
    "\n",
    "__Ответ:__ Важнее recall, так как если компания сделает ошибочный звонок, то потеряет всего один доллар. Если же она пропустит настоящего клиента, то потеряет 10 долларов. Компания хочет максмизировать recall, чтобы выявлять как можно больше потенциальных клиентов.\n",
    "\n"
   ]
  },
  {
   "cell_type": "markdown",
   "metadata": {},
   "source": [
    "Вспомним, что на самом деле логистическая регрессия предсказывает вероятности положительного класса для объекта. Возможно, путем настройки порога бинаризации этих вероятностей мы сможем получить какой-то выигрыш? Проверьте ваши рассуждения выше с помощью настройки порога бинаризации на кросс-валидации для максимизации прибыли. Воспользуйтесь сеткой от 0 до 1 с шагом 0.01. Напомним, что снижение порога дает нам более высокий recall и более низкий precision, и наоборот."
   ]
  },
  {
   "cell_type": "code",
   "execution_count": 67,
   "metadata": {},
   "outputs": [
    {
     "name": "stdout",
     "output_type": "stream",
     "text": [
      "Wall time: 6.98 s\n"
     ]
    }
   ],
   "source": [
    "%%time\n",
    "\n",
    "preprocessor = ColumnTransformer(transformers=[\n",
    "(\"cat\", OneHotEncoder(handle_unknown='ignore'), categorical_features)],\n",
    "                            remainder='passthrough')\n",
    "total_costs = np.array([])\n",
    "total_revenues = np.array([])\n",
    "\n",
    "for train_index, test_index in skf.split(X):\n",
    "    X_train, X_test = X[train_index], X[test_index]\n",
    "    y_train, y_test = y[train_index], y[test_index]\n",
    "    pipeline = Pipeline([(\"preprocessor\", preprocessor), ('log_reg', LogisticRegression(max_iter=500, C = 1/2))])\n",
    "    y_pred_proba = pipeline.fit(X_train, y_train).predict_proba(X_test)[:, 1]\n",
    "\n",
    "    tc = []\n",
    "    tr = []\n",
    "    for t in np.linspace(0, 1, 101):\n",
    "        y_pred = (y_pred_proba >= t).astype(int)\n",
    "\n",
    "        total_cost = np.sum(y_pred)\n",
    "        total_revenue = np.sum(np.random.uniform(0,20, len(y_pred))*y_pred*y_test)\n",
    "        tc.append(total_cost)\n",
    "        tr.append(total_revenue)\n",
    "        \n",
    "    tc = np.array(tc)\n",
    "    tr = np.array(tr)\n",
    "\n",
    "    if total_costs.size == 0:\n",
    "        total_costs = tc[None, :]\n",
    "        total_revenues = tr[None, :]\n",
    "    else:\n",
    "        total_costs = np.append(total_costs, tc[None, :], axis = 0)\n",
    "        total_revenues = np.append(total_revenues, tr[None, :], axis = 0)\n",
    "        "
   ]
  },
  {
   "cell_type": "code",
   "execution_count": 68,
   "metadata": {},
   "outputs": [],
   "source": [
    "expected_profit = np.mean(total_revenues, axis = 0) - np.mean(total_costs, axis = 0)"
   ]
  },
  {
   "cell_type": "code",
   "execution_count": 69,
   "metadata": {},
   "outputs": [],
   "source": [
    "t = np.linspace(0,0.2,21)[np.argmax(expected_profit)]"
   ]
  },
  {
   "cell_type": "code",
   "execution_count": 70,
   "metadata": {},
   "outputs": [
    {
     "data": {
      "text/plain": [
       "0.12"
      ]
     },
     "execution_count": 70,
     "metadata": {},
     "output_type": "execute_result"
    }
   ],
   "source": [
    "t"
   ]
  },
  {
   "cell_type": "code",
   "execution_count": 71,
   "metadata": {},
   "outputs": [
    {
     "data": {
      "text/plain": [
       "4157.391028421034"
      ]
     },
     "execution_count": 71,
     "metadata": {},
     "output_type": "execute_result"
    }
   ],
   "source": [
    "expected_profit[int(t*100)]"
   ]
  },
  {
   "cell_type": "code",
   "execution_count": 72,
   "metadata": {},
   "outputs": [
    {
     "name": "stdout",
     "output_type": "stream",
     "text": [
      "Лучший порог - это 0.12\n"
     ]
    }
   ],
   "source": [
    "print(f\"Лучший порог - это {t}\")"
   ]
  },
  {
   "cell_type": "markdown",
   "metadata": {},
   "source": [
    "Каковы значения precision и recall на выбранном пороге? Оцените по кросс-валидации. Также вычислите стандартное отклонение."
   ]
  },
  {
   "cell_type": "code",
   "execution_count": 73,
   "metadata": {},
   "outputs": [
    {
     "name": "stdout",
     "output_type": "stream",
     "text": [
      "Mean precision 0.3256012606115691; mean recall 0.6417495037950753\n",
      "Std precision 0.01143923554075436; std recall 0.02021900711853405\n"
     ]
    }
   ],
   "source": [
    "#╰( ͡° ͜ʖ ͡° )つ──☆*:・ﾟ\n",
    "precision_array = []\n",
    "recall_array = []\n",
    "from sklearn.metrics import precision_score, recall_score\n",
    "for train_index, test_index in skf.split(X):\n",
    "        X_train, X_test = X[train_index], X[test_index]\n",
    "        y_train, y_test = y[train_index], y[test_index]\n",
    "        pipeline = Pipeline([(\"preprocessor\", preprocessor), ('log_reg', LogisticRegression(max_iter=1000, C = 1/3))])\n",
    "        y_pred_proba = pipeline.fit(X_train, y_train).predict_proba(X_test)[:, 1]\n",
    "        \n",
    "        y_pred = (y_pred_proba >= t).astype(int)\n",
    "        \n",
    "        precision_array.append(precision_score(y_test, y_pred))\n",
    "        recall_array.append(recall_score(y_test, y_pred))\n",
    "\n",
    "print(f\"Mean precision {np.mean(precision_array)}; mean recall {np.mean(recall_array)}\")\n",
    "print(f\"Std precision {np.std(precision_array)}; std recall {np.std(recall_array)}\")"
   ]
  },
  {
   "cell_type": "markdown",
   "metadata": {},
   "source": [
    "Как вы, вероятно, уже поняли, ваша модель склоняется к более высокому recall. Попробуйте оценить качество модели с помощью `PR-AUC` в зоне recall $\\geq$ 0.5. Сделайте это следующим образом - выберите только те пороги, на которых достигается необходимый recall, затем интерпретируйте отсеченный в единичном квадрате прямоугольник как новый единичный квадрат и посчитайте площадь под отсеченной кривой. "
   ]
  },
  {
   "cell_type": "code",
   "execution_count": 74,
   "metadata": {},
   "outputs": [],
   "source": [
    "#╰( ͡° ͜ʖ ͡° )つ──☆*:・ﾟ\n",
    "pipeline = Pipeline([(\"preprocessor\", preprocessor), ('log_reg', LogisticRegression(max_iter=1000, C = 1/3))])\n",
    "y_pred_proba = pipeline.fit(X_train, y_train).predict_proba(X_test)[:, 1]\n",
    "\n",
    "precision, recall, thresholds = precision_recall_curve(y_test, y_pred_proba)"
   ]
  },
  {
   "cell_type": "code",
   "execution_count": 75,
   "metadata": {},
   "outputs": [
    {
     "data": {
      "text/plain": [
       "[<matplotlib.lines.Line2D at 0x1f63ac133d0>]"
      ]
     },
     "execution_count": 75,
     "metadata": {},
     "output_type": "execute_result"
    },
    {
     "data": {
      "image/png": "[encoded data removed]",
      "text/plain": [
       "<Figure size 576x432 with 1 Axes>"
      ]
     },
     "metadata": {},
     "output_type": "display_data"
    }
   ],
   "source": [
    "indices = recall >= 0.5\n",
    "precision = precision[indices]\n",
    "precision = precision / max(precision)\n",
    "recall = 2*recall[indices]-1\n",
    "plt.figure(figsize=(8, 6))\n",
    "plt.style.use('seaborn')\n",
    "plt.xlabel('Recall')\n",
    "plt.ylabel('Precision')\n",
    "plt.title('AUC PR')\n",
    "plt.xlim([-0.01, 1.01])\n",
    "plt.ylim([-0.01, 1.01])\n",
    "plt.plot(recall, precision)"
   ]
  },
  {
   "cell_type": "code",
   "execution_count": 76,
   "metadata": {},
   "outputs": [
    {
     "name": "stdout",
     "output_type": "stream",
     "text": [
      "AUC PR score is 0.5827365625262152\n"
     ]
    }
   ],
   "source": [
    "print(f\"AUC PR score is {auc(recall, precision)}\")"
   ]
  },
  {
   "cell_type": "markdown",
   "metadata": {},
   "source": [
    "__Бонус (1 балл):__ чтобы получить 1 балл, вставьте что угодно в ячейку ниже. Даже можно не ходить в музей.\n",
    "\n",
    "(Бонус может получить только тот, кто решил хотя бы одно задание)."
   ]
  },
  {
   "cell_type": "code",
   "execution_count": 77,
   "metadata": {},
   "outputs": [
    {
     "name": "stdout",
     "output_type": "stream",
     "text": [
      "Hello world!\n"
     ]
    }
   ],
   "source": [
    "#╰( ͡° ͜ʖ ͡° )つ──☆*:・ﾟ\n",
    "print(\"Hello world!\")"
   ]
  }
 ],
 "metadata": {
  "kernelspec": {
   "display_name": "Python 3",
   "language": "python",
   "name": "python3"
  },
  "language_info": {
   "codemirror_mode": {
    "name": "ipython",
    "version": 3
   },
   "file_extension": ".py",
   "mimetype": "text/x-python",
   "name": "python",
   "nbconvert_exporter": "python",
   "pygments_lexer": "ipython3",
   "version": "3.8.8"
  }
 },
 "nbformat": 4,
 "nbformat_minor": 4
}
