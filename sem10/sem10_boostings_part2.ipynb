{
  "nbformat": 4,
  "nbformat_minor": 0,
  "metadata": {
    "kernelspec": {
      "display_name": "Python 3 (ipykernel)",
      "language": "python",
      "name": "python3"
    },
    "language_info": {
      "codemirror_mode": {
        "name": "ipython",
        "version": 3
      },
      "file_extension": ".py",
      "mimetype": "text/x-python",
      "name": "python",
      "nbconvert_exporter": "python",
      "pygments_lexer": "ipython3",
      "version": "3.8.8"
    },
    "colab": {
      "name": "sem10_boostings_part2.ipynb",
      "provenance": [],
      "collapsed_sections": [
        "upj6nImcqWeW"
      ]
    }
  },
  "cells": [
    {
      "cell_type": "markdown",
      "metadata": {
        "id": "ix1sNO5BqWeA"
      },
      "source": [
        "## Семинар 10: различные имплементации градиентного бустинга\n",
        "\n",
        "* XGboost + подбор гиперпараметров\n",
        "* CatBoost + SHAP\n",
        "* LightGBM"
      ]
    },
    {
      "cell_type": "markdown",
      "metadata": {
        "id": "w7jxZOQoqWeE"
      },
      "source": [
        "![История](history.png)"
      ]
    },
    {
      "cell_type": "markdown",
      "metadata": {
        "id": "ax9yXnNSqWeF"
      },
      "source": [
        "## 1. XGboost + подбор гиперпараметров\n",
        "\n",
        "Код по xgboost основан на статье https://www.analyticsvidhya.com/blog/2016/03/complete-guide-parameter-tuning-xgboost-with-codes-python/"
      ]
    },
    {
      "cell_type": "markdown",
      "metadata": {
        "id": "FOGnG3hVqWeF"
      },
      "source": [
        "Основные особенности xgboost:\n",
        "* базовый алгоритм приближает направление, посчитанное с учетом второй производной функции потерь\n",
        "\n",
        "* функционал регуляризуется – добавляются штрафы за количество листьев и за норму коэффициентов\n",
        "\n",
        "* при построении дерева используется критерий информативности, зависящий от оптимального вектора сдвига\n",
        "\n",
        "* критерий останова при обучении дерева также зависит от оптимального сдвига\n",
        "\n",
        "Почитать подробнее тут: https://github.com/esokolov/ml-course-hse/blob/master/2020-fall/lecture-notes/lecture10-ensembles.pdf"
      ]
    },
    {
      "cell_type": "code",
      "metadata": {
        "id": "uZBYWFbPqWeG"
      },
      "source": [
        "import pandas as pd\n",
        "import os\n",
        "import numpy as np\n",
        "from matplotlib import pylab as plot\n",
        "\n",
        "import xgboost as xgb\n",
        "from xgboost import XGBClassifier"
      ],
      "execution_count": 21,
      "outputs": []
    },
    {
      "cell_type": "markdown",
      "metadata": {
        "id": "MzZQB8TBqWeH"
      },
      "source": [
        "Будем решать задачу классификации: по различным характеристикам клиента попытаемся определить, выплатит клиент долг или нет."
      ]
    },
    {
      "cell_type": "code",
      "metadata": {
        "colab": {
          "base_uri": "https://localhost:8080/"
        },
        "id": "iH4tOyb8qWeI",
        "outputId": "6002d789-3cd2-4cfc-ab63-f0b8d861bb6a"
      },
      "source": [
        "X_train = pd.read_csv('train_small.csv')\n",
        "X_test = pd.read_csv('test_small.csv')\n",
        "len(X_train), len(X_test)"
      ],
      "execution_count": 22,
      "outputs": [
        {
          "output_type": "execute_result",
          "data": {
            "text/plain": [
              "(24365, 10443)"
            ]
          },
          "metadata": {},
          "execution_count": 22
        }
      ]
    },
    {
      "cell_type": "code",
      "metadata": {
        "colab": {
          "base_uri": "https://localhost:8080/",
          "height": 224
        },
        "id": "5oVG_nz_qWeJ",
        "outputId": "2f77138c-095e-4253-fd5b-2b27e9494664"
      },
      "source": [
        "X_train.head()"
      ],
      "execution_count": 23,
      "outputs": [
        {
          "output_type": "execute_result",
          "data": {
            "text/html": [
              "<div>\n",
              "<style scoped>\n",
              "    .dataframe tbody tr th:only-of-type {\n",
              "        vertical-align: middle;\n",
              "    }\n",
              "\n",
              "    .dataframe tbody tr th {\n",
              "        vertical-align: top;\n",
              "    }\n",
              "\n",
              "    .dataframe thead th {\n",
              "        text-align: right;\n",
              "    }\n",
              "</style>\n",
              "<table border=\"1\" class=\"dataframe\">\n",
              "  <thead>\n",
              "    <tr style=\"text-align: right;\">\n",
              "      <th></th>\n",
              "      <th>Existing_EMI</th>\n",
              "      <th>Loan_Amount_Applied</th>\n",
              "      <th>Loan_Tenure_Applied</th>\n",
              "      <th>Monthly_Income</th>\n",
              "      <th>Var4</th>\n",
              "      <th>Var5</th>\n",
              "      <th>Age</th>\n",
              "      <th>EMI_Loan_Submitted_Missing</th>\n",
              "      <th>Interest_Rate_Missing</th>\n",
              "      <th>Loan_Amount_Submitted_Missing</th>\n",
              "      <th>Loan_Tenure_Submitted_Missing</th>\n",
              "      <th>Processing_Fee_Missing</th>\n",
              "      <th>Device_Type_0</th>\n",
              "      <th>Device_Type_1</th>\n",
              "      <th>Filled_Form_0</th>\n",
              "      <th>Filled_Form_1</th>\n",
              "      <th>Gender_0</th>\n",
              "      <th>Gender_1</th>\n",
              "      <th>Var1_0</th>\n",
              "      <th>Var1_1</th>\n",
              "      <th>Var1_2</th>\n",
              "      <th>Var1_3</th>\n",
              "      <th>Var1_4</th>\n",
              "      <th>Var1_5</th>\n",
              "      <th>Var1_6</th>\n",
              "      <th>Var1_7</th>\n",
              "      <th>Var1_8</th>\n",
              "      <th>Var1_9</th>\n",
              "      <th>Var1_10</th>\n",
              "      <th>Var1_11</th>\n",
              "      <th>Var1_12</th>\n",
              "      <th>Var1_13</th>\n",
              "      <th>Var1_14</th>\n",
              "      <th>Var1_15</th>\n",
              "      <th>Var1_16</th>\n",
              "      <th>Var1_17</th>\n",
              "      <th>Var1_18</th>\n",
              "      <th>Var2_0</th>\n",
              "      <th>Var2_1</th>\n",
              "      <th>Var2_2</th>\n",
              "      <th>Var2_3</th>\n",
              "      <th>Var2_4</th>\n",
              "      <th>Var2_5</th>\n",
              "      <th>Var2_6</th>\n",
              "      <th>Mobile_Verified_0</th>\n",
              "      <th>Mobile_Verified_1</th>\n",
              "      <th>Source_0</th>\n",
              "      <th>Source_1</th>\n",
              "      <th>Source_2</th>\n",
              "      <th>Disbursed</th>\n",
              "      <th>ID</th>\n",
              "    </tr>\n",
              "  </thead>\n",
              "  <tbody>\n",
              "    <tr>\n",
              "      <th>0</th>\n",
              "      <td>0.0</td>\n",
              "      <td>250000.0</td>\n",
              "      <td>5.0</td>\n",
              "      <td>23200</td>\n",
              "      <td>2</td>\n",
              "      <td>3</td>\n",
              "      <td>28</td>\n",
              "      <td>1</td>\n",
              "      <td>1</td>\n",
              "      <td>0</td>\n",
              "      <td>0</td>\n",
              "      <td>1</td>\n",
              "      <td>0</td>\n",
              "      <td>1</td>\n",
              "      <td>1</td>\n",
              "      <td>0</td>\n",
              "      <td>1</td>\n",
              "      <td>0</td>\n",
              "      <td>0</td>\n",
              "      <td>0</td>\n",
              "      <td>0</td>\n",
              "      <td>0</td>\n",
              "      <td>0</td>\n",
              "      <td>0</td>\n",
              "      <td>0</td>\n",
              "      <td>0</td>\n",
              "      <td>0</td>\n",
              "      <td>0</td>\n",
              "      <td>0</td>\n",
              "      <td>0</td>\n",
              "      <td>0</td>\n",
              "      <td>1</td>\n",
              "      <td>0</td>\n",
              "      <td>0</td>\n",
              "      <td>0</td>\n",
              "      <td>0</td>\n",
              "      <td>0</td>\n",
              "      <td>0</td>\n",
              "      <td>1</td>\n",
              "      <td>0</td>\n",
              "      <td>0</td>\n",
              "      <td>0</td>\n",
              "      <td>0</td>\n",
              "      <td>0</td>\n",
              "      <td>0</td>\n",
              "      <td>1</td>\n",
              "      <td>0</td>\n",
              "      <td>1</td>\n",
              "      <td>0</td>\n",
              "      <td>0.0</td>\n",
              "      <td>8161</td>\n",
              "    </tr>\n",
              "    <tr>\n",
              "      <th>1</th>\n",
              "      <td>0.0</td>\n",
              "      <td>0.0</td>\n",
              "      <td>0.0</td>\n",
              "      <td>25000</td>\n",
              "      <td>0</td>\n",
              "      <td>0</td>\n",
              "      <td>33</td>\n",
              "      <td>1</td>\n",
              "      <td>1</td>\n",
              "      <td>1</td>\n",
              "      <td>1</td>\n",
              "      <td>1</td>\n",
              "      <td>0</td>\n",
              "      <td>1</td>\n",
              "      <td>1</td>\n",
              "      <td>0</td>\n",
              "      <td>0</td>\n",
              "      <td>1</td>\n",
              "      <td>0</td>\n",
              "      <td>0</td>\n",
              "      <td>0</td>\n",
              "      <td>0</td>\n",
              "      <td>0</td>\n",
              "      <td>0</td>\n",
              "      <td>0</td>\n",
              "      <td>0</td>\n",
              "      <td>0</td>\n",
              "      <td>0</td>\n",
              "      <td>0</td>\n",
              "      <td>0</td>\n",
              "      <td>0</td>\n",
              "      <td>1</td>\n",
              "      <td>0</td>\n",
              "      <td>0</td>\n",
              "      <td>0</td>\n",
              "      <td>0</td>\n",
              "      <td>0</td>\n",
              "      <td>0</td>\n",
              "      <td>0</td>\n",
              "      <td>0</td>\n",
              "      <td>0</td>\n",
              "      <td>0</td>\n",
              "      <td>0</td>\n",
              "      <td>1</td>\n",
              "      <td>0</td>\n",
              "      <td>1</td>\n",
              "      <td>1</td>\n",
              "      <td>0</td>\n",
              "      <td>0</td>\n",
              "      <td>0.0</td>\n",
              "      <td>77530</td>\n",
              "    </tr>\n",
              "    <tr>\n",
              "      <th>2</th>\n",
              "      <td>0.0</td>\n",
              "      <td>0.0</td>\n",
              "      <td>0.0</td>\n",
              "      <td>95000</td>\n",
              "      <td>3</td>\n",
              "      <td>7</td>\n",
              "      <td>39</td>\n",
              "      <td>1</td>\n",
              "      <td>1</td>\n",
              "      <td>0</td>\n",
              "      <td>0</td>\n",
              "      <td>1</td>\n",
              "      <td>1</td>\n",
              "      <td>0</td>\n",
              "      <td>1</td>\n",
              "      <td>0</td>\n",
              "      <td>0</td>\n",
              "      <td>1</td>\n",
              "      <td>0</td>\n",
              "      <td>0</td>\n",
              "      <td>0</td>\n",
              "      <td>0</td>\n",
              "      <td>0</td>\n",
              "      <td>0</td>\n",
              "      <td>0</td>\n",
              "      <td>0</td>\n",
              "      <td>0</td>\n",
              "      <td>0</td>\n",
              "      <td>0</td>\n",
              "      <td>0</td>\n",
              "      <td>0</td>\n",
              "      <td>1</td>\n",
              "      <td>0</td>\n",
              "      <td>0</td>\n",
              "      <td>0</td>\n",
              "      <td>0</td>\n",
              "      <td>0</td>\n",
              "      <td>0</td>\n",
              "      <td>0</td>\n",
              "      <td>0</td>\n",
              "      <td>0</td>\n",
              "      <td>0</td>\n",
              "      <td>0</td>\n",
              "      <td>1</td>\n",
              "      <td>0</td>\n",
              "      <td>1</td>\n",
              "      <td>1</td>\n",
              "      <td>0</td>\n",
              "      <td>0</td>\n",
              "      <td>0.0</td>\n",
              "      <td>80633</td>\n",
              "    </tr>\n",
              "    <tr>\n",
              "      <th>3</th>\n",
              "      <td>0.0</td>\n",
              "      <td>0.0</td>\n",
              "      <td>0.0</td>\n",
              "      <td>29880</td>\n",
              "      <td>5</td>\n",
              "      <td>3</td>\n",
              "      <td>28</td>\n",
              "      <td>0</td>\n",
              "      <td>0</td>\n",
              "      <td>0</td>\n",
              "      <td>0</td>\n",
              "      <td>0</td>\n",
              "      <td>1</td>\n",
              "      <td>0</td>\n",
              "      <td>0</td>\n",
              "      <td>1</td>\n",
              "      <td>1</td>\n",
              "      <td>0</td>\n",
              "      <td>0</td>\n",
              "      <td>0</td>\n",
              "      <td>0</td>\n",
              "      <td>0</td>\n",
              "      <td>0</td>\n",
              "      <td>0</td>\n",
              "      <td>0</td>\n",
              "      <td>0</td>\n",
              "      <td>0</td>\n",
              "      <td>0</td>\n",
              "      <td>1</td>\n",
              "      <td>0</td>\n",
              "      <td>0</td>\n",
              "      <td>0</td>\n",
              "      <td>0</td>\n",
              "      <td>0</td>\n",
              "      <td>0</td>\n",
              "      <td>0</td>\n",
              "      <td>0</td>\n",
              "      <td>0</td>\n",
              "      <td>0</td>\n",
              "      <td>1</td>\n",
              "      <td>0</td>\n",
              "      <td>0</td>\n",
              "      <td>0</td>\n",
              "      <td>0</td>\n",
              "      <td>0</td>\n",
              "      <td>1</td>\n",
              "      <td>0</td>\n",
              "      <td>1</td>\n",
              "      <td>0</td>\n",
              "      <td>0.0</td>\n",
              "      <td>45059</td>\n",
              "    </tr>\n",
              "    <tr>\n",
              "      <th>4</th>\n",
              "      <td>4500.0</td>\n",
              "      <td>100000.0</td>\n",
              "      <td>3.0</td>\n",
              "      <td>30000</td>\n",
              "      <td>5</td>\n",
              "      <td>10</td>\n",
              "      <td>26</td>\n",
              "      <td>0</td>\n",
              "      <td>0</td>\n",
              "      <td>0</td>\n",
              "      <td>0</td>\n",
              "      <td>0</td>\n",
              "      <td>0</td>\n",
              "      <td>1</td>\n",
              "      <td>0</td>\n",
              "      <td>1</td>\n",
              "      <td>0</td>\n",
              "      <td>1</td>\n",
              "      <td>0</td>\n",
              "      <td>0</td>\n",
              "      <td>0</td>\n",
              "      <td>0</td>\n",
              "      <td>0</td>\n",
              "      <td>0</td>\n",
              "      <td>0</td>\n",
              "      <td>0</td>\n",
              "      <td>1</td>\n",
              "      <td>0</td>\n",
              "      <td>0</td>\n",
              "      <td>0</td>\n",
              "      <td>0</td>\n",
              "      <td>0</td>\n",
              "      <td>0</td>\n",
              "      <td>0</td>\n",
              "      <td>0</td>\n",
              "      <td>0</td>\n",
              "      <td>0</td>\n",
              "      <td>0</td>\n",
              "      <td>0</td>\n",
              "      <td>0</td>\n",
              "      <td>0</td>\n",
              "      <td>0</td>\n",
              "      <td>0</td>\n",
              "      <td>1</td>\n",
              "      <td>0</td>\n",
              "      <td>1</td>\n",
              "      <td>1</td>\n",
              "      <td>0</td>\n",
              "      <td>0</td>\n",
              "      <td>0.0</td>\n",
              "      <td>54857</td>\n",
              "    </tr>\n",
              "  </tbody>\n",
              "</table>\n",
              "</div>"
            ],
            "text/plain": [
              "   Existing_EMI  Loan_Amount_Applied  ...  Disbursed     ID\n",
              "0           0.0             250000.0  ...        0.0   8161\n",
              "1           0.0                  0.0  ...        0.0  77530\n",
              "2           0.0                  0.0  ...        0.0  80633\n",
              "3           0.0                  0.0  ...        0.0  45059\n",
              "4        4500.0             100000.0  ...        0.0  54857\n",
              "\n",
              "[5 rows x 51 columns]"
            ]
          },
          "metadata": {},
          "execution_count": 23
        }
      ]
    },
    {
      "cell_type": "markdown",
      "metadata": {
        "id": "lFa03tmWqWeK"
      },
      "source": [
        "Для того, чтобы бустинг показал хорошее качество и не переобучился, необходимо аккуратно подобрать его гиперпараметры. \n",
        "\n",
        "Алгоритм подбора гиперпараметров следующий:\n",
        "\n",
        "* Выбираем относительно большую learning_rate ($ \\eta \\in [0.05, 0.3]$), подбираем оптимальное число деревьев для выбранного $ \\eta $\n",
        "\n",
        "* Настраиваем параметры деревьев, начиная с самых значимых (max_depth, min_child_weight, gamma, subsample, colsample_bytree)\n",
        "\n",
        "* Настраиваем регуляризации ($ \\lambda, \\alpha $)\n",
        "\n",
        "* Уменьшаем learning_rate, пропорционально увеличиваем число деревьев"
      ]
    },
    {
      "cell_type": "code",
      "metadata": {
        "id": "_kiJJQltqWeL"
      },
      "source": [
        "xgb1 = XGBClassifier(\n",
        "        learning_rate=0.1,\n",
        "        n_estimators=150,\n",
        "        objective= 'binary:logistic',\n",
        "        nthread=4,\n",
        "        scale_pos_weight=1,\n",
        "        seed=27)"
      ],
      "execution_count": 24,
      "outputs": []
    },
    {
      "cell_type": "code",
      "metadata": {
        "id": "xBQOnOlpqWeL"
      },
      "source": [
        "target = 'Disbursed'\n",
        "IDcol = 'ID'"
      ],
      "execution_count": 25,
      "outputs": []
    },
    {
      "cell_type": "code",
      "metadata": {
        "colab": {
          "base_uri": "https://localhost:8080/"
        },
        "id": "e37yk71OqWeL",
        "outputId": "87af216c-283a-4322-fee5-d6e5e6ef1211"
      },
      "source": [
        "X_train['Disbursed'].value_counts(), len(X_train)"
      ],
      "execution_count": 26,
      "outputs": [
        {
          "output_type": "execute_result",
          "data": {
            "text/plain": [
              "(0.0    23999\n",
              " 1.0      366\n",
              " Name: Disbursed, dtype: int64, 24365)"
            ]
          },
          "metadata": {},
          "execution_count": 26
        }
      ]
    },
    {
      "cell_type": "markdown",
      "metadata": {
        "id": "qdcqFWtAqWeM"
      },
      "source": [
        "Создадим функцию для моделирования и кросс-валидации\n",
        "\n",
        "Эта функция делает следующее:\n",
        "1. обучает модель\n",
        "2. вычисляет accuracy на тренировочной выборке\n",
        "3. вычисляет AUC на тренировочной выборке\n",
        "4. вычисляет AUC на тестовой выборке\n",
        "5. обновляет n_estimators с помощью встроенной в пакет xgboost функции cv\n",
        "6. строит диаграмму Feature Importance "
      ]
    },
    {
      "cell_type": "code",
      "metadata": {
        "id": "Ol9CS97NqWeM"
      },
      "source": [
        "from sklearn import metrics\n",
        "\n",
        "def modelfit(alg, dtrain, dtest, predictors, useTrainCV=True, cv_folds=5, \\\n",
        "             early_stopping_rounds=50):\n",
        "    \n",
        "    if useTrainCV:\n",
        "        xgb_param = alg.get_xgb_params()\n",
        "        xgtrain = xgb.DMatrix(dtrain[predictors].values, label=dtrain[target].values)\n",
        "        xgtest = xgb.DMatrix(dtest[predictors].values)\n",
        "        cvresult = xgb.cv(xgb_param, xgtrain, num_boost_round=alg.get_params()['n_estimators'], nfold=cv_folds,\n",
        "            metrics='auc', early_stopping_rounds=early_stopping_rounds)\n",
        "        alg.set_params(n_estimators=cvresult.shape[0])\n",
        "    \n",
        "    #Fit the algorithm on the data\n",
        "    alg.fit(dtrain[predictors], dtrain['Disbursed'], eval_metric='auc')\n",
        "        \n",
        "    #Predict training set:\n",
        "    dtrain_predictions = alg.predict(dtrain[predictors])\n",
        "    dtrain_predprob = alg.predict_proba(dtrain[predictors])[:,1]\n",
        "        \n",
        "    #Print model report:\n",
        "    print(\"\\nModel Report\")\n",
        "    print(\"Accuracy : %.4g\" % metrics.accuracy_score(dtrain['Disbursed'].values, dtrain_predictions))\n",
        "    print(\"AUC Score (Train): %f\" % metrics.roc_auc_score(dtrain['Disbursed'], dtrain_predprob))\n",
        "    \n",
        "    #Predict on testing data:\n",
        "    dtest['predprob'] = alg.predict_proba(dtest[predictors])[:,1]\n",
        "    print('AUC Score (Test): %f' % metrics.roc_auc_score(dtest['Disbursed'], dtest['predprob']))\n",
        "                \n",
        "    feat_imp = pd.Series(alg.get_booster().get_fscore()).sort_values(ascending=False)\n",
        "    feat_imp.plot(kind='bar', title='Feature Importances')\n",
        "    plt.ylabel('Feature Importance Score')"
      ],
      "execution_count": 27,
      "outputs": []
    },
    {
      "cell_type": "markdown",
      "metadata": {
        "id": "AzCqFRXXqWeN"
      },
      "source": [
        "Начинаем последовательный подбор параметров при большом learning_rate"
      ]
    },
    {
      "cell_type": "code",
      "metadata": {
        "colab": {
          "base_uri": "https://localhost:8080/",
          "height": 529
        },
        "id": "TPRRpmfZqWeO",
        "outputId": "f8a1ad20-b5ec-4bf4-f71d-d90032e4db1d"
      },
      "source": [
        "predictors = [x for x in X_train.columns if x not in [target, IDcol]]\n",
        "xgb1 = XGBClassifier(\n",
        "        learning_rate=0.1,\n",
        "        n_estimators=150,\n",
        "        objective= 'binary:logistic',\n",
        "        nthread=4,\n",
        "        scale_pos_weight=1,\n",
        "        seed=27)\n",
        "modelfit(xgb1, X_train, X_test, predictors)"
      ],
      "execution_count": 29,
      "outputs": [
        {
          "output_type": "stream",
          "name": "stdout",
          "text": [
            "\n",
            "Model Report\n",
            "Accuracy : 0.985\n",
            "AUC Score (Train): 0.887371\n",
            "AUC Score (Test): 0.835307\n"
          ]
        },
        {
          "output_type": "display_data",
          "data": {
            "image/png": "[encoded data removed]",
            "text/plain": [
              "<Figure size 432x288 with 1 Axes>"
            ]
          },
          "metadata": {
            "needs_background": "light"
          }
        }
      ]
    },
    {
      "cell_type": "markdown",
      "metadata": {
        "id": "A6OADibAqWeO"
      },
      "source": [
        "Перебираем max_depth и min_child_weight по сетке."
      ]
    },
    {
      "cell_type": "code",
      "metadata": {
        "id": "LnHy_HVpqWeO"
      },
      "source": [
        "from sklearn.model_selection import GridSearchCV"
      ],
      "execution_count": 30,
      "outputs": []
    },
    {
      "cell_type": "code",
      "metadata": {
        "colab": {
          "base_uri": "https://localhost:8080/"
        },
        "id": "vSdpKJHdqWeP",
        "outputId": "e737bdc8-42eb-4bb4-e755-ac6652f08a01"
      },
      "source": [
        "%%time\n",
        "param_test1 = {\n",
        "    'max_depth': range(3,10,2),\n",
        "    'min_child_weight': range(1,6,2)\n",
        "}\n",
        "gsearch1 = GridSearchCV(estimator = XGBClassifier(learning_rate=0.1, \n",
        "                                                  n_estimators=150,\n",
        "                                                  objective= 'binary:logistic', \n",
        "                                                  scale_pos_weight=1, \n",
        "                                                  seed=27), \n",
        "                        param_grid = param_test1,\n",
        "                        scoring='roc_auc',\n",
        "                        n_jobs=4,\n",
        "                        cv=5)\n",
        "gsearch1.fit(X_train[predictors],X_train[target])"
      ],
      "execution_count": 31,
      "outputs": [
        {
          "output_type": "stream",
          "name": "stdout",
          "text": [
            "CPU times: user 6.79 s, sys: 314 ms, total: 7.11 s\n",
            "Wall time: 5min 32s\n"
          ]
        }
      ]
    },
    {
      "cell_type": "code",
      "metadata": {
        "colab": {
          "base_uri": "https://localhost:8080/"
        },
        "id": "HKmbu0vsqWeP",
        "outputId": "cd9df017-9bec-47d8-8abd-a475e2f3f427"
      },
      "source": [
        "gsearch1.best_params_, gsearch1.best_score_"
      ],
      "execution_count": 32,
      "outputs": [
        {
          "output_type": "execute_result",
          "data": {
            "text/plain": [
              "({'max_depth': 3, 'min_child_weight': 3}, 0.8257013950521568)"
            ]
          },
          "metadata": {},
          "execution_count": 32
        }
      ]
    },
    {
      "cell_type": "markdown",
      "metadata": {
        "id": "ztlDAyyaqWeP"
      },
      "source": [
        "Уточняем предсказание"
      ]
    },
    {
      "cell_type": "code",
      "metadata": {
        "id": "a9plK6LQqWeP"
      },
      "source": [
        "param_test2 = {\n",
        "    'max_depth': [2,3,4],\n",
        "    'min_child_weight': [2,3,4]\n",
        "}\n",
        "gsearch2 = GridSearchCV(estimator = XGBClassifier(learning_rate=0.1, \n",
        "                                                  n_estimators=150, \n",
        "                                                  objective= 'binary:logistic', \n",
        "                                                  nthread=4, \n",
        "                                                  scale_pos_weight=1,\n",
        "                                                  seed=27), \n",
        "                          param_grid = param_test2, \n",
        "                          scoring='roc_auc', \n",
        "                          n_jobs=4,\n",
        "                          cv=5)\n",
        "gsearch2.fit(X_train[predictors],X_train[target])"
      ],
      "execution_count": null,
      "outputs": []
    },
    {
      "cell_type": "code",
      "metadata": {
        "id": "NLznZzdEqWeQ"
      },
      "source": [
        "gsearch2.best_params_, gsearch2.best_score_"
      ],
      "execution_count": null,
      "outputs": []
    },
    {
      "cell_type": "markdown",
      "metadata": {
        "id": "ZFPLnjjwqWeQ"
      },
      "source": [
        "Зафиксируем найденный max_depth и подберем min_child_weight"
      ]
    },
    {
      "cell_type": "code",
      "metadata": {
        "id": "Am3fh6bSqWeQ"
      },
      "source": [
        "param_test2b = {\n",
        "    'min_child_weight': [5,6,7]\n",
        "}\n",
        "gsearch2b = GridSearchCV(estimator = XGBClassifier( learning_rate=0.1, n_estimators=150, max_depth=3,\n",
        "                                        objective= 'binary:logistic', nthread=4, scale_pos_weight=1, seed=27), \n",
        "                       param_grid = param_test2b, scoring='roc_auc', n_jobs=4, cv=5)\n",
        "gsearch2b.fit(X_train[predictors],X_train[target])"
      ],
      "execution_count": null,
      "outputs": []
    },
    {
      "cell_type": "code",
      "metadata": {
        "id": "B3H_exVfqWeQ"
      },
      "source": [
        "gsearch2b.best_params_, gsearch2b.best_score_"
      ],
      "execution_count": null,
      "outputs": []
    },
    {
      "cell_type": "markdown",
      "metadata": {
        "id": "ZgjT99nRqWeQ"
      },
      "source": [
        "Мы подобрали max_depth и min_child_weight - дальше будем использовать подобранные значения параметров. Подберите по сетке параметр gamma на отрезке от 0 до 1."
      ]
    },
    {
      "cell_type": "code",
      "metadata": {
        "id": "IV1n8lnkqWeQ"
      },
      "source": [
        "param_test3 = {\n",
        "    'gamma':#your code here\n",
        "}\n",
        "gsearch3b = #your code here\n",
        "gsearch3b.fit(X_train[predictors],X_train[target])"
      ],
      "execution_count": null,
      "outputs": []
    },
    {
      "cell_type": "code",
      "metadata": {
        "id": "yH6makMbqWeQ"
      },
      "source": [
        "gsearch3b.best_params_, gsearch3b.best_score_"
      ],
      "execution_count": null,
      "outputs": []
    },
    {
      "cell_type": "markdown",
      "metadata": {
        "id": "gC_v10mIqWeR"
      },
      "source": [
        "Установите в качестве параметров алгоритма подобранные max_depth, min_child_weight и gamma и посмотрите как изменилось качество."
      ]
    },
    {
      "cell_type": "code",
      "metadata": {
        "id": "vY6neHiUqWeR"
      },
      "source": [
        "predictors = [x for x in X_train.columns if x not in [target, IDcol]]\n",
        "xgb2 = XGBClassifier(\n",
        "        learning_rate =0.1,\n",
        "        n_estimators=150,\n",
        "        max_depth=4,\n",
        "        min_child_weight=...,\n",
        "        gamma = ...,\n",
        "        objective= 'binary:logistic',\n",
        "        nthread=4,\n",
        "        scale_pos_weight=1,\n",
        "        seed=27)\n",
        "modelfit(xgb2, X_train, X_test, predictors)"
      ],
      "execution_count": null,
      "outputs": []
    },
    {
      "cell_type": "markdown",
      "metadata": {
        "id": "MKp9IJGoqWeR"
      },
      "source": [
        "Подберите по сетке параметры subsample и colsample_bytree. Используйте значения этих параметров: [0.6,0.7,0.8,0.9,1.]"
      ]
    },
    {
      "cell_type": "code",
      "metadata": {
        "id": "WL1bShOHqWeR"
      },
      "source": [
        "#Your code here"
      ],
      "execution_count": null,
      "outputs": []
    },
    {
      "cell_type": "markdown",
      "metadata": {
        "id": "8cFq89vOqWeR"
      },
      "source": [
        "Подберите параметр регуляризации reg_alpha. Попробуйте [1e-5, 1e-2, 0.1, 1, 100]"
      ]
    },
    {
      "cell_type": "code",
      "metadata": {
        "id": "nWT2QcPMqWeR"
      },
      "source": [
        "#Your code here"
      ],
      "execution_count": null,
      "outputs": []
    },
    {
      "cell_type": "markdown",
      "metadata": {
        "id": "2Hlc0mHgqWeR"
      },
      "source": [
        "Запустите обучение и предсказание на найденных параметрах и посмотрите на качество."
      ]
    },
    {
      "cell_type": "code",
      "metadata": {
        "id": "JkwJuaIlqWeR"
      },
      "source": [
        "xgb3 = XGBClassifier(\n",
        "        learning_rate=0.1,     \n",
        "        n_estimators=150,   \n",
        "        max_depth=...,\n",
        "        min_child_weight=...,\n",
        "        gamma=...,\n",
        "        subsample=...,\n",
        "        colsample_bytree=...,\n",
        "        reg_alpha=...,\n",
        "        objective= 'binary:logistic',\n",
        "        nthread=4,\n",
        "        scale_pos_weight=1,\n",
        "        seed=27)\n",
        "modelfit(xgb3, X_train, X_test, predictors)"
      ],
      "execution_count": null,
      "outputs": []
    },
    {
      "cell_type": "markdown",
      "metadata": {
        "id": "H6Y90MVRqWeS"
      },
      "source": [
        "Уменьшите learning_rate до 0.01 и пропорционально увеличьте число деревьев. Все подобранные параметры остаются такими же. Обучите модель и сделайте предсказание. Посмотрите на качество."
      ]
    },
    {
      "cell_type": "code",
      "metadata": {
        "id": "40-Z652lqWeS"
      },
      "source": [
        "#Your code here\n",
        "xgb3 = XGBClassifier(\n",
        "        learning_rate=0.01,\n",
        "        n_estimators=1500,\n",
        "        max_depth=...,\n",
        "        min_child_weight=...,\n",
        "        gamma=...,\n",
        "        subsample=...,\n",
        "        colsample_bytree=...,\n",
        "        reg_alpha=...,\n",
        "        objective= 'binary:logistic',\n",
        "        nthread=4,\n",
        "        scale_pos_weight=1,\n",
        "        seed=27)\n",
        "modelfit(xgb3, X_train, X_test, predictors)"
      ],
      "execution_count": null,
      "outputs": []
    },
    {
      "cell_type": "markdown",
      "metadata": {
        "id": "aESBxh_bqWeS"
      },
      "source": [
        "## 2. CatBoost\n",
        "\n",
        "Оригинальный ноутбук здесь: https://github.com/catboost/tutorials/blob/master/classification/classification_tutorial.ipynb\n",
        "\n",
        "Особенности катбуста:\n",
        "\n",
        "* используются симметричные деревья решений\n",
        "\n",
        "* для кодирования категориальных признаков используется большой набор методов\n",
        "\n",
        "* динамический бустинг \n",
        "\n",
        "Благодаря использованию симметричных деревьев и динамическому бустингу катбуст гораздо более устойчив к переобучению, чем другие имплементации градиентного бустинга. Поэтому он показывает хорошее качество даже при дефолтных параметрах.\n",
        "\n",
        "Посмотреть видео про катбуст: https://yandex.ru/video/preview/?filmId=10919886479285152550&from=tabbar&text=catboost+анна+вероника"
      ]
    },
    {
      "cell_type": "code",
      "metadata": {
        "id": "wD0yxpejqWeS"
      },
      "source": [
        "#!pip install catboost\n",
        "import catboost\n",
        "from catboost import datasets, Pool, FeaturesData"
      ],
      "execution_count": 35,
      "outputs": []
    },
    {
      "cell_type": "markdown",
      "metadata": {
        "id": "6MAPRxQ0qWeS"
      },
      "source": [
        "Считываем данные. Данные содержат только категориальные признаки, причем с большим количеством категорий. Признаки - закодированные характеристики сотрудника и некоторого ресурса, целевая переменная - есть ли у сотрудника доступ к ресурсу."
      ]
    },
    {
      "cell_type": "code",
      "metadata": {
        "id": "cJUiwfsaqWeS"
      },
      "source": [
        "train_df, test_df = datasets.amazon()"
      ],
      "execution_count": 36,
      "outputs": []
    },
    {
      "cell_type": "code",
      "metadata": {
        "colab": {
          "base_uri": "https://localhost:8080/",
          "height": 204
        },
        "id": "cOsM_F32qWeS",
        "outputId": "8e196c80-1d99-4fdd-ffe7-c67ba0101b77"
      },
      "source": [
        "train_df.head()"
      ],
      "execution_count": 37,
      "outputs": [
        {
          "output_type": "execute_result",
          "data": {
            "text/html": [
              "<div>\n",
              "<style scoped>\n",
              "    .dataframe tbody tr th:only-of-type {\n",
              "        vertical-align: middle;\n",
              "    }\n",
              "\n",
              "    .dataframe tbody tr th {\n",
              "        vertical-align: top;\n",
              "    }\n",
              "\n",
              "    .dataframe thead th {\n",
              "        text-align: right;\n",
              "    }\n",
              "</style>\n",
              "<table border=\"1\" class=\"dataframe\">\n",
              "  <thead>\n",
              "    <tr style=\"text-align: right;\">\n",
              "      <th></th>\n",
              "      <th>ACTION</th>\n",
              "      <th>RESOURCE</th>\n",
              "      <th>MGR_ID</th>\n",
              "      <th>ROLE_ROLLUP_1</th>\n",
              "      <th>ROLE_ROLLUP_2</th>\n",
              "      <th>ROLE_DEPTNAME</th>\n",
              "      <th>ROLE_TITLE</th>\n",
              "      <th>ROLE_FAMILY_DESC</th>\n",
              "      <th>ROLE_FAMILY</th>\n",
              "      <th>ROLE_CODE</th>\n",
              "    </tr>\n",
              "  </thead>\n",
              "  <tbody>\n",
              "    <tr>\n",
              "      <th>0</th>\n",
              "      <td>1</td>\n",
              "      <td>39353</td>\n",
              "      <td>85475</td>\n",
              "      <td>117961</td>\n",
              "      <td>118300</td>\n",
              "      <td>123472</td>\n",
              "      <td>117905</td>\n",
              "      <td>117906</td>\n",
              "      <td>290919</td>\n",
              "      <td>117908</td>\n",
              "    </tr>\n",
              "    <tr>\n",
              "      <th>1</th>\n",
              "      <td>1</td>\n",
              "      <td>17183</td>\n",
              "      <td>1540</td>\n",
              "      <td>117961</td>\n",
              "      <td>118343</td>\n",
              "      <td>123125</td>\n",
              "      <td>118536</td>\n",
              "      <td>118536</td>\n",
              "      <td>308574</td>\n",
              "      <td>118539</td>\n",
              "    </tr>\n",
              "    <tr>\n",
              "      <th>2</th>\n",
              "      <td>1</td>\n",
              "      <td>36724</td>\n",
              "      <td>14457</td>\n",
              "      <td>118219</td>\n",
              "      <td>118220</td>\n",
              "      <td>117884</td>\n",
              "      <td>117879</td>\n",
              "      <td>267952</td>\n",
              "      <td>19721</td>\n",
              "      <td>117880</td>\n",
              "    </tr>\n",
              "    <tr>\n",
              "      <th>3</th>\n",
              "      <td>1</td>\n",
              "      <td>36135</td>\n",
              "      <td>5396</td>\n",
              "      <td>117961</td>\n",
              "      <td>118343</td>\n",
              "      <td>119993</td>\n",
              "      <td>118321</td>\n",
              "      <td>240983</td>\n",
              "      <td>290919</td>\n",
              "      <td>118322</td>\n",
              "    </tr>\n",
              "    <tr>\n",
              "      <th>4</th>\n",
              "      <td>1</td>\n",
              "      <td>42680</td>\n",
              "      <td>5905</td>\n",
              "      <td>117929</td>\n",
              "      <td>117930</td>\n",
              "      <td>119569</td>\n",
              "      <td>119323</td>\n",
              "      <td>123932</td>\n",
              "      <td>19793</td>\n",
              "      <td>119325</td>\n",
              "    </tr>\n",
              "  </tbody>\n",
              "</table>\n",
              "</div>"
            ],
            "text/plain": [
              "   ACTION  RESOURCE  MGR_ID  ...  ROLE_FAMILY_DESC  ROLE_FAMILY  ROLE_CODE\n",
              "0       1     39353   85475  ...            117906       290919     117908\n",
              "1       1     17183    1540  ...            118536       308574     118539\n",
              "2       1     36724   14457  ...            267952        19721     117880\n",
              "3       1     36135    5396  ...            240983       290919     118322\n",
              "4       1     42680    5905  ...            123932        19793     119325\n",
              "\n",
              "[5 rows x 10 columns]"
            ]
          },
          "metadata": {},
          "execution_count": 37
        }
      ]
    },
    {
      "cell_type": "markdown",
      "metadata": {
        "id": "Jk1Bs2IhqWeS"
      },
      "source": [
        "Готовим данные"
      ]
    },
    {
      "cell_type": "code",
      "metadata": {
        "id": "9Tkpp057qWeS"
      },
      "source": [
        "y = train_df.ACTION\n",
        "X = train_df.drop('ACTION', axis=1)"
      ],
      "execution_count": 38,
      "outputs": []
    },
    {
      "cell_type": "markdown",
      "metadata": {
        "id": "JgaYvmxzqWeS"
      },
      "source": [
        "Создаем список категориальных фичей"
      ]
    },
    {
      "cell_type": "code",
      "metadata": {
        "colab": {
          "base_uri": "https://localhost:8080/"
        },
        "id": "9OwPebrRqWeT",
        "outputId": "14a3c9c9-cb1a-4cf4-bd05-761e712a5f9c"
      },
      "source": [
        "cat_features = list(range(0, X.shape[1]))\n",
        "print(cat_features)"
      ],
      "execution_count": 39,
      "outputs": [
        {
          "output_type": "stream",
          "name": "stdout",
          "text": [
            "[0, 1, 2, 3, 4, 5, 6, 7, 8]\n"
          ]
        }
      ]
    },
    {
      "cell_type": "markdown",
      "metadata": {
        "id": "FtMuYP0RqWeT"
      },
      "source": [
        "Смотрим на соотношение классов"
      ]
    },
    {
      "cell_type": "code",
      "metadata": {
        "colab": {
          "base_uri": "https://localhost:8080/"
        },
        "id": "uAnxFj3MqWeT",
        "outputId": "4b575db7-bb34-4f9c-d981-05cb0e706277"
      },
      "source": [
        "print('Labels: {}'.format(set(y)))\n",
        "print('Zero count = {}, One count = {}'.format(len(y) - sum(y), sum(y)))"
      ],
      "execution_count": 40,
      "outputs": [
        {
          "output_type": "stream",
          "name": "stdout",
          "text": [
            "Labels: {0, 1}\n",
            "Zero count = 1897, One count = 30872\n"
          ]
        }
      ]
    },
    {
      "cell_type": "markdown",
      "metadata": {
        "id": "tmK4XyxyqWeT"
      },
      "source": [
        "Способы создать Pool - объект, содержащий матрицу объект-признак X, вектор ответов, список номеров колонок с категориальными признаками."
      ]
    },
    {
      "cell_type": "code",
      "metadata": {
        "colab": {
          "base_uri": "https://localhost:8080/"
        },
        "id": "Ku6YkeISqWeT",
        "outputId": "322307f7-6127-4137-eb34-916b83130fe0"
      },
      "source": [
        "pool1 = Pool(data=X, label=y, cat_features=cat_features)\n",
        "\n",
        "pool2 = Pool(data=X, cat_features=cat_features)\n",
        "\n",
        "# Fastest way to create a Pool is to create it from numpy matrix.\n",
        "# This way should be used if you want fast predictions\n",
        "# or fastest way to load the data in python.\n",
        "\n",
        "X_prepared = X.values.astype(str).astype(object)\n",
        "# For FeaturesData class categorial features must have type str\n",
        "\n",
        "pool3 = Pool(\n",
        "    data=FeaturesData(\n",
        "        cat_feature_data=X_prepared,\n",
        "        cat_feature_names=list(X)\n",
        "    ),\n",
        "    label=y.values\n",
        ")\n",
        "\n",
        "print('Dataset shape')\n",
        "print('dataset 1:' + str(pool1.shape) +\n",
        "      '\\ndataset 2:' + str(pool2.shape) +\n",
        "      '\\ndataset 3: ' + str(pool3.shape))\n",
        "\n",
        "print('\\n')\n",
        "print('Column names')\n",
        "print('dataset 1:')\n",
        "print(pool1.get_feature_names()) \n",
        "print('\\ndataset 2:')\n",
        "print(pool2.get_feature_names())\n",
        "print('\\ndataset 3:')\n",
        "print(pool3.get_feature_names())"
      ],
      "execution_count": 41,
      "outputs": [
        {
          "output_type": "stream",
          "name": "stdout",
          "text": [
            "Dataset shape\n",
            "dataset 1:(32769, 9)\n",
            "dataset 2:(32769, 9)\n",
            "dataset 3: (32769, 9)\n",
            "\n",
            "\n",
            "Column names\n",
            "dataset 1:\n",
            "['RESOURCE', 'MGR_ID', 'ROLE_ROLLUP_1', 'ROLE_ROLLUP_2', 'ROLE_DEPTNAME', 'ROLE_TITLE', 'ROLE_FAMILY_DESC', 'ROLE_FAMILY', 'ROLE_CODE']\n",
            "\n",
            "dataset 2:\n",
            "['RESOURCE', 'MGR_ID', 'ROLE_ROLLUP_1', 'ROLE_ROLLUP_2', 'ROLE_DEPTNAME', 'ROLE_TITLE', 'ROLE_FAMILY_DESC', 'ROLE_FAMILY', 'ROLE_CODE']\n",
            "\n",
            "dataset 3:\n",
            "['RESOURCE', 'MGR_ID', 'ROLE_ROLLUP_1', 'ROLE_ROLLUP_2', 'ROLE_DEPTNAME', 'ROLE_TITLE', 'ROLE_FAMILY_DESC', 'ROLE_FAMILY', 'ROLE_CODE']\n"
          ]
        }
      ]
    },
    {
      "cell_type": "markdown",
      "metadata": {
        "id": "Aj5avHOzqWeT"
      },
      "source": [
        "Разбиваем данные на train и validation"
      ]
    },
    {
      "cell_type": "code",
      "metadata": {
        "id": "Dn3jRmRjqWeT"
      },
      "source": [
        "from sklearn.model_selection import train_test_split\n",
        "X_train, X_validation, y_train, y_validation = train_test_split(X, y, train_size=0.8, random_state=42)"
      ],
      "execution_count": 44,
      "outputs": []
    },
    {
      "cell_type": "markdown",
      "metadata": {
        "id": "bPz2TOzMqWeT"
      },
      "source": [
        "Выбираем функцию потерь"
      ]
    },
    {
      "cell_type": "markdown",
      "metadata": {
        "id": "iRalay4pqWeT"
      },
      "source": [
        "Для бинарной классификации можем использовать:\n",
        "\n",
        "* `Logloss`\n",
        "\n",
        "* `CrossEntropy`"
      ]
    },
    {
      "cell_type": "code",
      "metadata": {
        "id": "fw8FMe-JqWeT"
      },
      "source": [
        "from catboost import CatBoostClassifier\n",
        "model = CatBoostClassifier(\n",
        "    iterations=5,\n",
        "    learning_rate=0.1,\n",
        "    # loss_function='CrossEntropy'\n",
        ")\n",
        "model.fit(\n",
        "    X_train, y_train,\n",
        "    cat_features=cat_features,\n",
        "    eval_set=(X_validation, y_validation),\n",
        "    verbose=False\n",
        ")\n",
        "print('Model is fitted: ' + str(model.is_fitted()))\n",
        "print('Model params:')\n",
        "print(model.get_params())"
      ],
      "execution_count": null,
      "outputs": []
    },
    {
      "cell_type": "markdown",
      "metadata": {
        "id": "55hcHaDHqWeU"
      },
      "source": [
        "Визуализация метрик"
      ]
    },
    {
      "cell_type": "code",
      "metadata": {
        "id": "2ZUyjGuIqWeU"
      },
      "source": [
        "from catboost import CatBoostClassifier\n",
        "model = CatBoostClassifier(\n",
        "    iterations=50,\n",
        "    random_seed=63,\n",
        "    learning_rate=0.5,\n",
        "    custom_loss=['AUC', 'Accuracy']\n",
        ")\n",
        "model.fit(\n",
        "    X_train, y_train,\n",
        "    cat_features=cat_features,\n",
        "    eval_set=(X_validation, y_validation),\n",
        "    verbose=False,\n",
        "    plot=True\n",
        ")"
      ],
      "execution_count": null,
      "outputs": []
    },
    {
      "cell_type": "markdown",
      "metadata": {
        "id": "rog8wLDxqWeU"
      },
      "source": [
        "Сравнение моделей"
      ]
    },
    {
      "cell_type": "code",
      "metadata": {
        "id": "Fg_c4C_uqWeU"
      },
      "source": [
        "model1 = CatBoostClassifier(\n",
        "    learning_rate=0.7,\n",
        "    iterations=100,\n",
        "    random_seed=0,\n",
        "    train_dir='learing_rate_0.7'\n",
        ")\n",
        "\n",
        "model2 = CatBoostClassifier(\n",
        "    learning_rate=0.01,\n",
        "    iterations=100,\n",
        "    random_seed=0,\n",
        "    train_dir='learing_rate_0.01'\n",
        ")\n",
        "model1.fit(\n",
        "    X_train, y_train,\n",
        "    eval_set=(X_validation, y_validation),\n",
        "    cat_features=cat_features,\n",
        "    verbose=False\n",
        ")\n",
        "model2.fit(\n",
        "    X_train, y_train,\n",
        "    eval_set=(X_validation, y_validation),\n",
        "    cat_features=cat_features,\n",
        "    verbose=False\n",
        ")"
      ],
      "execution_count": null,
      "outputs": []
    },
    {
      "cell_type": "markdown",
      "metadata": {
        "id": "8cp-_zb5qWeU"
      },
      "source": [
        "Оптимальное количество деревьев"
      ]
    },
    {
      "cell_type": "code",
      "metadata": {
        "id": "4gZh_8kFqWeU"
      },
      "source": [
        "from catboost import CatBoostClassifier\n",
        "model = CatBoostClassifier(\n",
        "    iterations=100,\n",
        "    random_seed=63,\n",
        "    learning_rate=0.5,\n",
        "#     use_best_model=False\n",
        ")\n",
        "model.fit(\n",
        "    X_train, y_train,\n",
        "    cat_features=cat_features,\n",
        "    eval_set=(X_validation, y_validation),\n",
        "    verbose=False,\n",
        "    plot=True\n",
        ")"
      ],
      "execution_count": null,
      "outputs": []
    },
    {
      "cell_type": "code",
      "metadata": {
        "id": "Gye8fL-TqWeU"
      },
      "source": [
        "print('Tree count: ' + str(model.tree_count_))"
      ],
      "execution_count": null,
      "outputs": []
    },
    {
      "cell_type": "markdown",
      "metadata": {
        "id": "DlhiIEMSqWeU"
      },
      "source": [
        "Кросс-валидация"
      ]
    },
    {
      "cell_type": "code",
      "metadata": {
        "id": "Nk59U_s3qWeU"
      },
      "source": [
        "from catboost import cv\n",
        "\n",
        "params = {}\n",
        "params['loss_function'] = 'Logloss'\n",
        "params['iterations'] = 80\n",
        "params['custom_loss'] = 'AUC'\n",
        "params['random_seed'] = 63\n",
        "params['learning_rate'] = 0.5\n",
        "\n",
        "cv_data = cv(\n",
        "    params = params,\n",
        "    pool = Pool(X, label=y, cat_features=cat_features),\n",
        "    fold_count=5,\n",
        "    shuffle=True,\n",
        "    partition_random_seed=0,\n",
        "    plot=True,\n",
        "    stratified=False,\n",
        "    verbose=False\n",
        ")"
      ],
      "execution_count": null,
      "outputs": []
    },
    {
      "cell_type": "code",
      "metadata": {
        "id": "dlY7ylBcqWeU"
      },
      "source": [
        "cv_data.head()"
      ],
      "execution_count": null,
      "outputs": []
    },
    {
      "cell_type": "code",
      "metadata": {
        "id": "E_faJ_dZqWeV"
      },
      "source": [
        "best_value = np.min(cv_data['test-Logloss-mean'])\n",
        "best_iter = np.argmin(cv_data['test-Logloss-mean'])\n",
        "\n",
        "print('Best validation Logloss score, not stratified: {:.4f}±{:.4f} on step {}'.format(\n",
        "    best_value,\n",
        "    cv_data['test-Logloss-std'][best_iter],\n",
        "    best_iter)\n",
        ")"
      ],
      "execution_count": null,
      "outputs": []
    },
    {
      "cell_type": "markdown",
      "metadata": {
        "id": "OxysD9T-qWeV"
      },
      "source": [
        "Детектор переобучения"
      ]
    },
    {
      "cell_type": "code",
      "metadata": {
        "id": "jJ3eI7WMqWeV"
      },
      "source": [
        "model_with_early_stop = CatBoostClassifier(\n",
        "    eval_metric='AUC',\n",
        "    iterations=200,\n",
        "    random_seed=63,\n",
        "    learning_rate=0.5,\n",
        "    early_stopping_rounds=20\n",
        ")\n",
        "model_with_early_stop.fit(\n",
        "    X_train, y_train,\n",
        "    cat_features=cat_features,\n",
        "    eval_set=(X_validation, y_validation),\n",
        "    verbose=False,\n",
        "    plot=True\n",
        ")"
      ],
      "execution_count": null,
      "outputs": []
    },
    {
      "cell_type": "code",
      "metadata": {
        "id": "lwXtkzSJqWeV"
      },
      "source": [
        "print(model_with_early_stop.tree_count_)"
      ],
      "execution_count": null,
      "outputs": []
    },
    {
      "cell_type": "markdown",
      "metadata": {
        "id": "K-yA0Z7aqWeV"
      },
      "source": [
        "Вычисление метрик качества и выбор порога принятия решения"
      ]
    },
    {
      "cell_type": "code",
      "metadata": {
        "id": "nC5JC9HHqWeV"
      },
      "source": [
        "model = CatBoostClassifier(\n",
        "    random_seed=63,\n",
        "    iterations=200,\n",
        "    learning_rate=0.03,\n",
        ")\n",
        "model.fit(\n",
        "    X_train, y_train,\n",
        "    cat_features=cat_features,\n",
        "    verbose=False,\n",
        "    plot=True\n",
        ")"
      ],
      "execution_count": null,
      "outputs": []
    },
    {
      "cell_type": "code",
      "metadata": {
        "id": "0FIU_ZPdqWeV"
      },
      "source": [
        "from catboost.utils import get_roc_curve\n",
        "import sklearn\n",
        "from sklearn import metrics\n",
        "\n",
        "eval_pool = Pool(X_validation, y_validation, cat_features=cat_features)\n",
        "curve = get_roc_curve(model, eval_pool)\n",
        "(fpr, tpr, thresholds) = curve\n",
        "roc_auc = sklearn.metrics.auc(fpr, tpr)"
      ],
      "execution_count": null,
      "outputs": []
    },
    {
      "cell_type": "code",
      "metadata": {
        "id": "zv0BPHzcqWeV"
      },
      "source": [
        "plt.figure(figsize=(16, 8))\n",
        "lw = 2\n",
        "\n",
        "plt.plot(fpr, tpr, color='darkorange',\n",
        "         lw=lw, label='ROC curve (area = %0.2f)' % roc_auc, alpha=0.5)\n",
        "\n",
        "plt.plot([0, 1], [0, 1], color='navy', lw=lw, linestyle='--', alpha=0.5)\n",
        "\n",
        "plt.xlim([0.0, 1.0])\n",
        "plt.ylim([0.0, 1.05])\n",
        "plt.xticks(fontsize=16)\n",
        "plt.yticks(fontsize=16)\n",
        "plt.grid(True)\n",
        "plt.xlabel('False Positive Rate', fontsize=16)\n",
        "plt.ylabel('True Positive Rate', fontsize=16)\n",
        "plt.title('Receiver operating characteristic', fontsize=20)\n",
        "plt.legend(loc=\"lower right\", fontsize=16)\n",
        "plt.show()"
      ],
      "execution_count": null,
      "outputs": []
    },
    {
      "cell_type": "code",
      "metadata": {
        "id": "aLxx3hcjqWeV"
      },
      "source": [
        "from catboost.utils import get_fpr_curve\n",
        "from catboost.utils import get_fnr_curve\n",
        "\n",
        "(thresholds, fpr) = get_fpr_curve(curve=curve)\n",
        "(thresholds, fnr) = get_fnr_curve(curve=curve)"
      ],
      "execution_count": null,
      "outputs": []
    },
    {
      "cell_type": "code",
      "metadata": {
        "id": "QZbgkNeNqWeV"
      },
      "source": [
        "plt.figure(figsize=(16, 8))\n",
        "lw = 2\n",
        "\n",
        "plt.plot(thresholds, fpr, color='blue', lw=lw, label='FPR', alpha=0.5)\n",
        "plt.plot(thresholds, fnr, color='green', lw=lw, label='FNR', alpha=0.5)\n",
        "\n",
        "plt.xlim([0.0, 1.0])\n",
        "plt.ylim([0.0, 1.05])\n",
        "plt.xticks(fontsize=16)\n",
        "plt.yticks(fontsize=16)\n",
        "plt.grid(True)\n",
        "plt.xlabel('Threshold', fontsize=16)\n",
        "plt.ylabel('Error Rate', fontsize=16)\n",
        "plt.title('FPR-FNR curves', fontsize=20)\n",
        "plt.legend(loc=\"lower left\", fontsize=16)\n",
        "plt.show()"
      ],
      "execution_count": null,
      "outputs": []
    },
    {
      "cell_type": "code",
      "metadata": {
        "id": "m8kAwHvHqWeW"
      },
      "source": [
        "from catboost.utils import select_threshold\n",
        "\n",
        "print(select_threshold(model=model, data=eval_pool, FNR=0.01))\n",
        "print(select_threshold(model=model, data=eval_pool, FPR=0.01))"
      ],
      "execution_count": null,
      "outputs": []
    },
    {
      "cell_type": "markdown",
      "metadata": {
        "id": "AWo1VZooqWeW"
      },
      "source": [
        "Получение предсказаний"
      ]
    },
    {
      "cell_type": "code",
      "metadata": {
        "id": "wRy3cJu7qWeW"
      },
      "source": [
        "model.predict_proba(X_validation)"
      ],
      "execution_count": null,
      "outputs": []
    },
    {
      "cell_type": "code",
      "metadata": {
        "id": "oSHQq2eTqWeW"
      },
      "source": [
        "model.predict(X_validation)"
      ],
      "execution_count": null,
      "outputs": []
    },
    {
      "cell_type": "markdown",
      "metadata": {
        "id": "fj2KPybZqWeW"
      },
      "source": [
        "Важность признаков"
      ]
    },
    {
      "cell_type": "code",
      "metadata": {
        "id": "N2JaSMk2qWeW"
      },
      "source": [
        "model.get_feature_importance(prettified=True)"
      ],
      "execution_count": null,
      "outputs": []
    },
    {
      "cell_type": "markdown",
      "metadata": {
        "id": "upj6nImcqWeW"
      },
      "source": [
        "### Shap values \n",
        "\n",
        "Классические способы измерения важности признаков обладают существенным недостатком: непонятно, как именно каждый признак влияет на предсказание модели. Shap values (значения Шэпли) - способ измерения важности признаков, исправляющий этот недостаток.\n",
        "\n",
        "Подробнее читайте тут: https://habr.com/ru/post/428213/"
      ]
    },
    {
      "cell_type": "code",
      "metadata": {
        "id": "RJt1YH2TqWeW"
      },
      "source": [
        "import shap\n",
        "\n",
        "shap_values = model.get_feature_importance(pool1, type='ShapValues')\n",
        "\n",
        "expected_value = shap_values[0,-1]\n",
        "shap_values = shap_values[:,:-1]\n",
        "\n",
        "print(shap_values.shape)"
      ],
      "execution_count": null,
      "outputs": []
    },
    {
      "cell_type": "code",
      "metadata": {
        "id": "VbWxHij1qWeW"
      },
      "source": [
        "import numpy\n",
        "print(numpy.__version__)"
      ],
      "execution_count": null,
      "outputs": []
    },
    {
      "cell_type": "code",
      "metadata": {
        "id": "JV1j6d2fqWeW"
      },
      "source": [
        "shap.summary_plot(shap_values, X)"
      ],
      "execution_count": null,
      "outputs": []
    },
    {
      "cell_type": "markdown",
      "metadata": {
        "id": "HrxrN80tqWeW"
      },
      "source": [
        "Shap-values для конкретного объекта."
      ]
    },
    {
      "cell_type": "code",
      "metadata": {
        "id": "X9tmUZYQqWeW"
      },
      "source": [
        "shap.initjs()\n",
        "shap.force_plot(expected_value, shap_values[3,:], X.iloc[3,:])"
      ],
      "execution_count": null,
      "outputs": []
    },
    {
      "cell_type": "markdown",
      "metadata": {
        "id": "Vl-S8TdiqWeW"
      },
      "source": [
        "Сохранение модели"
      ]
    },
    {
      "cell_type": "code",
      "metadata": {
        "id": "BwDI5BpnqWeW"
      },
      "source": [
        "my_best_model = CatBoostClassifier(iterations=10)\n",
        "my_best_model.fit(\n",
        "    X_train, y_train,\n",
        "    eval_set=(X_validation, y_validation),\n",
        "    cat_features=cat_features,\n",
        "    verbose=False\n",
        ")\n",
        "my_best_model.save_model('catboost_model.bin')\n",
        "my_best_model.save_model('catboost_model.json', format='json')"
      ],
      "execution_count": null,
      "outputs": []
    },
    {
      "cell_type": "code",
      "metadata": {
        "id": "tm9A6Y81qWeW"
      },
      "source": [
        "my_best_model.load_model('catboost_model.bin')\n",
        "print(my_best_model.get_params())\n",
        "print(my_best_model.random_seed_)"
      ],
      "execution_count": null,
      "outputs": []
    },
    {
      "cell_type": "markdown",
      "metadata": {
        "id": "uOx_D3uqqWeW"
      },
      "source": [
        "Подбор гиперпараметров"
      ]
    },
    {
      "cell_type": "code",
      "metadata": {
        "scrolled": true,
        "id": "EaAOxs2IqWeX"
      },
      "source": [
        "cat = CatBoostClassifier(n_estimators=50)\n",
        "\n",
        "grid = {'learning_rate': [0.03, 0.1],\n",
        "        'depth': [4, 6, 10]}\n",
        "#        'l2_leaf_reg': [1, 3, 5, 7, 9]}\n",
        "\n",
        "grid_search_result = cat.grid_search(grid, X=X_train, y=y_train, verbose=False, plot=True)"
      ],
      "execution_count": null,
      "outputs": []
    },
    {
      "cell_type": "code",
      "metadata": {
        "id": "IKV5RW_eqWeX"
      },
      "source": [
        "grid_search_result['params']"
      ],
      "execution_count": null,
      "outputs": []
    },
    {
      "cell_type": "markdown",
      "metadata": {
        "id": "FUHoYpC7qWeX"
      },
      "source": [
        "Визуализация деревьев"
      ]
    },
    {
      "cell_type": "code",
      "metadata": {
        "id": "7Zs_oQefqWeX"
      },
      "source": [
        "cat.plot_tree(tree_idx=0)"
      ],
      "execution_count": null,
      "outputs": []
    },
    {
      "cell_type": "markdown",
      "metadata": {
        "id": "-wkG2RSoqWeX"
      },
      "source": [
        "Хорошее описание гиперпараметров катбуста: https://habr.com/ru/company/otus/blog/527554/"
      ]
    },
    {
      "cell_type": "markdown",
      "metadata": {
        "id": "HBkcVROZqWeX"
      },
      "source": [
        "## LightGBM\n",
        "\n",
        "Особенности LightGBM:\n",
        "\n",
        "* полиственное (leaf-wise), а не поуровневое (depth-wise) построение деревьев\n",
        "\n",
        "* быстрое построение дерева, позволяющее не кодировать категориальные признаки, а использовать исходные категории для получения предикатов\n",
        "\n",
        "* ускорение построения деревьев за счёт бинаризации признаков (объединение значений признака в группы)\n",
        "\n",
        "Почитать подробнее можно тут: https://medium.com/@pushkarmandot/https-medium-com-pushkarmandot-what-is-lightgbm-how-to-implement-it-how-to-fine-tune-the-parameters-60347819b7fc"
      ]
    },
    {
      "cell_type": "code",
      "metadata": {
        "colab": {
          "base_uri": "https://localhost:8080/"
        },
        "id": "N-iiAX2rqWeX",
        "outputId": "9ef44c2c-67cf-42fe-efda-77d43faf7659"
      },
      "source": [
        "import lightgbm as lgb\n",
        "\n",
        "from sklearn.metrics import mean_squared_error\n",
        "from sklearn.model_selection import GridSearchCV\n",
        "\n",
        "from sklearn.datasets import load_boston\n",
        "from sklearn.model_selection import train_test_split\n",
        "\n",
        "data = load_boston()\n",
        "X_full = data.data\n",
        "y_full = data.target\n",
        "\n",
        "X_train, X_test, y_train, y_test = train_test_split(X_full, y_full, test_size=100, \n",
        "                                        random_state=241)"
      ],
      "execution_count": 53,
      "outputs": [
        {
          "output_type": "stream",
          "name": "stderr",
          "text": [
            "/usr/local/lib/python3.7/dist-packages/sklearn/utils/deprecation.py:87: FutureWarning: Function load_boston is deprecated; `load_boston` is deprecated in 1.0 and will be removed in 1.2.\n",
            "\n",
            "    The Boston housing prices dataset has an ethical problem. You can refer to\n",
            "    the documentation of this function for further details.\n",
            "\n",
            "    The scikit-learn maintainers therefore strongly discourage the use of this\n",
            "    dataset unless the purpose of the code is to study and educate about\n",
            "    ethical issues in data science and machine learning.\n",
            "\n",
            "    In this special case, you can fetch the dataset from the original\n",
            "    source::\n",
            "\n",
            "        import pandas as pd\n",
            "        import numpy as np\n",
            "\n",
            "\n",
            "        data_url = \"http://lib.stat.cmu.edu/datasets/boston\"\n",
            "        raw_df = pd.read_csv(data_url, sep=\"\\s+\", skiprows=22, header=None)\n",
            "        data = np.hstack([raw_df.values[::2, :], raw_df.values[1::2, :2]])\n",
            "        target = raw_df.values[1::2, 2]\n",
            "\n",
            "    Alternative datasets include the California housing dataset (i.e.\n",
            "    :func:`~sklearn.datasets.fetch_california_housing`) and the Ames housing\n",
            "    dataset. You can load the datasets as follows::\n",
            "\n",
            "        from sklearn.datasets import fetch_california_housing\n",
            "        housing = fetch_california_housing()\n",
            "\n",
            "    for the California housing dataset and::\n",
            "\n",
            "        from sklearn.datasets import fetch_openml\n",
            "        housing = fetch_openml(name=\"house_prices\", as_frame=True)\n",
            "\n",
            "    for the Ames housing dataset.\n",
            "    \n",
            "  warnings.warn(msg, category=FutureWarning)\n"
          ]
        }
      ]
    },
    {
      "cell_type": "markdown",
      "metadata": {
        "id": "MaCYXA9cqWeX"
      },
      "source": [
        "Обучение"
      ]
    },
    {
      "cell_type": "code",
      "metadata": {
        "colab": {
          "base_uri": "https://localhost:8080/"
        },
        "id": "v3CLiTmPqWeX",
        "outputId": "9164f9c5-c44a-4fcb-c355-9c2bf6c83311"
      },
      "source": [
        "print('Starting training...')\n",
        "# train\n",
        "gbm = lgb.LGBMRegressor(num_leaves=31,\n",
        "                        learning_rate=0.05,\n",
        "                        n_estimators=20)\n",
        "gbm.fit(X_train, y_train,\n",
        "        eval_set=[(X_test, y_test)],\n",
        "        eval_metric='l1',\n",
        "        early_stopping_rounds=5)"
      ],
      "execution_count": 54,
      "outputs": [
        {
          "output_type": "stream",
          "name": "stdout",
          "text": [
            "Starting training...\n",
            "[1]\tvalid_0's l2: 76.761\tvalid_0's l1: 6.55152\n",
            "Training until validation scores don't improve for 5 rounds.\n",
            "[2]\tvalid_0's l2: 71.5199\tvalid_0's l1: 6.29855\n",
            "[3]\tvalid_0's l2: 67.0386\tvalid_0's l1: 6.08526\n",
            "[4]\tvalid_0's l2: 62.9998\tvalid_0's l1: 5.88219\n",
            "[5]\tvalid_0's l2: 58.889\tvalid_0's l1: 5.66549\n",
            "[6]\tvalid_0's l2: 55.1763\tvalid_0's l1: 5.45931\n",
            "[7]\tvalid_0's l2: 52.2049\tvalid_0's l1: 5.29116\n",
            "[8]\tvalid_0's l2: 49.089\tvalid_0's l1: 5.10806\n",
            "[9]\tvalid_0's l2: 46.2628\tvalid_0's l1: 4.93583\n",
            "[10]\tvalid_0's l2: 44.0623\tvalid_0's l1: 4.79662\n",
            "[11]\tvalid_0's l2: 41.4139\tvalid_0's l1: 4.62366\n",
            "[12]\tvalid_0's l2: 39.5294\tvalid_0's l1: 4.48798\n",
            "[13]\tvalid_0's l2: 37.383\tvalid_0's l1: 4.32989\n",
            "[14]\tvalid_0's l2: 35.4853\tvalid_0's l1: 4.18449\n",
            "[15]\tvalid_0's l2: 34.094\tvalid_0's l1: 4.07735\n",
            "[16]\tvalid_0's l2: 32.4964\tvalid_0's l1: 3.96772\n",
            "[17]\tvalid_0's l2: 31.299\tvalid_0's l1: 3.8743\n",
            "[18]\tvalid_0's l2: 30.0159\tvalid_0's l1: 3.77696\n",
            "[19]\tvalid_0's l2: 28.8212\tvalid_0's l1: 3.68361\n",
            "[20]\tvalid_0's l2: 27.6637\tvalid_0's l1: 3.5872\n",
            "Did not meet early stopping. Best iteration is:\n",
            "[20]\tvalid_0's l2: 27.6637\tvalid_0's l1: 3.5872\n"
          ]
        },
        {
          "output_type": "execute_result",
          "data": {
            "text/plain": [
              "LGBMRegressor(learning_rate=0.05, n_estimators=20)"
            ]
          },
          "metadata": {},
          "execution_count": 54
        }
      ]
    },
    {
      "cell_type": "markdown",
      "metadata": {
        "id": "CFh72sQtqWeX"
      },
      "source": [
        "Предсказание и оценка качества"
      ]
    },
    {
      "cell_type": "code",
      "metadata": {
        "colab": {
          "base_uri": "https://localhost:8080/"
        },
        "id": "whXjNwf-qWeX",
        "outputId": "22198aef-aa09-4767-f63b-0f87175cb55a"
      },
      "source": [
        "print('Starting predicting...')\n",
        "\n",
        "y_pred = gbm.predict(X_test, num_iteration=gbm.best_iteration_)\n",
        "\n",
        "print('The rmse of prediction is:', mean_squared_error(y_test, y_pred) ** 0.5)\n",
        "\n",
        "# feature importances\n",
        "print('Feature importances:', list(gbm.feature_importances_))"
      ],
      "execution_count": 55,
      "outputs": [
        {
          "output_type": "stream",
          "name": "stdout",
          "text": [
            "Starting predicting...\n",
            "The rmse of prediction is: 5.259625962258064\n",
            "Feature importances: [35, 0, 6, 0, 20, 70, 21, 31, 3, 7, 15, 4, 83]\n"
          ]
        }
      ]
    },
    {
      "cell_type": "markdown",
      "metadata": {
        "id": "v3NK6NfbqWeX"
      },
      "source": [
        "Можно задать любую (придумать свою, например) метрику качества"
      ]
    },
    {
      "cell_type": "code",
      "metadata": {
        "colab": {
          "base_uri": "https://localhost:8080/"
        },
        "id": "p3dUDhUgqWeX",
        "outputId": "dc4302f7-2d81-4942-e19f-517e990a35d6"
      },
      "source": [
        "# self-defined eval metric\n",
        "# f(y_true: array, y_pred: array) -> name: string, eval_result: float, is_higher_better: bool\n",
        "# Root Mean Squared Logarithmic Error (RMSLE)\n",
        "def rmsle(y_true, y_pred):\n",
        "    return 'RMSLE', np.sqrt(np.mean(np.power(np.log1p(y_pred) - np.log1p(y_true), 2))), False\n",
        "\n",
        "\n",
        "print('Starting training with custom eval function...')\n",
        "# train\n",
        "gbm.fit(X_train, y_train,\n",
        "        eval_set=[(X_test, y_test)],\n",
        "        eval_metric=rmsle,\n",
        "        early_stopping_rounds=5)\n",
        "\n",
        "print('Starting predicting...')\n",
        "# predict\n",
        "y_pred = gbm.predict(X_test, num_iteration=gbm.best_iteration_)\n",
        "# eval\n",
        "print('The rmsle of prediction is:', rmsle(y_test, y_pred)[1])"
      ],
      "execution_count": 56,
      "outputs": [
        {
          "output_type": "stream",
          "name": "stdout",
          "text": [
            "Starting training with custom eval function...\n",
            "[1]\tvalid_0's l2: 76.761\tvalid_0's RMSLE: 0.395874\n",
            "Training until validation scores don't improve for 5 rounds.\n",
            "[2]\tvalid_0's l2: 71.5199\tvalid_0's RMSLE: 0.383203\n",
            "[3]\tvalid_0's l2: 67.0386\tvalid_0's RMSLE: 0.372011\n",
            "[4]\tvalid_0's l2: 62.9998\tvalid_0's RMSLE: 0.361535\n",
            "[5]\tvalid_0's l2: 58.889\tvalid_0's RMSLE: 0.350227\n",
            "[6]\tvalid_0's l2: 55.1763\tvalid_0's RMSLE: 0.33954\n",
            "[7]\tvalid_0's l2: 52.2049\tvalid_0's RMSLE: 0.330704\n",
            "[8]\tvalid_0's l2: 49.089\tvalid_0's RMSLE: 0.320856\n",
            "[9]\tvalid_0's l2: 46.2628\tvalid_0's RMSLE: 0.311518\n",
            "[10]\tvalid_0's l2: 44.0623\tvalid_0's RMSLE: 0.304175\n",
            "[11]\tvalid_0's l2: 41.4139\tvalid_0's RMSLE: 0.295307\n",
            "[12]\tvalid_0's l2: 39.5294\tvalid_0's RMSLE: 0.288303\n",
            "[13]\tvalid_0's l2: 37.383\tvalid_0's RMSLE: 0.280462\n",
            "[14]\tvalid_0's l2: 35.4853\tvalid_0's RMSLE: 0.273098\n",
            "[15]\tvalid_0's l2: 34.094\tvalid_0's RMSLE: 0.26711\n",
            "[16]\tvalid_0's l2: 32.4964\tvalid_0's RMSLE: 0.260523\n",
            "[17]\tvalid_0's l2: 31.299\tvalid_0's RMSLE: 0.255064\n",
            "[18]\tvalid_0's l2: 30.0159\tvalid_0's RMSLE: 0.249275\n",
            "[19]\tvalid_0's l2: 28.8212\tvalid_0's RMSLE: 0.243547\n",
            "[20]\tvalid_0's l2: 27.6637\tvalid_0's RMSLE: 0.238014\n",
            "Did not meet early stopping. Best iteration is:\n",
            "[20]\tvalid_0's l2: 27.6637\tvalid_0's RMSLE: 0.238014\n",
            "Starting predicting...\n",
            "The rmsle of prediction is: 0.23801390867883926\n"
          ]
        }
      ]
    },
    {
      "cell_type": "markdown",
      "metadata": {
        "id": "mzmFot2PqWeY"
      },
      "source": [
        "Подбор гиперпараметров"
      ]
    },
    {
      "cell_type": "code",
      "metadata": {
        "colab": {
          "base_uri": "https://localhost:8080/"
        },
        "id": "g6mawgC9qWeY",
        "outputId": "fc1a5a8d-987c-4b7a-df83-dd5bd98d9d36"
      },
      "source": [
        "# other scikit-learn modules\n",
        "estimator = lgb.LGBMRegressor(num_leaves=31)\n",
        "\n",
        "param_grid = {\n",
        "    'learning_rate': [0.01, 0.1, 1],\n",
        "    'n_estimators': [20, 40]\n",
        "}\n",
        "\n",
        "gbm = GridSearchCV(estimator, param_grid, cv=3)\n",
        "gbm.fit(X_train, y_train)\n",
        "\n",
        "print('Best parameters found by grid search are:', gbm.best_params_)"
      ],
      "execution_count": 57,
      "outputs": [
        {
          "output_type": "stream",
          "name": "stdout",
          "text": [
            "Best parameters found by grid search are: {'learning_rate': 0.1, 'n_estimators': 40}\n"
          ]
        }
      ]
    },
    {
      "cell_type": "markdown",
      "metadata": {
        "id": "dn7EOITcqWeY"
      },
      "source": [
        "Предсказание и оценка качества"
      ]
    },
    {
      "cell_type": "code",
      "metadata": {
        "id": "BOcLjKZhqWeY"
      },
      "source": [
        "pred = gbm.predict(X_test)"
      ],
      "execution_count": 58,
      "outputs": []
    },
    {
      "cell_type": "code",
      "metadata": {
        "colab": {
          "base_uri": "https://localhost:8080/"
        },
        "id": "aBeCTKLUqWeY",
        "outputId": "b9b4e83b-c9c5-4a65-cb61-8846e4d5fd96"
      },
      "source": [
        "from sklearn.metrics import mean_squared_error\n",
        "mean_squared_error(y_test, pred)"
      ],
      "execution_count": 59,
      "outputs": [
        {
          "output_type": "execute_result",
          "data": {
            "text/plain": [
              "12.703535974721541"
            ]
          },
          "metadata": {},
          "execution_count": 59
        }
      ]
    }
  ]
}