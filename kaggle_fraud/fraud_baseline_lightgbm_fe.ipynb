{
 "cells": [
  {
   "cell_type": "code",
   "execution_count": null,
   "metadata": {
    "id": "fy3of7LjTeI9"
   },
   "outputs": [],
   "source": [
    "# скачиваем файлы\n",
    "!wget --no-check-certificate 'https://www.dropbox.com/s/5iuef7c9ljj84t6/train_transaction.csv?dl=0' -O train_transaction.csv\n",
    "!wget --no-check-certificate 'https://www.dropbox.com/s/cmy01z5fw7ohlmd/train_identity.csv?dl=0' -O train_identity.csv\n",
    "!wget --no-check-certificate 'https://www.dropbox.com/s/7thqkuxnwsa7njj/test_transaction.csv?dl=0' -O test_transaction.csv\n",
    "!wget --no-check-certificate 'https://www.dropbox.com/s/b40nvbb9e2usd5w/test_identity.csv?dl=0' -O test_identity.csv\n",
    "!wget --no-check-certificate 'https://www.dropbox.com/s/arkyoz0bel8z4d2/sample_submission.csv?dl=0' -O sample_submission.csv"
   ]
  },
  {
   "cell_type": "code",
   "execution_count": null,
   "metadata": {
    "id": "4lHm_u8pTgAW"
   },
   "outputs": [],
   "source": [
    "import lightgbm as lgb\n",
    "import matplotlib.pyplot as plt\n",
    "import numpy as np\n",
    "import os\n",
    "import pandas as pd\n",
    "import seaborn as sns\n",
    "from sklearn.metrics import roc_auc_score\n",
    "from sklearn.preprocessing import LabelEncoder\n",
    "from tqdm import tqdm\n",
    "\n",
    "sns.set()\n",
    "\n",
    "%matplotlib inline"
   ]
  },
  {
   "cell_type": "code",
   "execution_count": null,
   "metadata": {
    "id": "gm9LsUSGTiQF"
   },
   "outputs": [],
   "source": [
    "def reduce_mem_usage(df):\n",
    "    NAlist = [] # Keeps track of columns that have missing values filled in. \n",
    "    for col in tqdm(df.columns):\n",
    "        if df[col].dtype != object:  # Exclude strings\n",
    "\n",
    "            # make variables for Int, max and min\n",
    "            IsInt = False\n",
    "            col_max_value = df[col].max()\n",
    "            col_min_value = df[col].min()\n",
    "\n",
    "            # Integer does not support NA, therefore, NA needs to be filled\n",
    "            if not np.isfinite(df[col]).all(): \n",
    "                NAlist.append(col)\n",
    "                df[col].fillna(col_min_value - 1, inplace=True)\n",
    "\n",
    "            # test if column can be converted to an integer\n",
    "            col_as_int = df[col].fillna(0).astype(np.int64)\n",
    "            diff = (df[col] - col_as_int)\n",
    "            diff = diff.sum()\n",
    "            if np.abs(diff) < 0.01:\n",
    "                IsInt = True\n",
    "\n",
    "            # Make Integer/unsigned Integer datatypes\n",
    "            if IsInt:\n",
    "                if col_min_value >= 0:\n",
    "                    if col_max_value < 255:\n",
    "                        df[col] = df[col].astype(np.uint8)\n",
    "                    elif col_max_value < 65535:\n",
    "                        df[col] = df[col].astype(np.uint16)\n",
    "                    elif col_max_value < 4294967295:\n",
    "                        df[col] = df[col].astype(np.uint32)\n",
    "                    else:\n",
    "                        df[col] = df[col].astype(np.uint64)\n",
    "                else:\n",
    "                    if col_min_value > np.iinfo(np.int8).min and col_max_value < np.iinfo(np.int8).max:\n",
    "                        df[col] = df[col].astype(np.int8)\n",
    "                    elif col_min_value > np.iinfo(np.int16).min and col_max_value < np.iinfo(np.int16).max:\n",
    "                        df[col] = df[col].astype(np.int16)\n",
    "                    elif col_min_value > np.iinfo(np.int32).min and col_max_value < np.iinfo(np.int32).max:\n",
    "                        df[col] = df[col].astype(np.int32)\n",
    "                    elif col_min_value > np.iinfo(np.int64).min and col_max_value < np.iinfo(np.int64).max:\n",
    "                        df[col] = df[col].astype(np.int64)    \n",
    "\n",
    "            # Make float datatypes 32 bit\n",
    "            else:\n",
    "                df[col] = df[col].astype(np.float32)\n",
    "\n",
    "    return df, NAlist"
   ]
  },
  {
   "cell_type": "code",
   "execution_count": null,
   "metadata": {
    "colab": {
     "base_uri": "https://localhost:8080/",
     "height": 51
    },
    "id": "_dua9rPETjZm",
    "outputId": "f3cccb19-5b67-4d1c-a87f-bb487bbd2f20"
   },
   "outputs": [
    {
     "name": "stderr",
     "output_type": "stream",
     "text": [
      "100%|██████████| 434/434 [00:51<00:00,  8.47it/s]\n",
      "100%|██████████| 433/433 [00:23<00:00, 18.28it/s]\n"
     ]
    }
   ],
   "source": [
    "INPUT_DIR = '.'\n",
    "\n",
    "train_transaction = pd.read_csv(os.path.join(INPUT_DIR, 'train_transaction.csv'))\n",
    "train_identity = pd.read_csv(os.path.join(INPUT_DIR, 'train_identity.csv'))\n",
    "test_transaction = pd.read_csv(os.path.join(INPUT_DIR, 'test_transaction.csv'))\n",
    "test_identity = pd.read_csv(os.path.join(INPUT_DIR, 'test_identity.csv'))\n",
    "sample_submission = pd.read_csv(os.path.join(INPUT_DIR, 'sample_submission.csv'))\n",
    "\n",
    "df_train = train_transaction.merge(train_identity, how='left', on='TransactionID')\n",
    "del train_transaction, train_identity\n",
    "df_train, df_train_NAlist = reduce_mem_usage(df_train)\n",
    "\n",
    "df_test = test_transaction.merge(test_identity, how='left', on='TransactionID')\n",
    "del test_transaction, test_identity\n",
    "df_test, df_test_NAlist = reduce_mem_usage(df_test)"
   ]
  },
  {
   "cell_type": "markdown",
   "metadata": {
    "id": "mOQVKOz5Tu-G"
   },
   "source": [
    "Для того, чтобы улучшать качество предсказаний, можно не только менять модели и подбирать их гиперпараметры, но и модифицировать выборку. Это можно делать разными техниками - преобразования признаков, их отбор, извлечение новых и т.п. Это может помочь в силу того, что модель иногда не способна увидеть закономерности, скрытые внутри признаков, в отличие от человека, который может выделить их вручную. Подобные операции даже могут привести к появлению так называемых \"magic features\": их добавление к выборке может дать сильный прирост в качестве. Пример: [magic features от золотого призера одного из соревнований](https://www.kaggle.com/jturkewitz/magic-features-0-03-gain).\n",
    "\n",
    "Посмотрим на распределение значений числового признака `'TransactionAmt'` в обучающей выборке:"
   ]
  },
  {
   "cell_type": "code",
   "execution_count": null,
   "metadata": {
    "colab": {
     "base_uri": "https://localhost:8080/",
     "height": 506
    },
    "id": "-SIcjRnVTkw9",
    "outputId": "d6c5521f-f6d1-45c2-b709-c5c6498d14ae"
   },
   "outputs": [
    {
     "data": {
      "image/png": "[encoded data removed]",
      "text/plain": [
       "<Figure size 792x576 with 1 Axes>"
      ]
     },
     "metadata": {
      "needs_background": "light",
      "tags": []
     },
     "output_type": "display_data"
    }
   ],
   "source": [
    "plt.figure(figsize=(11, 8))\n",
    "sns.distplot(df_train['TransactionAmt'])\n",
    "plt.show()"
   ]
  },
  {
   "cell_type": "markdown",
   "metadata": {
    "id": "wkpFCwuwT4c9"
   },
   "source": [
    "Как видно, распределение очень сильно смещено. Прологарифмируем признак и добавим результат в данные как новый:"
   ]
  },
  {
   "cell_type": "code",
   "execution_count": null,
   "metadata": {
    "id": "yVkPAjA_T2im"
   },
   "outputs": [],
   "source": [
    "df_train['TransactionAmt_log'] = np.log1p(df_train['TransactionAmt'])\n",
    "df_test['TransactionAmt_log'] = np.log1p(df_test['TransactionAmt'])"
   ]
  },
  {
   "cell_type": "code",
   "execution_count": null,
   "metadata": {
    "colab": {
     "base_uri": "https://localhost:8080/",
     "height": 502
    },
    "id": "-TX6bwf_T6y1",
    "outputId": "68083de8-68fe-4ad0-e9c5-659c4314e3f3"
   },
   "outputs": [
    {
     "data": {
      "image/png": "[encoded data removed]",
      "text/plain": [
       "<Figure size 792x576 with 1 Axes>"
      ]
     },
     "metadata": {
      "needs_background": "light",
      "tags": []
     },
     "output_type": "display_data"
    }
   ],
   "source": [
    "plt.figure(figsize=(11, 8))\n",
    "sns.distplot(df_train['TransactionAmt_log'])\n",
    "plt.show()"
   ]
  },
  {
   "cell_type": "markdown",
   "metadata": {
    "id": "nUCKkooXT9JV"
   },
   "source": [
    "Итак, распределение мы выровняли.\n",
    "\n",
    "Заметим, что отнюдь не все суммы транзакций (в долларах) - целочисленные:"
   ]
  },
  {
   "cell_type": "code",
   "execution_count": null,
   "metadata": {
    "colab": {
     "base_uri": "https://localhost:8080/",
     "height": 612
    },
    "id": "WOXwyCjhT7gi",
    "outputId": "f4b56946-1e0e-4cd6-9415-14094d6f5b4c"
   },
   "outputs": [
    {
     "data": {
      "text/plain": [
       "59.000000     20509\n",
       "117.000000    19544\n",
       "100.000000    16685\n",
       "107.949997    15869\n",
       "57.950001     15615\n",
       "50.000000     14270\n",
       "49.000000     10725\n",
       "226.000000     7966\n",
       "39.000000      7490\n",
       "29.000000      7177\n",
       "150.000000     6700\n",
       "47.950001      6448\n",
       "25.000000      6166\n",
       "35.950001      5888\n",
       "171.000000     5245\n",
       "34.000000      5209\n",
       "200.000000     5183\n",
       "30.950001      5082\n",
       "77.000000      4974\n",
       "25.950001      4905\n",
       "75.000000      4109\n",
       "209.949997     4099\n",
       "335.000000     3900\n",
       "67.949997      3533\n",
       "159.949997     3176\n",
       "97.000000      3163\n",
       "92.000000      2887\n",
       "30.000000      2842\n",
       "250.000000     2781\n",
       "58.950001      2455\n",
       "40.000000      2412\n",
       "108.500000     2316\n",
       "108.949997     2288\n",
       "15.000000      2200\n",
       "Name: TransactionAmt, dtype: int64"
      ]
     },
     "execution_count": 22,
     "metadata": {
      "tags": []
     },
     "output_type": "execute_result"
    }
   ],
   "source": [
    "df_train['TransactionAmt'].value_counts()[:15]"
   ]
  },
  {
   "cell_type": "markdown",
   "metadata": {
    "id": "zlVqGnfST_8l"
   },
   "source": [
    "Это означает, что можно рассмотреть признак \"количество центов\" (вдруг мошенничество чаще совершается в случае \"нецелых\" транзакций?). Добавим его в данные и построим два его распределения: для мошеннических и обычных транзакций."
   ]
  },
  {
   "cell_type": "code",
   "execution_count": null,
   "metadata": {
    "colab": {
     "base_uri": "https://localhost:8080/",
     "height": 502
    },
    "id": "sMdk-OOpT-jV",
    "outputId": "06105c0e-cbb5-49f9-8fd6-1e46789e9e53"
   },
   "outputs": [
    {
     "data": {
      "image/png": "[encoded data removed]",
      "text/plain": [
       "<Figure size 792x576 with 1 Axes>"
      ]
     },
     "metadata": {
      "needs_background": "light",
      "tags": []
     },
     "output_type": "display_data"
    }
   ],
   "source": [
    "df_train['TransactionAmt_Cents'] = np.modf(df_train['TransactionAmt'])[0] * 100\n",
    "df_test['TransactionAmt_Cents'] = np.modf(df_test['TransactionAmt'])[0] * 100\n",
    "\n",
    "plt.figure(figsize=(11, 8))\n",
    "sns.distplot(df_train[df_train['isFraud'] == 0]['TransactionAmt_Cents'], label='isFraud 0')\n",
    "sns.distplot(df_train[df_train['isFraud'] == 1]['TransactionAmt_Cents'], label='isFraud 1')\n",
    "plt.legend(loc='best')\n",
    "plt.show()"
   ]
  },
  {
   "cell_type": "markdown",
   "metadata": {
    "id": "ArbES7uoUCg9"
   },
   "source": [
    "Из имеющихся признаков можно извлекать новые. Многие признаки анонимизированы, однако есть достаточно понятные - скажем, почта или OS устройства, с которого совершалась транзакция. Извлечем новый признак - окончание почты, который может нести в себе какую-нибудь информацию - например, информацию о стране (если название домена заканчивается на `.fr`)."
   ]
  },
  {
   "cell_type": "code",
   "execution_count": null,
   "metadata": {
    "colab": {
     "base_uri": "https://localhost:8080/",
     "height": 359
    },
    "id": "LE2lcmOsUBGV",
    "outputId": "6ca36654-b04b-4f2f-c7d6-aceeb45dc72a"
   },
   "outputs": [
    {
     "data": {
      "text/html": [
       "<div>\n",
       "<style scoped>\n",
       "    .dataframe tbody tr th:only-of-type {\n",
       "        vertical-align: middle;\n",
       "    }\n",
       "\n",
       "    .dataframe tbody tr th {\n",
       "        vertical-align: top;\n",
       "    }\n",
       "\n",
       "    .dataframe thead th {\n",
       "        text-align: right;\n",
       "    }\n",
       "</style>\n",
       "<table border=\"1\" class=\"dataframe\">\n",
       "  <thead>\n",
       "    <tr style=\"text-align: right;\">\n",
       "      <th></th>\n",
       "      <th>P_emaildomain</th>\n",
       "      <th>P_emaildomain_suffix</th>\n",
       "      <th>R_emaildomain</th>\n",
       "      <th>R_emaildomain_suffix</th>\n",
       "    </tr>\n",
       "  </thead>\n",
       "  <tbody>\n",
       "    <tr>\n",
       "      <th>417549</th>\n",
       "      <td>gmail.com</td>\n",
       "      <td>com</td>\n",
       "      <td>NaN</td>\n",
       "      <td>nan</td>\n",
       "    </tr>\n",
       "    <tr>\n",
       "      <th>417550</th>\n",
       "      <td>gmail.com</td>\n",
       "      <td>com</td>\n",
       "      <td>NaN</td>\n",
       "      <td>nan</td>\n",
       "    </tr>\n",
       "    <tr>\n",
       "      <th>417551</th>\n",
       "      <td>att.net</td>\n",
       "      <td>net</td>\n",
       "      <td>NaN</td>\n",
       "      <td>nan</td>\n",
       "    </tr>\n",
       "    <tr>\n",
       "      <th>417552</th>\n",
       "      <td>anonymous.com</td>\n",
       "      <td>com</td>\n",
       "      <td>NaN</td>\n",
       "      <td>nan</td>\n",
       "    </tr>\n",
       "    <tr>\n",
       "      <th>417553</th>\n",
       "      <td>yahoo.com</td>\n",
       "      <td>com</td>\n",
       "      <td>NaN</td>\n",
       "      <td>nan</td>\n",
       "    </tr>\n",
       "    <tr>\n",
       "      <th>417554</th>\n",
       "      <td>gmail.com</td>\n",
       "      <td>com</td>\n",
       "      <td>NaN</td>\n",
       "      <td>nan</td>\n",
       "    </tr>\n",
       "    <tr>\n",
       "      <th>417555</th>\n",
       "      <td>gmail.com</td>\n",
       "      <td>com</td>\n",
       "      <td>NaN</td>\n",
       "      <td>nan</td>\n",
       "    </tr>\n",
       "    <tr>\n",
       "      <th>417556</th>\n",
       "      <td>hotmail.com</td>\n",
       "      <td>com</td>\n",
       "      <td>hotmail.com</td>\n",
       "      <td>com</td>\n",
       "    </tr>\n",
       "    <tr>\n",
       "      <th>417557</th>\n",
       "      <td>gmail.com</td>\n",
       "      <td>com</td>\n",
       "      <td>NaN</td>\n",
       "      <td>nan</td>\n",
       "    </tr>\n",
       "    <tr>\n",
       "      <th>417558</th>\n",
       "      <td>gmail.com</td>\n",
       "      <td>com</td>\n",
       "      <td>NaN</td>\n",
       "      <td>nan</td>\n",
       "    </tr>\n",
       "  </tbody>\n",
       "</table>\n",
       "</div>"
      ],
      "text/plain": [
       "        P_emaildomain P_emaildomain_suffix R_emaildomain R_emaildomain_suffix\n",
       "417549      gmail.com                  com           NaN                  nan\n",
       "417550      gmail.com                  com           NaN                  nan\n",
       "417551        att.net                  net           NaN                  nan\n",
       "417552  anonymous.com                  com           NaN                  nan\n",
       "417553      yahoo.com                  com           NaN                  nan\n",
       "417554      gmail.com                  com           NaN                  nan\n",
       "417555      gmail.com                  com           NaN                  nan\n",
       "417556    hotmail.com                  com   hotmail.com                  com\n",
       "417557      gmail.com                  com           NaN                  nan\n",
       "417558      gmail.com                  com           NaN                  nan"
      ]
     },
     "execution_count": 24,
     "metadata": {
      "tags": []
     },
     "output_type": "execute_result"
    }
   ],
   "source": [
    "for col in ['P_emaildomain', 'R_emaildomain']:\n",
    "    df_train[col + '_suffix'] = df_train[col].map(lambda x: str(x).split('.')[-1])\n",
    "    df_test[col + '_suffix'] = df_test[col].map(lambda x: str(x).split('.')[-1])\n",
    "\n",
    "df_train[['P_emaildomain', 'P_emaildomain_suffix', 'R_emaildomain', 'R_emaildomain_suffix']].tail(10)"
   ]
  },
  {
   "cell_type": "markdown",
   "metadata": {
    "id": "aIbpg9_sUF1d"
   },
   "source": [
    "Новые признаки можно извлекать на основании сочетаний некоторых имеющихся. Например, добавим в данные признак, отвечающий за то, совпадают ли домены покупателя и получателя - вдруг это что-то даст."
   ]
  },
  {
   "cell_type": "code",
   "execution_count": null,
   "metadata": {
    "colab": {
     "base_uri": "https://localhost:8080/",
     "height": 204
    },
    "id": "w81ZF7EWUEb2",
    "outputId": "e9e9f2ef-3a81-4cfd-b7af-b23238d3be0c"
   },
   "outputs": [
    {
     "data": {
      "text/html": [
       "<div>\n",
       "<style scoped>\n",
       "    .dataframe tbody tr th:only-of-type {\n",
       "        vertical-align: middle;\n",
       "    }\n",
       "\n",
       "    .dataframe tbody tr th {\n",
       "        vertical-align: top;\n",
       "    }\n",
       "\n",
       "    .dataframe thead th {\n",
       "        text-align: right;\n",
       "    }\n",
       "</style>\n",
       "<table border=\"1\" class=\"dataframe\">\n",
       "  <thead>\n",
       "    <tr style=\"text-align: right;\">\n",
       "      <th></th>\n",
       "      <th>P_emaildomain</th>\n",
       "      <th>R_emaildomain</th>\n",
       "      <th>same_emaildomain</th>\n",
       "    </tr>\n",
       "  </thead>\n",
       "  <tbody>\n",
       "    <tr>\n",
       "      <th>417554</th>\n",
       "      <td>gmail.com</td>\n",
       "      <td>NaN</td>\n",
       "      <td>0</td>\n",
       "    </tr>\n",
       "    <tr>\n",
       "      <th>417555</th>\n",
       "      <td>gmail.com</td>\n",
       "      <td>NaN</td>\n",
       "      <td>0</td>\n",
       "    </tr>\n",
       "    <tr>\n",
       "      <th>417556</th>\n",
       "      <td>hotmail.com</td>\n",
       "      <td>hotmail.com</td>\n",
       "      <td>1</td>\n",
       "    </tr>\n",
       "    <tr>\n",
       "      <th>417557</th>\n",
       "      <td>gmail.com</td>\n",
       "      <td>NaN</td>\n",
       "      <td>0</td>\n",
       "    </tr>\n",
       "    <tr>\n",
       "      <th>417558</th>\n",
       "      <td>gmail.com</td>\n",
       "      <td>NaN</td>\n",
       "      <td>0</td>\n",
       "    </tr>\n",
       "  </tbody>\n",
       "</table>\n",
       "</div>"
      ],
      "text/plain": [
       "       P_emaildomain R_emaildomain  same_emaildomain\n",
       "417554     gmail.com           NaN                 0\n",
       "417555     gmail.com           NaN                 0\n",
       "417556   hotmail.com   hotmail.com                 1\n",
       "417557     gmail.com           NaN                 0\n",
       "417558     gmail.com           NaN                 0"
      ]
     },
     "execution_count": 25,
     "metadata": {
      "tags": []
     },
     "output_type": "execute_result"
    }
   ],
   "source": [
    "df_train['same_emaildomain'] = (df_train['P_emaildomain'] == df_train['R_emaildomain']).astype('uint8')\n",
    "df_test['same_emaildomain'] = (df_test['P_emaildomain'] == df_test['R_emaildomain']).astype('uint8')\n",
    "df_train[['P_emaildomain', 'R_emaildomain', 'same_emaildomain']].tail()"
   ]
  },
  {
   "cell_type": "markdown",
   "metadata": {
    "id": "R0XwZUpoUMMF"
   },
   "source": [
    "Можно комбинировать признаки - производить арифметические операции между числовыми признаками, использовать сочетания категориальных. Такие комбинации иногда позволяют породить мощные признаки. Например, если какие-то из признаков `'card1'-'card6'` и `'addr1'-'addr2'` содержат важную информацию о клиенте, то объединение некоторых из них может помочь лучше идентифицировать клиента и факт мошенничества в транзакции. Главное не переусердствовать - если признаки содержат очень много категорий, то их объединение скорее всего приведет к появлению признака с колоссальным количеством категорий, что в свою очередь может привести к ухудшению качества. Из полученного признака тогда можно извлечь какую-то информацию с помощью группировки и агрегирования, но оставлять его просто так, скорее всего, опасно. Чтобы понять, о чем речь, попробуйте объединить признаки `'card1'` и `'card2'` - это два самых важных признака для модели из бейзлайна.\n",
    "\n",
    "В данном случае скомбинируем признаки `'card3'` и `'card5'` - они входят в топ-50 важных признаков для модели из бейзлайна."
   ]
  },
  {
   "cell_type": "code",
   "execution_count": null,
   "metadata": {
    "colab": {
     "base_uri": "https://localhost:8080/",
     "height": 359
    },
    "id": "2CgtWmeOUJPV",
    "outputId": "eae66bbd-d43c-4a05-c686-1e2226428041"
   },
   "outputs": [
    {
     "data": {
      "text/html": [
       "<div>\n",
       "<style scoped>\n",
       "    .dataframe tbody tr th:only-of-type {\n",
       "        vertical-align: middle;\n",
       "    }\n",
       "\n",
       "    .dataframe tbody tr th {\n",
       "        vertical-align: top;\n",
       "    }\n",
       "\n",
       "    .dataframe thead th {\n",
       "        text-align: right;\n",
       "    }\n",
       "</style>\n",
       "<table border=\"1\" class=\"dataframe\">\n",
       "  <thead>\n",
       "    <tr style=\"text-align: right;\">\n",
       "      <th></th>\n",
       "      <th>card3</th>\n",
       "      <th>card5</th>\n",
       "      <th>card3_card5</th>\n",
       "    </tr>\n",
       "  </thead>\n",
       "  <tbody>\n",
       "    <tr>\n",
       "      <th>0</th>\n",
       "      <td>150</td>\n",
       "      <td>142</td>\n",
       "      <td>150_142</td>\n",
       "    </tr>\n",
       "    <tr>\n",
       "      <th>1</th>\n",
       "      <td>150</td>\n",
       "      <td>102</td>\n",
       "      <td>150_102</td>\n",
       "    </tr>\n",
       "    <tr>\n",
       "      <th>2</th>\n",
       "      <td>150</td>\n",
       "      <td>166</td>\n",
       "      <td>150_166</td>\n",
       "    </tr>\n",
       "    <tr>\n",
       "      <th>3</th>\n",
       "      <td>150</td>\n",
       "      <td>117</td>\n",
       "      <td>150_117</td>\n",
       "    </tr>\n",
       "    <tr>\n",
       "      <th>4</th>\n",
       "      <td>150</td>\n",
       "      <td>102</td>\n",
       "      <td>150_102</td>\n",
       "    </tr>\n",
       "    <tr>\n",
       "      <th>5</th>\n",
       "      <td>150</td>\n",
       "      <td>226</td>\n",
       "      <td>150_226</td>\n",
       "    </tr>\n",
       "    <tr>\n",
       "      <th>6</th>\n",
       "      <td>150</td>\n",
       "      <td>166</td>\n",
       "      <td>150_166</td>\n",
       "    </tr>\n",
       "    <tr>\n",
       "      <th>7</th>\n",
       "      <td>150</td>\n",
       "      <td>226</td>\n",
       "      <td>150_226</td>\n",
       "    </tr>\n",
       "    <tr>\n",
       "      <th>8</th>\n",
       "      <td>150</td>\n",
       "      <td>226</td>\n",
       "      <td>150_226</td>\n",
       "    </tr>\n",
       "    <tr>\n",
       "      <th>9</th>\n",
       "      <td>150</td>\n",
       "      <td>224</td>\n",
       "      <td>150_224</td>\n",
       "    </tr>\n",
       "  </tbody>\n",
       "</table>\n",
       "</div>"
      ],
      "text/plain": [
       "   card3  card5 card3_card5\n",
       "0    150    142     150_142\n",
       "1    150    102     150_102\n",
       "2    150    166     150_166\n",
       "3    150    117     150_117\n",
       "4    150    102     150_102\n",
       "5    150    226     150_226\n",
       "6    150    166     150_166\n",
       "7    150    226     150_226\n",
       "8    150    226     150_226\n",
       "9    150    224     150_224"
      ]
     },
     "execution_count": 26,
     "metadata": {
      "tags": []
     },
     "output_type": "execute_result"
    }
   ],
   "source": [
    "df_train['card3_card5'] = df_train['card3'].astype(str) + '_' + df_train['card5'].astype(str)\n",
    "df_test['card3_card5'] = df_test['card3'].astype(str) + '_' + df_test['card5'].astype(str)\n",
    "df_train[['card3', 'card5', 'card3_card5']].head(10)"
   ]
  },
  {
   "cell_type": "code",
   "execution_count": null,
   "metadata": {
    "colab": {
     "base_uri": "https://localhost:8080/",
     "height": 68
    },
    "id": "jjrSEIZ6ojbt",
    "outputId": "4c926d32-d9e7-47e7-da48-b00596facd4f"
   },
   "outputs": [
    {
     "name": "stdout",
     "output_type": "stream",
     "text": [
      "Number of categories in train for card3: 106\n",
      "Number of categories in train for card5: 111\n",
      "Number of categories in train for card3_card5: 553\n"
     ]
    }
   ],
   "source": [
    "for col in ['card3', 'card5', 'card3_card5']:\n",
    "    print('Number of categories in train for {}: {}'.format(col, df_train[col].nunique()))"
   ]
  },
  {
   "cell_type": "markdown",
   "metadata": {
    "id": "p8jLN_vmoluq"
   },
   "source": [
    "Можно также закодировать категориальные признаки, исходя из их частоты встречаемости в выборке."
   ]
  },
  {
   "cell_type": "code",
   "execution_count": null,
   "metadata": {
    "colab": {
     "base_uri": "https://localhost:8080/",
     "height": 359
    },
    "id": "QviIeqZ1okpF",
    "outputId": "d650f2db-9ecf-4617-b5f0-bf2763d89605"
   },
   "outputs": [
    {
     "data": {
      "text/html": [
       "<div>\n",
       "<style scoped>\n",
       "    .dataframe tbody tr th:only-of-type {\n",
       "        vertical-align: middle;\n",
       "    }\n",
       "\n",
       "    .dataframe tbody tr th {\n",
       "        vertical-align: top;\n",
       "    }\n",
       "\n",
       "    .dataframe thead th {\n",
       "        text-align: right;\n",
       "    }\n",
       "</style>\n",
       "<table border=\"1\" class=\"dataframe\">\n",
       "  <thead>\n",
       "    <tr style=\"text-align: right;\">\n",
       "      <th></th>\n",
       "      <th>card1</th>\n",
       "      <th>card1_cnt</th>\n",
       "      <th>card2</th>\n",
       "      <th>card2_cnt</th>\n",
       "    </tr>\n",
       "  </thead>\n",
       "  <tbody>\n",
       "    <tr>\n",
       "      <th>0</th>\n",
       "      <td>13926</td>\n",
       "      <td>29</td>\n",
       "      <td>99</td>\n",
       "      <td>6563</td>\n",
       "    </tr>\n",
       "    <tr>\n",
       "      <th>1</th>\n",
       "      <td>2755</td>\n",
       "      <td>526</td>\n",
       "      <td>404</td>\n",
       "      <td>2371</td>\n",
       "    </tr>\n",
       "    <tr>\n",
       "      <th>2</th>\n",
       "      <td>4663</td>\n",
       "      <td>778</td>\n",
       "      <td>490</td>\n",
       "      <td>26366</td>\n",
       "    </tr>\n",
       "    <tr>\n",
       "      <th>3</th>\n",
       "      <td>18132</td>\n",
       "      <td>2970</td>\n",
       "      <td>567</td>\n",
       "      <td>4329</td>\n",
       "    </tr>\n",
       "    <tr>\n",
       "      <th>4</th>\n",
       "      <td>4497</td>\n",
       "      <td>9</td>\n",
       "      <td>514</td>\n",
       "      <td>10587</td>\n",
       "    </tr>\n",
       "    <tr>\n",
       "      <th>5</th>\n",
       "      <td>5937</td>\n",
       "      <td>6</td>\n",
       "      <td>555</td>\n",
       "      <td>29919</td>\n",
       "    </tr>\n",
       "    <tr>\n",
       "      <th>6</th>\n",
       "      <td>12308</td>\n",
       "      <td>163</td>\n",
       "      <td>360</td>\n",
       "      <td>10518</td>\n",
       "    </tr>\n",
       "    <tr>\n",
       "      <th>7</th>\n",
       "      <td>12695</td>\n",
       "      <td>4837</td>\n",
       "      <td>490</td>\n",
       "      <td>26366</td>\n",
       "    </tr>\n",
       "    <tr>\n",
       "      <th>8</th>\n",
       "      <td>2803</td>\n",
       "      <td>4291</td>\n",
       "      <td>100</td>\n",
       "      <td>5372</td>\n",
       "    </tr>\n",
       "    <tr>\n",
       "      <th>9</th>\n",
       "      <td>17399</td>\n",
       "      <td>1293</td>\n",
       "      <td>111</td>\n",
       "      <td>31710</td>\n",
       "    </tr>\n",
       "  </tbody>\n",
       "</table>\n",
       "</div>"
      ],
      "text/plain": [
       "   card1  card1_cnt  card2  card2_cnt\n",
       "0  13926         29     99       6563\n",
       "1   2755        526    404       2371\n",
       "2   4663        778    490      26366\n",
       "3  18132       2970    567       4329\n",
       "4   4497          9    514      10587\n",
       "5   5937          6    555      29919\n",
       "6  12308        163    360      10518\n",
       "7  12695       4837    490      26366\n",
       "8   2803       4291    100       5372\n",
       "9  17399       1293    111      31710"
      ]
     },
     "execution_count": 28,
     "metadata": {
      "tags": []
     },
     "output_type": "execute_result"
    }
   ],
   "source": [
    "for col in ['card1', 'card2']:\n",
    "    card_freq = df_train[col].value_counts().to_dict()\n",
    "    df_train['{}_cnt'.format(col)] = df_train[col].map(card_freq)\n",
    "    df_test['{}_cnt'.format(col)] = df_test[col].map(card_freq)\n",
    "df_train[['card1', 'card1_cnt', 'card2', 'card2_cnt']].head(10)"
   ]
  },
  {
   "cell_type": "markdown",
   "metadata": {
    "id": "n5I9h5t2on_0"
   },
   "source": [
    "Наконец, можно использовать агрегирование и группировку. Например, наряду с `'card1'` и `'card2'`, одним из важнейших признаков для модели в бейзлайне является `'TransactionAmt'`. Давайте добавим в данные признаки, отвечающие за среднюю, медианную, максимальную и минимальную суммы покупок для каждой категории в `'card1'` и `'card2'`."
   ]
  },
  {
   "cell_type": "code",
   "execution_count": null,
   "metadata": {
    "colab": {
     "base_uri": "https://localhost:8080/",
     "height": 379
    },
    "id": "K6YO7UYZom4c",
    "outputId": "fe37c3cc-bc7f-4dca-d04d-153f7b7839a3"
   },
   "outputs": [
    {
     "data": {
      "text/html": [
       "<div>\n",
       "<style scoped>\n",
       "    .dataframe tbody tr th:only-of-type {\n",
       "        vertical-align: middle;\n",
       "    }\n",
       "\n",
       "    .dataframe tbody tr th {\n",
       "        vertical-align: top;\n",
       "    }\n",
       "\n",
       "    .dataframe thead th {\n",
       "        text-align: right;\n",
       "    }\n",
       "</style>\n",
       "<table border=\"1\" class=\"dataframe\">\n",
       "  <thead>\n",
       "    <tr style=\"text-align: right;\">\n",
       "      <th></th>\n",
       "      <th>TransactionAmt</th>\n",
       "      <th>card1</th>\n",
       "      <th>TransactionAmt_card1_mean</th>\n",
       "      <th>TransactionAmt_card1_median</th>\n",
       "      <th>TransactionAmt_card1_min</th>\n",
       "      <th>TransactionAmt_card1_max</th>\n",
       "      <th>card2</th>\n",
       "      <th>TransactionAmt_card2_mean</th>\n",
       "      <th>TransactionAmt_card2_median</th>\n",
       "      <th>TransactionAmt_card2_min</th>\n",
       "      <th>TransactionAmt_card2_max</th>\n",
       "    </tr>\n",
       "  </thead>\n",
       "  <tbody>\n",
       "    <tr>\n",
       "      <th>0</th>\n",
       "      <td>68.5</td>\n",
       "      <td>13926</td>\n",
       "      <td>368.656219</td>\n",
       "      <td>150.000000</td>\n",
       "      <td>40.00</td>\n",
       "      <td>1343.140015</td>\n",
       "      <td>99</td>\n",
       "      <td>177.598236</td>\n",
       "      <td>78.500000</td>\n",
       "      <td>5.000</td>\n",
       "      <td>3069.250000</td>\n",
       "    </tr>\n",
       "    <tr>\n",
       "      <th>1</th>\n",
       "      <td>29.0</td>\n",
       "      <td>2755</td>\n",
       "      <td>243.561661</td>\n",
       "      <td>108.949997</td>\n",
       "      <td>10.00</td>\n",
       "      <td>6085.229980</td>\n",
       "      <td>404</td>\n",
       "      <td>229.298645</td>\n",
       "      <td>108.949997</td>\n",
       "      <td>5.000</td>\n",
       "      <td>6085.229980</td>\n",
       "    </tr>\n",
       "    <tr>\n",
       "      <th>2</th>\n",
       "      <td>59.0</td>\n",
       "      <td>4663</td>\n",
       "      <td>96.343185</td>\n",
       "      <td>59.000000</td>\n",
       "      <td>12.50</td>\n",
       "      <td>994.000000</td>\n",
       "      <td>490</td>\n",
       "      <td>132.193436</td>\n",
       "      <td>77.000000</td>\n",
       "      <td>0.424</td>\n",
       "      <td>6450.970215</td>\n",
       "    </tr>\n",
       "    <tr>\n",
       "      <th>3</th>\n",
       "      <td>50.0</td>\n",
       "      <td>18132</td>\n",
       "      <td>122.751434</td>\n",
       "      <td>67.949997</td>\n",
       "      <td>6.00</td>\n",
       "      <td>3190.000000</td>\n",
       "      <td>567</td>\n",
       "      <td>131.370285</td>\n",
       "      <td>77.949997</td>\n",
       "      <td>6.000</td>\n",
       "      <td>3190.000000</td>\n",
       "    </tr>\n",
       "    <tr>\n",
       "      <th>4</th>\n",
       "      <td>50.0</td>\n",
       "      <td>4497</td>\n",
       "      <td>105.083328</td>\n",
       "      <td>108.949997</td>\n",
       "      <td>30.00</td>\n",
       "      <td>200.000000</td>\n",
       "      <td>514</td>\n",
       "      <td>217.431381</td>\n",
       "      <td>102.000000</td>\n",
       "      <td>5.000</td>\n",
       "      <td>31937.390625</td>\n",
       "    </tr>\n",
       "    <tr>\n",
       "      <th>5</th>\n",
       "      <td>49.0</td>\n",
       "      <td>5937</td>\n",
       "      <td>148.250000</td>\n",
       "      <td>144.000000</td>\n",
       "      <td>49.00</td>\n",
       "      <td>317.500000</td>\n",
       "      <td>555</td>\n",
       "      <td>125.474594</td>\n",
       "      <td>68.094002</td>\n",
       "      <td>0.272</td>\n",
       "      <td>3594.949951</td>\n",
       "    </tr>\n",
       "    <tr>\n",
       "      <th>6</th>\n",
       "      <td>159.0</td>\n",
       "      <td>12308</td>\n",
       "      <td>107.105888</td>\n",
       "      <td>59.000000</td>\n",
       "      <td>12.50</td>\n",
       "      <td>2161.000000</td>\n",
       "      <td>360</td>\n",
       "      <td>98.937828</td>\n",
       "      <td>58.950001</td>\n",
       "      <td>5.000</td>\n",
       "      <td>3472.949951</td>\n",
       "    </tr>\n",
       "    <tr>\n",
       "      <th>7</th>\n",
       "      <td>422.5</td>\n",
       "      <td>12695</td>\n",
       "      <td>143.267792</td>\n",
       "      <td>85.000000</td>\n",
       "      <td>7.97</td>\n",
       "      <td>3162.949951</td>\n",
       "      <td>490</td>\n",
       "      <td>132.193436</td>\n",
       "      <td>77.000000</td>\n",
       "      <td>0.424</td>\n",
       "      <td>6450.970215</td>\n",
       "    </tr>\n",
       "    <tr>\n",
       "      <th>8</th>\n",
       "      <td>15.0</td>\n",
       "      <td>2803</td>\n",
       "      <td>145.065338</td>\n",
       "      <td>77.000000</td>\n",
       "      <td>5.00</td>\n",
       "      <td>3511.949951</td>\n",
       "      <td>100</td>\n",
       "      <td>172.210480</td>\n",
       "      <td>92.000000</td>\n",
       "      <td>5.000</td>\n",
       "      <td>5543.229980</td>\n",
       "    </tr>\n",
       "    <tr>\n",
       "      <th>9</th>\n",
       "      <td>117.0</td>\n",
       "      <td>17399</td>\n",
       "      <td>127.806297</td>\n",
       "      <td>67.949997</td>\n",
       "      <td>10.95</td>\n",
       "      <td>2775.000000</td>\n",
       "      <td>111</td>\n",
       "      <td>148.041214</td>\n",
       "      <td>87.949997</td>\n",
       "      <td>3.500</td>\n",
       "      <td>4301.950195</td>\n",
       "    </tr>\n",
       "  </tbody>\n",
       "</table>\n",
       "</div>"
      ],
      "text/plain": [
       "   TransactionAmt  card1  ...  TransactionAmt_card2_min  TransactionAmt_card2_max\n",
       "0            68.5  13926  ...                     5.000               3069.250000\n",
       "1            29.0   2755  ...                     5.000               6085.229980\n",
       "2            59.0   4663  ...                     0.424               6450.970215\n",
       "3            50.0  18132  ...                     6.000               3190.000000\n",
       "4            50.0   4497  ...                     5.000              31937.390625\n",
       "5            49.0   5937  ...                     0.272               3594.949951\n",
       "6           159.0  12308  ...                     5.000               3472.949951\n",
       "7           422.5  12695  ...                     0.424               6450.970215\n",
       "8            15.0   2803  ...                     5.000               5543.229980\n",
       "9           117.0  17399  ...                     3.500               4301.950195\n",
       "\n",
       "[10 rows x 11 columns]"
      ]
     },
     "execution_count": 29,
     "metadata": {
      "tags": []
     },
     "output_type": "execute_result"
    }
   ],
   "source": [
    "new_cols = []\n",
    "for col in ['card1', 'card2']:\n",
    "    for agg_type in ['mean', 'median', 'min', 'max']:\n",
    "        agg_col_name = 'TransactionAmt_{}_{}'.format(col, agg_type)\n",
    "        card_agg = df_train.groupby(col)['TransactionAmt'].agg([agg_type]).rename({agg_type: agg_col_name}, axis=1)\n",
    "        df_train = df_train.merge(card_agg, how='left', on=col)\n",
    "        df_test = df_test.merge(card_agg, how='left', on=col)\n",
    "        new_cols.append(agg_col_name)\n",
    "df_train[['TransactionAmt', 'card1'] + new_cols[:4] + ['card2'] + new_cols[4:]].head(10)"
   ]
  },
  {
   "cell_type": "markdown",
   "metadata": {
    "id": "JlS2v2mdovr0"
   },
   "source": [
    "Напоследок отметим, что можно проводить также и отбор признаков - дело в том, что если в данных много неинформативных признаков, они могут лишь создать помехи при обучении. Способов отбора много, начиная от ручного и заканчивая специально разработанными для этого методами. В данном случае мы оставим все как есть.\n",
    "\n",
    "После всех операций с признаками удалим столбец `'TransactionAmt'`, раз он уже есть у нас в логарифмированном виде - чтобы модель на него не отвлекалась."
   ]
  },
  {
   "cell_type": "code",
   "execution_count": null,
   "metadata": {
    "id": "h50XaDPeouWs"
   },
   "outputs": [],
   "source": [
    "df_train.drop('TransactionAmt', axis=1, inplace=True)\n",
    "df_test.drop('TransactionAmt', axis=1, inplace=True)"
   ]
  },
  {
   "cell_type": "markdown",
   "metadata": {
    "id": "JdnSSx2Zoy0s"
   },
   "source": [
    "Подготовим полученную выборку к обучению модели так же, как мы делали это в обычном бейзлайне."
   ]
  },
  {
   "cell_type": "code",
   "execution_count": null,
   "metadata": {
    "colab": {
     "base_uri": "https://localhost:8080/",
     "height": 34
    },
    "id": "2MpZ6Mb0ox88",
    "outputId": "88091ed3-78e9-4f8a-b17e-16a2dbb293d7"
   },
   "outputs": [
    {
     "name": "stderr",
     "output_type": "stream",
     "text": [
      "100%|██████████| 448/448 [00:18<00:00, 23.91it/s]\n"
     ]
    }
   ],
   "source": [
    "for col in tqdm(df_train.columns.drop('isFraud')):\n",
    "    if df_train[col].dtype == 'O':\n",
    "        df_train[col] = df_train[col].fillna('unseen_category')\n",
    "        df_test[col] = df_test[col].fillna('unseen_category')\n",
    "        \n",
    "        le = LabelEncoder()\n",
    "        le.fit(list(df_train[col]) + list(df_test[col]))\n",
    "        df_train[col] = le.transform(df_train[col])\n",
    "        df_test[col] = le.transform(df_test[col])\n",
    "        \n",
    "        df_train[col] = df_train[col].astype('category')\n",
    "        df_test[col] = df_test[col].astype('category')\n",
    "\n",
    "    else:\n",
    "        df_train[col] = df_train[col].fillna(-1)\n",
    "        df_test[col] = df_test[col].fillna(-1)\n",
    "\n",
    "# выделяем фолды\n",
    "month_length = 3600 * 24 * 30\n",
    "fold0_idx = df_train[df_train['TransactionDT'] < df_train['TransactionDT'].min() + month_length].index\n",
    "fold1_idx = df_train[(df_train['TransactionDT'].min() + month_length <= df_train['TransactionDT']) & (df_train['TransactionDT'] < df_train['TransactionDT'].min() + 2 * month_length)].index\n",
    "fold2_idx = df_train[(df_train['TransactionDT'].min() + 2 * month_length <= df_train['TransactionDT']) & (df_train['TransactionDT'] < df_train['TransactionDT'].min() + 3 * month_length)].index\n",
    "fold3_idx = df_train[df_train['TransactionDT'].min() + 3 * month_length <= df_train['TransactionDT']].index\n",
    "folds_idx = [fold0_idx, fold1_idx, fold2_idx, fold3_idx]\n",
    "\n",
    "# выделяем идентификационный и временной признаки\n",
    "df_train.drop(['TransactionID', 'TransactionDT'], axis=1, inplace=True)\n",
    "df_test.drop(['TransactionID', 'TransactionDT'], axis=1, inplace=True)"
   ]
  },
  {
   "cell_type": "markdown",
   "metadata": {
    "id": "YQZaxZsJo14p"
   },
   "source": [
    "Обучим модель с теми же гиперпараметрами, что и в обычном бейзлайне."
   ]
  },
  {
   "cell_type": "code",
   "execution_count": null,
   "metadata": {
    "colab": {
     "base_uri": "https://localhost:8080/",
     "height": 1000
    },
    "id": "lbiyWdLxo0kZ",
    "outputId": "4bfa8a05-be30-418c-8288-d50176eea1ae"
   },
   "outputs": [
    {
     "name": "stderr",
     "output_type": "stream",
     "text": [
      "/usr/local/lib/python3.6/dist-packages/lightgbm/engine.py:118: UserWarning: Found `n_estimators` in params. Will use it instead of argument\n",
      "  warnings.warn(\"Found `{}` in params. Will use it instead of argument\".format(alias))\n",
      "/usr/local/lib/python3.6/dist-packages/lightgbm/engine.py:123: UserWarning: Found `early_stopping_rounds` in params. Will use it instead of argument\n",
      "  warnings.warn(\"Found `{}` in params. Will use it instead of argument\".format(alias))\n",
      "/usr/local/lib/python3.6/dist-packages/lightgbm/basic.py:762: UserWarning: categorical_feature in param dict is overridden.\n",
      "  warnings.warn('categorical_feature in param dict is overridden.')\n"
     ]
    },
    {
     "name": "stdout",
     "output_type": "stream",
     "text": [
      "Training until validation scores don't improve for 200 rounds.\n",
      "[100]\tvalid_0's auc: 0.891287\n",
      "[200]\tvalid_0's auc: 0.897135\n",
      "[300]\tvalid_0's auc: 0.902009\n",
      "[400]\tvalid_0's auc: 0.903017\n",
      "[500]\tvalid_0's auc: 0.904667\n",
      "[600]\tvalid_0's auc: 0.903922\n",
      "[700]\tvalid_0's auc: 0.903692\n",
      "Early stopping, best iteration is:\n",
      "[514]\tvalid_0's auc: 0.904768\n"
     ]
    },
    {
     "name": "stderr",
     "output_type": "stream",
     "text": [
      "/usr/local/lib/python3.6/dist-packages/lightgbm/engine.py:118: UserWarning: Found `n_estimators` in params. Will use it instead of argument\n",
      "  warnings.warn(\"Found `{}` in params. Will use it instead of argument\".format(alias))\n",
      "/usr/local/lib/python3.6/dist-packages/lightgbm/engine.py:123: UserWarning: Found `early_stopping_rounds` in params. Will use it instead of argument\n",
      "  warnings.warn(\"Found `{}` in params. Will use it instead of argument\".format(alias))\n",
      "/usr/local/lib/python3.6/dist-packages/lightgbm/basic.py:762: UserWarning: categorical_feature in param dict is overridden.\n",
      "  warnings.warn('categorical_feature in param dict is overridden.')\n"
     ]
    },
    {
     "name": "stdout",
     "output_type": "stream",
     "text": [
      "Training until validation scores don't improve for 200 rounds.\n",
      "[100]\tvalid_0's auc: 0.91555\n",
      "[200]\tvalid_0's auc: 0.922687\n",
      "[300]\tvalid_0's auc: 0.924285\n",
      "[400]\tvalid_0's auc: 0.924867\n",
      "[500]\tvalid_0's auc: 0.926251\n",
      "[600]\tvalid_0's auc: 0.925895\n",
      "[700]\tvalid_0's auc: 0.924877\n",
      "Early stopping, best iteration is:\n",
      "[519]\tvalid_0's auc: 0.926892\n"
     ]
    },
    {
     "name": "stderr",
     "output_type": "stream",
     "text": [
      "/usr/local/lib/python3.6/dist-packages/lightgbm/engine.py:118: UserWarning: Found `n_estimators` in params. Will use it instead of argument\n",
      "  warnings.warn(\"Found `{}` in params. Will use it instead of argument\".format(alias))\n",
      "/usr/local/lib/python3.6/dist-packages/lightgbm/engine.py:123: UserWarning: Found `early_stopping_rounds` in params. Will use it instead of argument\n",
      "  warnings.warn(\"Found `{}` in params. Will use it instead of argument\".format(alias))\n",
      "/usr/local/lib/python3.6/dist-packages/lightgbm/basic.py:762: UserWarning: categorical_feature in param dict is overridden.\n",
      "  warnings.warn('categorical_feature in param dict is overridden.')\n"
     ]
    },
    {
     "name": "stdout",
     "output_type": "stream",
     "text": [
      "Training until validation scores don't improve for 200 rounds.\n",
      "[100]\tvalid_0's auc: 0.921538\n",
      "[200]\tvalid_0's auc: 0.927039\n",
      "[300]\tvalid_0's auc: 0.930288\n",
      "[400]\tvalid_0's auc: 0.931506\n",
      "[500]\tvalid_0's auc: 0.931036\n",
      "Early stopping, best iteration is:\n",
      "[370]\tvalid_0's auc: 0.931781\n"
     ]
    },
    {
     "name": "stderr",
     "output_type": "stream",
     "text": [
      "/usr/local/lib/python3.6/dist-packages/lightgbm/engine.py:118: UserWarning: Found `n_estimators` in params. Will use it instead of argument\n",
      "  warnings.warn(\"Found `{}` in params. Will use it instead of argument\".format(alias))\n",
      "/usr/local/lib/python3.6/dist-packages/lightgbm/engine.py:123: UserWarning: Found `early_stopping_rounds` in params. Will use it instead of argument\n",
      "  warnings.warn(\"Found `{}` in params. Will use it instead of argument\".format(alias))\n",
      "/usr/local/lib/python3.6/dist-packages/lightgbm/basic.py:762: UserWarning: categorical_feature in param dict is overridden.\n",
      "  warnings.warn('categorical_feature in param dict is overridden.')\n"
     ]
    },
    {
     "name": "stdout",
     "output_type": "stream",
     "text": [
      "Training until validation scores don't improve for 200 rounds.\n",
      "[100]\tvalid_0's auc: 0.901318\n",
      "[200]\tvalid_0's auc: 0.90597\n",
      "[300]\tvalid_0's auc: 0.908344\n",
      "[400]\tvalid_0's auc: 0.908186\n",
      "[500]\tvalid_0's auc: 0.906477\n",
      "Early stopping, best iteration is:\n",
      "[359]\tvalid_0's auc: 0.909533\n",
      "Fold 0, AUC-ROC: 0.90477\n",
      "Fold 1, AUC-ROC: 0.92689\n",
      "Fold 2, AUC-ROC: 0.93178\n",
      "Fold 3, AUC-ROC: 0.90953\n",
      "CV AUC-ROC: 0.91824\n",
      "CPU times: user 42min 32s, sys: 2.3 s, total: 42min 34s\n",
      "Wall time: 21min 43s\n"
     ]
    }
   ],
   "source": [
    "%%time\n",
    "\n",
    "params = {\n",
    "    'objective': 'binary',\n",
    "    'boosting_type': 'gbdt',\n",
    "    'metric': 'auc',\n",
    "    'n_jobs': -1,\n",
    "    'n_estimators': 2000,\n",
    "    'seed': 13,\n",
    "    'early_stopping_rounds': 200,\n",
    "}\n",
    "\n",
    "scores = []\n",
    "\n",
    "feature_importances = pd.DataFrame()\n",
    "feature_importances['feature'] = df_train.columns.drop('isFraud')\n",
    "\n",
    "test_preds = []\n",
    "\n",
    "for i in range(len(folds_idx)):\n",
    "    X_train = df_train.drop(folds_idx[i], axis=0)\n",
    "    y_train = X_train['isFraud'].values\n",
    "    X_val = df_train.iloc[folds_idx[i]]\n",
    "    y_val = X_val['isFraud'].values\n",
    "    X_train = X_train.drop('isFraud', axis=1)\n",
    "    X_val = X_val.drop('isFraud', axis=1)\n",
    "\n",
    "    lgb_train = lgb.Dataset(X_train, y_train)\n",
    "    lgb_eval = lgb.Dataset(X_val, y_val, reference=lgb_train)\n",
    "    lgb_model = lgb.train(params, lgb_train, valid_sets=lgb_eval, verbose_eval=100)\n",
    "    \n",
    "    feature_importances['fold_{}'.format(i)] = lgb_model.feature_importance()\n",
    "\n",
    "    y_pred = lgb_model.predict(X_val)\n",
    "    score_fold = roc_auc_score(y_val, y_pred)\n",
    "    scores.append(score_fold)\n",
    "    y_test_pred = lgb_model.predict(df_test)\n",
    "    test_preds.append(y_test_pred)\n",
    "\n",
    "for i in range(len(scores)):\n",
    "    print('Fold {}, AUC-ROC: {:.5f}'.format(i, scores[i]))\n",
    "print('CV AUC-ROC: {:.5f}'.format(np.mean(scores)))"
   ]
  },
  {
   "cell_type": "code",
   "execution_count": null,
   "metadata": {
    "colab": {
     "base_uri": "https://localhost:8080/",
     "height": 204
    },
    "id": "A-h7liv8o_S1",
    "outputId": "26368887-a47f-4136-d370-242f5ea821fa"
   },
   "outputs": [
    {
     "data": {
      "text/html": [
       "<div>\n",
       "<style scoped>\n",
       "    .dataframe tbody tr th:only-of-type {\n",
       "        vertical-align: middle;\n",
       "    }\n",
       "\n",
       "    .dataframe tbody tr th {\n",
       "        vertical-align: top;\n",
       "    }\n",
       "\n",
       "    .dataframe thead th {\n",
       "        text-align: right;\n",
       "    }\n",
       "</style>\n",
       "<table border=\"1\" class=\"dataframe\">\n",
       "  <thead>\n",
       "    <tr style=\"text-align: right;\">\n",
       "      <th></th>\n",
       "      <th>feature</th>\n",
       "      <th>fold_0</th>\n",
       "      <th>fold_1</th>\n",
       "      <th>fold_2</th>\n",
       "      <th>fold_3</th>\n",
       "    </tr>\n",
       "  </thead>\n",
       "  <tbody>\n",
       "    <tr>\n",
       "      <th>0</th>\n",
       "      <td>ProductCD</td>\n",
       "      <td>29</td>\n",
       "      <td>30</td>\n",
       "      <td>36</td>\n",
       "      <td>35</td>\n",
       "    </tr>\n",
       "    <tr>\n",
       "      <th>1</th>\n",
       "      <td>card1</td>\n",
       "      <td>536</td>\n",
       "      <td>548</td>\n",
       "      <td>363</td>\n",
       "      <td>376</td>\n",
       "    </tr>\n",
       "    <tr>\n",
       "      <th>2</th>\n",
       "      <td>card2</td>\n",
       "      <td>315</td>\n",
       "      <td>321</td>\n",
       "      <td>225</td>\n",
       "      <td>187</td>\n",
       "    </tr>\n",
       "    <tr>\n",
       "      <th>3</th>\n",
       "      <td>card3</td>\n",
       "      <td>12</td>\n",
       "      <td>11</td>\n",
       "      <td>5</td>\n",
       "      <td>11</td>\n",
       "    </tr>\n",
       "    <tr>\n",
       "      <th>4</th>\n",
       "      <td>card4</td>\n",
       "      <td>11</td>\n",
       "      <td>11</td>\n",
       "      <td>4</td>\n",
       "      <td>8</td>\n",
       "    </tr>\n",
       "  </tbody>\n",
       "</table>\n",
       "</div>"
      ],
      "text/plain": [
       "     feature  fold_0  fold_1  fold_2  fold_3\n",
       "0  ProductCD      29      30      36      35\n",
       "1      card1     536     548     363     376\n",
       "2      card2     315     321     225     187\n",
       "3      card3      12      11       5      11\n",
       "4      card4      11      11       4       8"
      ]
     },
     "execution_count": 33,
     "metadata": {
      "tags": []
     },
     "output_type": "execute_result"
    }
   ],
   "source": [
    "feature_importances.head()"
   ]
  },
  {
   "cell_type": "code",
   "execution_count": null,
   "metadata": {
    "colab": {
     "base_uri": "https://localhost:8080/",
     "height": 204
    },
    "id": "exT1AogEpAe0",
    "outputId": "2f8d8782-fb1c-4207-d920-e9113c99edb6"
   },
   "outputs": [
    {
     "data": {
      "text/html": [
       "<div>\n",
       "<style scoped>\n",
       "    .dataframe tbody tr th:only-of-type {\n",
       "        vertical-align: middle;\n",
       "    }\n",
       "\n",
       "    .dataframe tbody tr th {\n",
       "        vertical-align: top;\n",
       "    }\n",
       "\n",
       "    .dataframe thead th {\n",
       "        text-align: right;\n",
       "    }\n",
       "</style>\n",
       "<table border=\"1\" class=\"dataframe\">\n",
       "  <thead>\n",
       "    <tr style=\"text-align: right;\">\n",
       "      <th></th>\n",
       "      <th>feature</th>\n",
       "      <th>fold_0</th>\n",
       "      <th>fold_1</th>\n",
       "      <th>fold_2</th>\n",
       "      <th>fold_3</th>\n",
       "      <th>average</th>\n",
       "    </tr>\n",
       "  </thead>\n",
       "  <tbody>\n",
       "    <tr>\n",
       "      <th>0</th>\n",
       "      <td>ProductCD</td>\n",
       "      <td>29</td>\n",
       "      <td>30</td>\n",
       "      <td>36</td>\n",
       "      <td>35</td>\n",
       "      <td>32.50</td>\n",
       "    </tr>\n",
       "    <tr>\n",
       "      <th>1</th>\n",
       "      <td>card1</td>\n",
       "      <td>536</td>\n",
       "      <td>548</td>\n",
       "      <td>363</td>\n",
       "      <td>376</td>\n",
       "      <td>455.75</td>\n",
       "    </tr>\n",
       "    <tr>\n",
       "      <th>2</th>\n",
       "      <td>card2</td>\n",
       "      <td>315</td>\n",
       "      <td>321</td>\n",
       "      <td>225</td>\n",
       "      <td>187</td>\n",
       "      <td>262.00</td>\n",
       "    </tr>\n",
       "    <tr>\n",
       "      <th>3</th>\n",
       "      <td>card3</td>\n",
       "      <td>12</td>\n",
       "      <td>11</td>\n",
       "      <td>5</td>\n",
       "      <td>11</td>\n",
       "      <td>9.75</td>\n",
       "    </tr>\n",
       "    <tr>\n",
       "      <th>4</th>\n",
       "      <td>card4</td>\n",
       "      <td>11</td>\n",
       "      <td>11</td>\n",
       "      <td>4</td>\n",
       "      <td>8</td>\n",
       "      <td>8.50</td>\n",
       "    </tr>\n",
       "  </tbody>\n",
       "</table>\n",
       "</div>"
      ],
      "text/plain": [
       "     feature  fold_0  fold_1  fold_2  fold_3  average\n",
       "0  ProductCD      29      30      36      35    32.50\n",
       "1      card1     536     548     363     376   455.75\n",
       "2      card2     315     321     225     187   262.00\n",
       "3      card3      12      11       5      11     9.75\n",
       "4      card4      11      11       4       8     8.50"
      ]
     },
     "execution_count": 34,
     "metadata": {
      "tags": []
     },
     "output_type": "execute_result"
    }
   ],
   "source": [
    "fold_cols = [col for col in feature_importances.columns if col.startswith('fold_')]\n",
    "feature_importances['average'] = feature_importances[fold_cols].mean(axis=1)\n",
    "feature_importances.head()"
   ]
  },
  {
   "cell_type": "code",
   "execution_count": null,
   "metadata": {
    "colab": {
     "base_uri": "https://localhost:8080/",
     "height": 899
    },
    "id": "cORa8T9WpBUc",
    "outputId": "b986dead-d0c3-4bc7-acd8-08aff48ef3ab"
   },
   "outputs": [
    {
     "data": {
      "image/png": "[encoded data removed]",
      "text/plain": [
       "<Figure size 1080x1080 with 1 Axes>"
      ]
     },
     "metadata": {
      "needs_background": "light",
      "tags": []
     },
     "output_type": "display_data"
    }
   ],
   "source": [
    "plt.figure(figsize=(15, 15))\n",
    "sns.barplot(data=feature_importances.sort_values(by='average', ascending=False).head(50), x='average', y='feature', palette=\"BuGn_r\")\n",
    "plt.title('Top feature importances')\n",
    "plt.show()"
   ]
  },
  {
   "cell_type": "markdown",
   "metadata": {
    "id": "evNbhvyRpDPZ"
   },
   "source": [
    "Видно, что качество модели улучшилось, и в топе появились сгенерированные признаки - агрегации и счетчики. А также центы :)"
   ]
  },
  {
   "cell_type": "code",
   "execution_count": null,
   "metadata": {
    "colab": {
     "base_uri": "https://localhost:8080/",
     "height": 501
    },
    "id": "MXeuS6E6pCLF",
    "outputId": "ca6245ca-b6e2-4005-9d1a-a03674e13dac"
   },
   "outputs": [
    {
     "data": {
      "image/png": "[encoded data removed]",
      "text/plain": [
       "<Figure size 792x576 with 1 Axes>"
      ]
     },
     "metadata": {
      "needs_background": "light",
      "tags": []
     },
     "output_type": "display_data"
    }
   ],
   "source": [
    "final_pred = np.average(test_preds, axis=0)\n",
    "sub = pd.DataFrame({'TransactionID': sample_submission['TransactionID'], 'isFraud': final_pred})\n",
    "sub.to_csv('submission_baseline_fe.csv', index=False)\n",
    "\n",
    "plt.figure(figsize=(11, 8))\n",
    "plt.hist(sub['isFraud'], bins=30)\n",
    "plt.title('Distribution of isFraud prediction on test')\n",
    "plt.show()"
   ]
  },
  {
   "cell_type": "markdown",
   "metadata": {
    "id": "uvMzbolApFZM"
   },
   "source": [
    "Теперь после отправки результата в соревнование можно будет посмотреть, увеличилось или уменьшилось качество на публичной части тестовой выборки. Если качество уменьшилось по сравнению с обычным бейзлайном, это может означать, что построенная валидация не так хорошо коррелирует с лидербордом, как хотелось бы - ведь качество на валидации у нас выросло, значит и на лидерборде по-хорошему мы могли бы подняться. Таким образом, можно либо попробовать построить более хорошую валидационную стратегию, либо смириться и считать, что на приватной части все будет нормально (можно просто в качестве финального сабмита выбрать лучший с точки зрения валидации, либо наоборот - лучший по лидерборду) - продумайте этот шаг, он достаточно важен."
   ]
  }
 ],
 "metadata": {
  "colab": {
   "collapsed_sections": [],
   "name": "fraud-baseline-lightgbm-fe.ipynb",
   "provenance": []
  },
  "kernelspec": {
   "display_name": "Python 3",
   "language": "python",
   "name": "python3"
  },
  "language_info": {
   "codemirror_mode": {
    "name": "ipython",
    "version": 3
   },
   "file_extension": ".py",
   "mimetype": "text/x-python",
   "name": "python",
   "nbconvert_exporter": "python",
   "pygments_lexer": "ipython3",
   "version": "3.8.8"
  }
 },
 "nbformat": 4,
 "nbformat_minor": 1
}
