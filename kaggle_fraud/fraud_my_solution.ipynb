{
 "cells": [
  {
   "cell_type": "markdown",
   "id": "df1ebf68",
   "metadata": {},
   "source": [
    "# Solution to kaggle HSE Fraud Detection\n",
    "\n",
    "https://www.kaggle.com/c/hse-2021-fraud-detection#\n",
    "\n",
    "Author : Kirill Safonov HSE-NES BAE'24"
   ]
  },
  {
   "cell_type": "markdown",
   "id": "11aa8f48",
   "metadata": {},
   "source": [
    "Начало решения взято из baseline : https://colab.research.google.com/drive/1pg1xZa8koJeUaZA35e7g1ISGqNlHDHZW"
   ]
  },
  {
   "cell_type": "code",
   "execution_count": 2,
   "id": "e6269b52",
   "metadata": {},
   "outputs": [],
   "source": [
    "# from baseline\n",
    "# скачиваем файлы\n",
    "'''\n",
    "!wget --no-check-certificate 'https://www.dropbox.com/s/5iuef7c9ljj84t6/train_transaction.csv?dl=0' -O train_transaction.csv\n",
    "!wget --no-check-certificate 'https://www.dropbox.com/s/cmy01z5fw7ohlmd/train_identity.csv?dl=0' -O train_identity.csv\n",
    "!wget --no-check-certificate 'https://www.dropbox.com/s/7thqkuxnwsa7njj/test_transaction.csv?dl=0' -O test_transaction.csv\n",
    "!wget --no-check-certificate 'https://www.dropbox.com/s/b40nvbb9e2usd5w/test_identity.csv?dl=0' -O test_identity.csv\n",
    "!wget --no-check-certificate 'https://www.dropbox.com/s/arkyoz0bel8z4d2/sample_submission.csv?dl=0' -O sample_submission.csv\n",
    "''';"
   ]
  },
  {
   "cell_type": "code",
   "execution_count": 4,
   "id": "c228a11d",
   "metadata": {},
   "outputs": [],
   "source": [
    "# from baseline\n",
    "import pandas as pd\n",
    "import matplotlib.pyplot as plt\n",
    "import numpy as np\n",
    "import os\n",
    "import seaborn as sns\n",
    "from sklearn.metrics import roc_auc_score\n",
    "from sklearn.preprocessing import LabelEncoder\n",
    "from tqdm import tqdm\n",
    "\n",
    "sns.set()\n",
    "\n",
    "%matplotlib inline"
   ]
  },
  {
   "cell_type": "code",
   "execution_count": 5,
   "id": "7445b732",
   "metadata": {},
   "outputs": [],
   "source": [
    "def reduce_mem_usage(df):\n",
    "    NAlist = [] # Keeps track of columns that have missing values filled in. \n",
    "    for col in tqdm(df.columns):\n",
    "        if df[col].dtype != object:  # Exclude strings\n",
    "\n",
    "            # make variables for Int, max and min\n",
    "            IsInt = False\n",
    "            col_max_value = df[col].max()\n",
    "            col_min_value = df[col].min()\n",
    "\n",
    "            # Integer does not support NA, therefore, NA needs to be filled\n",
    "            if not np.isfinite(df[col]).all(): \n",
    "                NAlist.append(col)\n",
    "                df[col].fillna(col_min_value - 1, inplace=True)\n",
    "\n",
    "            # test if column can be converted to an integer\n",
    "            col_as_int = df[col].fillna(0).astype(np.int64)\n",
    "            diff = (df[col] - col_as_int)\n",
    "            diff = diff.sum()\n",
    "            if np.abs(diff) < 0.01:\n",
    "                IsInt = True\n",
    "\n",
    "            # Make Integer/unsigned Integer datatypes\n",
    "            if IsInt:\n",
    "                if col_min_value >= 0:\n",
    "                    if col_max_value < 255:\n",
    "                        df[col] = df[col].astype(np.uint8)\n",
    "                    elif col_max_value < 65535:\n",
    "                        df[col] = df[col].astype(np.uint16)\n",
    "                    elif col_max_value < 4294967295:\n",
    "                        df[col] = df[col].astype(np.uint32)\n",
    "                    else:\n",
    "                        df[col] = df[col].astype(np.uint64)\n",
    "                else:\n",
    "                    if col_min_value > np.iinfo(np.int8).min and col_max_value < np.iinfo(np.int8).max:\n",
    "                        df[col] = df[col].astype(np.int8)\n",
    "                    elif col_min_value > np.iinfo(np.int16).min and col_max_value < np.iinfo(np.int16).max:\n",
    "                        df[col] = df[col].astype(np.int16)\n",
    "                    elif col_min_value > np.iinfo(np.int32).min and col_max_value < np.iinfo(np.int32).max:\n",
    "                        df[col] = df[col].astype(np.int32)\n",
    "                    elif col_min_value > np.iinfo(np.int64).min and col_max_value < np.iinfo(np.int64).max:\n",
    "                        df[col] = df[col].astype(np.int64)    \n",
    "\n",
    "            # Make float datatypes 32 bit\n",
    "            else:\n",
    "                df[col] = df[col].astype(np.float32)\n",
    "\n",
    "    return df, NAlist"
   ]
  },
  {
   "cell_type": "code",
   "execution_count": 6,
   "id": "8d7524cb",
   "metadata": {},
   "outputs": [
    {
     "name": "stderr",
     "output_type": "stream",
     "text": [
      "100%|██████████| 434/434 [01:09<00:00,  6.25it/s]\n",
      "100%|██████████| 433/433 [00:29<00:00, 14.90it/s]\n"
     ]
    }
   ],
   "source": [
    "INPUT_DIR = '.'\n",
    "\n",
    "train_transaction = pd.read_csv(os.path.join(INPUT_DIR, 'train_transaction.csv'))\n",
    "train_identity = pd.read_csv(os.path.join(INPUT_DIR, 'train_identity.csv'))\n",
    "test_transaction = pd.read_csv(os.path.join(INPUT_DIR, 'test_transaction.csv'))\n",
    "test_identity = pd.read_csv(os.path.join(INPUT_DIR, 'test_identity.csv'))\n",
    "sample_submission = pd.read_csv(os.path.join(INPUT_DIR, 'sample_submission.csv'))\n",
    "\n",
    "df_train = train_transaction.merge(train_identity, how='left', on='TransactionID')\n",
    "del train_transaction, train_identity\n",
    "df_train, df_train_NAlist = reduce_mem_usage(df_train)\n",
    "\n",
    "df_test = test_transaction.merge(test_identity, how='left', on='TransactionID')\n",
    "del test_transaction, test_identity\n",
    "df_test, df_test_NAlist = reduce_mem_usage(df_test)"
   ]
  },
  {
   "cell_type": "code",
   "execution_count": 7,
   "id": "46bd0961",
   "metadata": {},
   "outputs": [],
   "source": [
    "df_train['TransactionAmt_log'] = np.log1p(df_train['TransactionAmt'])\n",
    "df_test['TransactionAmt_log'] = np.log1p(df_test['TransactionAmt'])"
   ]
  },
  {
   "cell_type": "code",
   "execution_count": 8,
   "id": "ad2c1f2e",
   "metadata": {},
   "outputs": [],
   "source": [
    "df_train['TransactionAmt_Cents'] = np.modf(df_train['TransactionAmt'])[0] * 100\n",
    "df_test['TransactionAmt_Cents'] = np.modf(df_test['TransactionAmt'])[0] * 100"
   ]
  },
  {
   "cell_type": "code",
   "execution_count": 9,
   "id": "d00bcc6c",
   "metadata": {},
   "outputs": [
    {
     "data": {
      "text/html": [
       "<div>\n",
       "<style scoped>\n",
       "    .dataframe tbody tr th:only-of-type {\n",
       "        vertical-align: middle;\n",
       "    }\n",
       "\n",
       "    .dataframe tbody tr th {\n",
       "        vertical-align: top;\n",
       "    }\n",
       "\n",
       "    .dataframe thead th {\n",
       "        text-align: right;\n",
       "    }\n",
       "</style>\n",
       "<table border=\"1\" class=\"dataframe\">\n",
       "  <thead>\n",
       "    <tr style=\"text-align: right;\">\n",
       "      <th></th>\n",
       "      <th>P_emaildomain</th>\n",
       "      <th>P_emaildomain_suffix</th>\n",
       "      <th>R_emaildomain</th>\n",
       "      <th>R_emaildomain_suffix</th>\n",
       "    </tr>\n",
       "  </thead>\n",
       "  <tbody>\n",
       "    <tr>\n",
       "      <th>417549</th>\n",
       "      <td>gmail.com</td>\n",
       "      <td>com</td>\n",
       "      <td>NaN</td>\n",
       "      <td>nan</td>\n",
       "    </tr>\n",
       "    <tr>\n",
       "      <th>417550</th>\n",
       "      <td>gmail.com</td>\n",
       "      <td>com</td>\n",
       "      <td>NaN</td>\n",
       "      <td>nan</td>\n",
       "    </tr>\n",
       "    <tr>\n",
       "      <th>417551</th>\n",
       "      <td>att.net</td>\n",
       "      <td>net</td>\n",
       "      <td>NaN</td>\n",
       "      <td>nan</td>\n",
       "    </tr>\n",
       "    <tr>\n",
       "      <th>417552</th>\n",
       "      <td>anonymous.com</td>\n",
       "      <td>com</td>\n",
       "      <td>NaN</td>\n",
       "      <td>nan</td>\n",
       "    </tr>\n",
       "    <tr>\n",
       "      <th>417553</th>\n",
       "      <td>yahoo.com</td>\n",
       "      <td>com</td>\n",
       "      <td>NaN</td>\n",
       "      <td>nan</td>\n",
       "    </tr>\n",
       "    <tr>\n",
       "      <th>417554</th>\n",
       "      <td>gmail.com</td>\n",
       "      <td>com</td>\n",
       "      <td>NaN</td>\n",
       "      <td>nan</td>\n",
       "    </tr>\n",
       "    <tr>\n",
       "      <th>417555</th>\n",
       "      <td>gmail.com</td>\n",
       "      <td>com</td>\n",
       "      <td>NaN</td>\n",
       "      <td>nan</td>\n",
       "    </tr>\n",
       "    <tr>\n",
       "      <th>417556</th>\n",
       "      <td>hotmail.com</td>\n",
       "      <td>com</td>\n",
       "      <td>hotmail.com</td>\n",
       "      <td>com</td>\n",
       "    </tr>\n",
       "    <tr>\n",
       "      <th>417557</th>\n",
       "      <td>gmail.com</td>\n",
       "      <td>com</td>\n",
       "      <td>NaN</td>\n",
       "      <td>nan</td>\n",
       "    </tr>\n",
       "    <tr>\n",
       "      <th>417558</th>\n",
       "      <td>gmail.com</td>\n",
       "      <td>com</td>\n",
       "      <td>NaN</td>\n",
       "      <td>nan</td>\n",
       "    </tr>\n",
       "  </tbody>\n",
       "</table>\n",
       "</div>"
      ],
      "text/plain": [
       "        P_emaildomain P_emaildomain_suffix R_emaildomain R_emaildomain_suffix\n",
       "417549      gmail.com                  com           NaN                  nan\n",
       "417550      gmail.com                  com           NaN                  nan\n",
       "417551        att.net                  net           NaN                  nan\n",
       "417552  anonymous.com                  com           NaN                  nan\n",
       "417553      yahoo.com                  com           NaN                  nan\n",
       "417554      gmail.com                  com           NaN                  nan\n",
       "417555      gmail.com                  com           NaN                  nan\n",
       "417556    hotmail.com                  com   hotmail.com                  com\n",
       "417557      gmail.com                  com           NaN                  nan\n",
       "417558      gmail.com                  com           NaN                  nan"
      ]
     },
     "execution_count": 9,
     "metadata": {},
     "output_type": "execute_result"
    }
   ],
   "source": [
    "for col in ['P_emaildomain', 'R_emaildomain']:\n",
    "    df_train[col + '_suffix'] = df_train[col].map(lambda x: str(x).split('.')[-1])\n",
    "    df_test[col + '_suffix'] = df_test[col].map(lambda x: str(x).split('.')[-1])\n",
    "\n",
    "df_train[['P_emaildomain', 'P_emaildomain_suffix', 'R_emaildomain', 'R_emaildomain_suffix']].tail(10)"
   ]
  },
  {
   "cell_type": "code",
   "execution_count": 10,
   "id": "3b1fb63d",
   "metadata": {},
   "outputs": [
    {
     "data": {
      "text/html": [
       "<div>\n",
       "<style scoped>\n",
       "    .dataframe tbody tr th:only-of-type {\n",
       "        vertical-align: middle;\n",
       "    }\n",
       "\n",
       "    .dataframe tbody tr th {\n",
       "        vertical-align: top;\n",
       "    }\n",
       "\n",
       "    .dataframe thead th {\n",
       "        text-align: right;\n",
       "    }\n",
       "</style>\n",
       "<table border=\"1\" class=\"dataframe\">\n",
       "  <thead>\n",
       "    <tr style=\"text-align: right;\">\n",
       "      <th></th>\n",
       "      <th>P_emaildomain</th>\n",
       "      <th>R_emaildomain</th>\n",
       "      <th>same_emaildomain</th>\n",
       "    </tr>\n",
       "  </thead>\n",
       "  <tbody>\n",
       "    <tr>\n",
       "      <th>417554</th>\n",
       "      <td>gmail.com</td>\n",
       "      <td>NaN</td>\n",
       "      <td>0</td>\n",
       "    </tr>\n",
       "    <tr>\n",
       "      <th>417555</th>\n",
       "      <td>gmail.com</td>\n",
       "      <td>NaN</td>\n",
       "      <td>0</td>\n",
       "    </tr>\n",
       "    <tr>\n",
       "      <th>417556</th>\n",
       "      <td>hotmail.com</td>\n",
       "      <td>hotmail.com</td>\n",
       "      <td>1</td>\n",
       "    </tr>\n",
       "    <tr>\n",
       "      <th>417557</th>\n",
       "      <td>gmail.com</td>\n",
       "      <td>NaN</td>\n",
       "      <td>0</td>\n",
       "    </tr>\n",
       "    <tr>\n",
       "      <th>417558</th>\n",
       "      <td>gmail.com</td>\n",
       "      <td>NaN</td>\n",
       "      <td>0</td>\n",
       "    </tr>\n",
       "  </tbody>\n",
       "</table>\n",
       "</div>"
      ],
      "text/plain": [
       "       P_emaildomain R_emaildomain  same_emaildomain\n",
       "417554     gmail.com           NaN                 0\n",
       "417555     gmail.com           NaN                 0\n",
       "417556   hotmail.com   hotmail.com                 1\n",
       "417557     gmail.com           NaN                 0\n",
       "417558     gmail.com           NaN                 0"
      ]
     },
     "execution_count": 10,
     "metadata": {},
     "output_type": "execute_result"
    }
   ],
   "source": [
    "df_train['same_emaildomain'] = (df_train['P_emaildomain'] == df_train['R_emaildomain']).astype('uint8')\n",
    "df_test['same_emaildomain'] = (df_test['P_emaildomain'] == df_test['R_emaildomain']).astype('uint8')\n",
    "df_train[['P_emaildomain', 'R_emaildomain', 'same_emaildomain']].tail()"
   ]
  },
  {
   "cell_type": "code",
   "execution_count": 11,
   "id": "e126da32",
   "metadata": {},
   "outputs": [
    {
     "data": {
      "text/html": [
       "<div>\n",
       "<style scoped>\n",
       "    .dataframe tbody tr th:only-of-type {\n",
       "        vertical-align: middle;\n",
       "    }\n",
       "\n",
       "    .dataframe tbody tr th {\n",
       "        vertical-align: top;\n",
       "    }\n",
       "\n",
       "    .dataframe thead th {\n",
       "        text-align: right;\n",
       "    }\n",
       "</style>\n",
       "<table border=\"1\" class=\"dataframe\">\n",
       "  <thead>\n",
       "    <tr style=\"text-align: right;\">\n",
       "      <th></th>\n",
       "      <th>card3</th>\n",
       "      <th>card5</th>\n",
       "      <th>card3_card5</th>\n",
       "    </tr>\n",
       "  </thead>\n",
       "  <tbody>\n",
       "    <tr>\n",
       "      <th>417549</th>\n",
       "      <td>150</td>\n",
       "      <td>126</td>\n",
       "      <td>150_126</td>\n",
       "    </tr>\n",
       "    <tr>\n",
       "      <th>417550</th>\n",
       "      <td>150</td>\n",
       "      <td>166</td>\n",
       "      <td>150_166</td>\n",
       "    </tr>\n",
       "    <tr>\n",
       "      <th>417551</th>\n",
       "      <td>150</td>\n",
       "      <td>226</td>\n",
       "      <td>150_226</td>\n",
       "    </tr>\n",
       "    <tr>\n",
       "      <th>417552</th>\n",
       "      <td>150</td>\n",
       "      <td>224</td>\n",
       "      <td>150_224</td>\n",
       "    </tr>\n",
       "    <tr>\n",
       "      <th>417553</th>\n",
       "      <td>150</td>\n",
       "      <td>226</td>\n",
       "      <td>150_226</td>\n",
       "    </tr>\n",
       "    <tr>\n",
       "      <th>417554</th>\n",
       "      <td>150</td>\n",
       "      <td>166</td>\n",
       "      <td>150_166</td>\n",
       "    </tr>\n",
       "    <tr>\n",
       "      <th>417555</th>\n",
       "      <td>150</td>\n",
       "      <td>226</td>\n",
       "      <td>150_226</td>\n",
       "    </tr>\n",
       "    <tr>\n",
       "      <th>417556</th>\n",
       "      <td>200</td>\n",
       "      <td>226</td>\n",
       "      <td>200_226</td>\n",
       "    </tr>\n",
       "    <tr>\n",
       "      <th>417557</th>\n",
       "      <td>150</td>\n",
       "      <td>195</td>\n",
       "      <td>150_195</td>\n",
       "    </tr>\n",
       "    <tr>\n",
       "      <th>417558</th>\n",
       "      <td>150</td>\n",
       "      <td>166</td>\n",
       "      <td>150_166</td>\n",
       "    </tr>\n",
       "  </tbody>\n",
       "</table>\n",
       "</div>"
      ],
      "text/plain": [
       "        card3  card5 card3_card5\n",
       "417549    150    126     150_126\n",
       "417550    150    166     150_166\n",
       "417551    150    226     150_226\n",
       "417552    150    224     150_224\n",
       "417553    150    226     150_226\n",
       "417554    150    166     150_166\n",
       "417555    150    226     150_226\n",
       "417556    200    226     200_226\n",
       "417557    150    195     150_195\n",
       "417558    150    166     150_166"
      ]
     },
     "execution_count": 11,
     "metadata": {},
     "output_type": "execute_result"
    }
   ],
   "source": [
    "df_train['card3_card5'] = df_train['card3'].astype(str) + '_' + df_train['card5'].astype(str)\n",
    "df_test['card3_card5'] = df_test['card3'].astype(str) + '_' + df_test['card5'].astype(str)\n",
    "df_train[['card3', 'card5', 'card3_card5']].tail(10)"
   ]
  },
  {
   "cell_type": "code",
   "execution_count": 12,
   "id": "e42dd846",
   "metadata": {},
   "outputs": [
    {
     "data": {
      "text/html": [
       "<div>\n",
       "<style scoped>\n",
       "    .dataframe tbody tr th:only-of-type {\n",
       "        vertical-align: middle;\n",
       "    }\n",
       "\n",
       "    .dataframe tbody tr th {\n",
       "        vertical-align: top;\n",
       "    }\n",
       "\n",
       "    .dataframe thead th {\n",
       "        text-align: right;\n",
       "    }\n",
       "</style>\n",
       "<table border=\"1\" class=\"dataframe\">\n",
       "  <thead>\n",
       "    <tr style=\"text-align: right;\">\n",
       "      <th></th>\n",
       "      <th>card1</th>\n",
       "      <th>card1_cnt</th>\n",
       "      <th>card2</th>\n",
       "      <th>card2_cnt</th>\n",
       "    </tr>\n",
       "  </thead>\n",
       "  <tbody>\n",
       "    <tr>\n",
       "      <th>0</th>\n",
       "      <td>13926</td>\n",
       "      <td>29</td>\n",
       "      <td>99</td>\n",
       "      <td>6563</td>\n",
       "    </tr>\n",
       "    <tr>\n",
       "      <th>1</th>\n",
       "      <td>2755</td>\n",
       "      <td>526</td>\n",
       "      <td>404</td>\n",
       "      <td>2371</td>\n",
       "    </tr>\n",
       "    <tr>\n",
       "      <th>2</th>\n",
       "      <td>4663</td>\n",
       "      <td>778</td>\n",
       "      <td>490</td>\n",
       "      <td>26366</td>\n",
       "    </tr>\n",
       "    <tr>\n",
       "      <th>3</th>\n",
       "      <td>18132</td>\n",
       "      <td>2970</td>\n",
       "      <td>567</td>\n",
       "      <td>4329</td>\n",
       "    </tr>\n",
       "    <tr>\n",
       "      <th>4</th>\n",
       "      <td>4497</td>\n",
       "      <td>9</td>\n",
       "      <td>514</td>\n",
       "      <td>10587</td>\n",
       "    </tr>\n",
       "    <tr>\n",
       "      <th>5</th>\n",
       "      <td>5937</td>\n",
       "      <td>6</td>\n",
       "      <td>555</td>\n",
       "      <td>29919</td>\n",
       "    </tr>\n",
       "    <tr>\n",
       "      <th>6</th>\n",
       "      <td>12308</td>\n",
       "      <td>163</td>\n",
       "      <td>360</td>\n",
       "      <td>10518</td>\n",
       "    </tr>\n",
       "    <tr>\n",
       "      <th>7</th>\n",
       "      <td>12695</td>\n",
       "      <td>4837</td>\n",
       "      <td>490</td>\n",
       "      <td>26366</td>\n",
       "    </tr>\n",
       "    <tr>\n",
       "      <th>8</th>\n",
       "      <td>2803</td>\n",
       "      <td>4291</td>\n",
       "      <td>100</td>\n",
       "      <td>5372</td>\n",
       "    </tr>\n",
       "    <tr>\n",
       "      <th>9</th>\n",
       "      <td>17399</td>\n",
       "      <td>1293</td>\n",
       "      <td>111</td>\n",
       "      <td>31710</td>\n",
       "    </tr>\n",
       "  </tbody>\n",
       "</table>\n",
       "</div>"
      ],
      "text/plain": [
       "   card1  card1_cnt  card2  card2_cnt\n",
       "0  13926         29     99       6563\n",
       "1   2755        526    404       2371\n",
       "2   4663        778    490      26366\n",
       "3  18132       2970    567       4329\n",
       "4   4497          9    514      10587\n",
       "5   5937          6    555      29919\n",
       "6  12308        163    360      10518\n",
       "7  12695       4837    490      26366\n",
       "8   2803       4291    100       5372\n",
       "9  17399       1293    111      31710"
      ]
     },
     "execution_count": 12,
     "metadata": {},
     "output_type": "execute_result"
    }
   ],
   "source": [
    "for col in ['card1', 'card2']:\n",
    "    card_freq = df_train[col].value_counts().to_dict()\n",
    "    df_train['{}_cnt'.format(col)] = df_train[col].map(card_freq)\n",
    "    df_test['{}_cnt'.format(col)] = df_test[col].map(card_freq)\n",
    "df_train[['card1', 'card1_cnt', 'card2', 'card2_cnt']].head(10)"
   ]
  },
  {
   "cell_type": "code",
   "execution_count": 13,
   "id": "8deaa2e2",
   "metadata": {},
   "outputs": [
    {
     "data": {
      "text/html": [
       "<div>\n",
       "<style scoped>\n",
       "    .dataframe tbody tr th:only-of-type {\n",
       "        vertical-align: middle;\n",
       "    }\n",
       "\n",
       "    .dataframe tbody tr th {\n",
       "        vertical-align: top;\n",
       "    }\n",
       "\n",
       "    .dataframe thead th {\n",
       "        text-align: right;\n",
       "    }\n",
       "</style>\n",
       "<table border=\"1\" class=\"dataframe\">\n",
       "  <thead>\n",
       "    <tr style=\"text-align: right;\">\n",
       "      <th></th>\n",
       "      <th>TransactionAmt</th>\n",
       "      <th>card1</th>\n",
       "      <th>TransactionAmt_card1_mean</th>\n",
       "      <th>TransactionAmt_card1_median</th>\n",
       "      <th>TransactionAmt_card1_min</th>\n",
       "      <th>TransactionAmt_card1_max</th>\n",
       "      <th>card2</th>\n",
       "      <th>TransactionAmt_card2_mean</th>\n",
       "      <th>TransactionAmt_card2_median</th>\n",
       "      <th>TransactionAmt_card2_min</th>\n",
       "      <th>TransactionAmt_card2_max</th>\n",
       "    </tr>\n",
       "  </thead>\n",
       "  <tbody>\n",
       "    <tr>\n",
       "      <th>0</th>\n",
       "      <td>68.5</td>\n",
       "      <td>13926</td>\n",
       "      <td>368.656219</td>\n",
       "      <td>150.000000</td>\n",
       "      <td>40.00</td>\n",
       "      <td>1343.140015</td>\n",
       "      <td>99</td>\n",
       "      <td>177.598236</td>\n",
       "      <td>78.500000</td>\n",
       "      <td>5.000</td>\n",
       "      <td>3069.250000</td>\n",
       "    </tr>\n",
       "    <tr>\n",
       "      <th>1</th>\n",
       "      <td>29.0</td>\n",
       "      <td>2755</td>\n",
       "      <td>243.561661</td>\n",
       "      <td>108.949997</td>\n",
       "      <td>10.00</td>\n",
       "      <td>6085.229980</td>\n",
       "      <td>404</td>\n",
       "      <td>229.298645</td>\n",
       "      <td>108.949997</td>\n",
       "      <td>5.000</td>\n",
       "      <td>6085.229980</td>\n",
       "    </tr>\n",
       "    <tr>\n",
       "      <th>2</th>\n",
       "      <td>59.0</td>\n",
       "      <td>4663</td>\n",
       "      <td>96.343185</td>\n",
       "      <td>59.000000</td>\n",
       "      <td>12.50</td>\n",
       "      <td>994.000000</td>\n",
       "      <td>490</td>\n",
       "      <td>132.193436</td>\n",
       "      <td>77.000000</td>\n",
       "      <td>0.424</td>\n",
       "      <td>6450.970215</td>\n",
       "    </tr>\n",
       "    <tr>\n",
       "      <th>3</th>\n",
       "      <td>50.0</td>\n",
       "      <td>18132</td>\n",
       "      <td>122.751434</td>\n",
       "      <td>67.949997</td>\n",
       "      <td>6.00</td>\n",
       "      <td>3190.000000</td>\n",
       "      <td>567</td>\n",
       "      <td>131.370285</td>\n",
       "      <td>77.949997</td>\n",
       "      <td>6.000</td>\n",
       "      <td>3190.000000</td>\n",
       "    </tr>\n",
       "    <tr>\n",
       "      <th>4</th>\n",
       "      <td>50.0</td>\n",
       "      <td>4497</td>\n",
       "      <td>105.083328</td>\n",
       "      <td>108.949997</td>\n",
       "      <td>30.00</td>\n",
       "      <td>200.000000</td>\n",
       "      <td>514</td>\n",
       "      <td>217.431381</td>\n",
       "      <td>102.000000</td>\n",
       "      <td>5.000</td>\n",
       "      <td>31937.390625</td>\n",
       "    </tr>\n",
       "    <tr>\n",
       "      <th>5</th>\n",
       "      <td>49.0</td>\n",
       "      <td>5937</td>\n",
       "      <td>148.250000</td>\n",
       "      <td>144.000000</td>\n",
       "      <td>49.00</td>\n",
       "      <td>317.500000</td>\n",
       "      <td>555</td>\n",
       "      <td>125.474594</td>\n",
       "      <td>68.094002</td>\n",
       "      <td>0.272</td>\n",
       "      <td>3594.949951</td>\n",
       "    </tr>\n",
       "    <tr>\n",
       "      <th>6</th>\n",
       "      <td>159.0</td>\n",
       "      <td>12308</td>\n",
       "      <td>107.105888</td>\n",
       "      <td>59.000000</td>\n",
       "      <td>12.50</td>\n",
       "      <td>2161.000000</td>\n",
       "      <td>360</td>\n",
       "      <td>98.937828</td>\n",
       "      <td>58.950001</td>\n",
       "      <td>5.000</td>\n",
       "      <td>3472.949951</td>\n",
       "    </tr>\n",
       "    <tr>\n",
       "      <th>7</th>\n",
       "      <td>422.5</td>\n",
       "      <td>12695</td>\n",
       "      <td>143.267792</td>\n",
       "      <td>85.000000</td>\n",
       "      <td>7.97</td>\n",
       "      <td>3162.949951</td>\n",
       "      <td>490</td>\n",
       "      <td>132.193436</td>\n",
       "      <td>77.000000</td>\n",
       "      <td>0.424</td>\n",
       "      <td>6450.970215</td>\n",
       "    </tr>\n",
       "    <tr>\n",
       "      <th>8</th>\n",
       "      <td>15.0</td>\n",
       "      <td>2803</td>\n",
       "      <td>145.065338</td>\n",
       "      <td>77.000000</td>\n",
       "      <td>5.00</td>\n",
       "      <td>3511.949951</td>\n",
       "      <td>100</td>\n",
       "      <td>172.210480</td>\n",
       "      <td>92.000000</td>\n",
       "      <td>5.000</td>\n",
       "      <td>5543.229980</td>\n",
       "    </tr>\n",
       "    <tr>\n",
       "      <th>9</th>\n",
       "      <td>117.0</td>\n",
       "      <td>17399</td>\n",
       "      <td>127.806297</td>\n",
       "      <td>67.949997</td>\n",
       "      <td>10.95</td>\n",
       "      <td>2775.000000</td>\n",
       "      <td>111</td>\n",
       "      <td>148.041214</td>\n",
       "      <td>87.949997</td>\n",
       "      <td>3.500</td>\n",
       "      <td>4301.950195</td>\n",
       "    </tr>\n",
       "  </tbody>\n",
       "</table>\n",
       "</div>"
      ],
      "text/plain": [
       "   TransactionAmt  card1  TransactionAmt_card1_mean  \\\n",
       "0            68.5  13926                 368.656219   \n",
       "1            29.0   2755                 243.561661   \n",
       "2            59.0   4663                  96.343185   \n",
       "3            50.0  18132                 122.751434   \n",
       "4            50.0   4497                 105.083328   \n",
       "5            49.0   5937                 148.250000   \n",
       "6           159.0  12308                 107.105888   \n",
       "7           422.5  12695                 143.267792   \n",
       "8            15.0   2803                 145.065338   \n",
       "9           117.0  17399                 127.806297   \n",
       "\n",
       "   TransactionAmt_card1_median  TransactionAmt_card1_min  \\\n",
       "0                   150.000000                     40.00   \n",
       "1                   108.949997                     10.00   \n",
       "2                    59.000000                     12.50   \n",
       "3                    67.949997                      6.00   \n",
       "4                   108.949997                     30.00   \n",
       "5                   144.000000                     49.00   \n",
       "6                    59.000000                     12.50   \n",
       "7                    85.000000                      7.97   \n",
       "8                    77.000000                      5.00   \n",
       "9                    67.949997                     10.95   \n",
       "\n",
       "   TransactionAmt_card1_max  card2  TransactionAmt_card2_mean  \\\n",
       "0               1343.140015     99                 177.598236   \n",
       "1               6085.229980    404                 229.298645   \n",
       "2                994.000000    490                 132.193436   \n",
       "3               3190.000000    567                 131.370285   \n",
       "4                200.000000    514                 217.431381   \n",
       "5                317.500000    555                 125.474594   \n",
       "6               2161.000000    360                  98.937828   \n",
       "7               3162.949951    490                 132.193436   \n",
       "8               3511.949951    100                 172.210480   \n",
       "9               2775.000000    111                 148.041214   \n",
       "\n",
       "   TransactionAmt_card2_median  TransactionAmt_card2_min  \\\n",
       "0                    78.500000                     5.000   \n",
       "1                   108.949997                     5.000   \n",
       "2                    77.000000                     0.424   \n",
       "3                    77.949997                     6.000   \n",
       "4                   102.000000                     5.000   \n",
       "5                    68.094002                     0.272   \n",
       "6                    58.950001                     5.000   \n",
       "7                    77.000000                     0.424   \n",
       "8                    92.000000                     5.000   \n",
       "9                    87.949997                     3.500   \n",
       "\n",
       "   TransactionAmt_card2_max  \n",
       "0               3069.250000  \n",
       "1               6085.229980  \n",
       "2               6450.970215  \n",
       "3               3190.000000  \n",
       "4              31937.390625  \n",
       "5               3594.949951  \n",
       "6               3472.949951  \n",
       "7               6450.970215  \n",
       "8               5543.229980  \n",
       "9               4301.950195  "
      ]
     },
     "execution_count": 13,
     "metadata": {},
     "output_type": "execute_result"
    }
   ],
   "source": [
    "new_cols = []\n",
    "for col in ['card1', 'card2']:\n",
    "    for agg_type in ['mean', 'median', 'min', 'max']:\n",
    "        agg_col_name = 'TransactionAmt_{}_{}'.format(col, agg_type)\n",
    "        card_agg = df_train.groupby(col)['TransactionAmt'].agg([agg_type]).rename({agg_type: agg_col_name}, axis=1)\n",
    "        df_train = df_train.merge(card_agg, how='left', on=col)\n",
    "        df_test = df_test.merge(card_agg, how='left', on=col)\n",
    "        new_cols.append(agg_col_name)\n",
    "df_train[['TransactionAmt', 'card1'] + new_cols[:4] + ['card2'] + new_cols[4:]].head(10)"
   ]
  },
  {
   "cell_type": "code",
   "execution_count": 14,
   "id": "6773136a",
   "metadata": {},
   "outputs": [],
   "source": [
    "df_train.drop('TransactionAmt', axis=1, inplace=True)\n",
    "df_test.drop('TransactionAmt', axis=1, inplace=True)"
   ]
  },
  {
   "cell_type": "code",
   "execution_count": 15,
   "id": "a2706023",
   "metadata": {},
   "outputs": [
    {
     "name": "stderr",
     "output_type": "stream",
     "text": [
      "100%|██████████| 448/448 [00:18<00:00, 23.64it/s] \n"
     ]
    }
   ],
   "source": [
    "for col in tqdm(df_train.columns.drop('isFraud')):\n",
    "    if df_train[col].dtype == 'O':\n",
    "        df_train[col] = df_train[col].fillna('unseen_category')\n",
    "        df_test[col] = df_test[col].fillna('unseen_category')\n",
    "        \n",
    "        le = LabelEncoder()\n",
    "        le.fit(list(df_train[col]) + list(df_test[col]))\n",
    "        df_train[col] = le.transform(df_train[col])\n",
    "        df_test[col] = le.transform(df_test[col])\n",
    "        \n",
    "        df_train[col] = df_train[col].astype('category')\n",
    "        df_test[col] = df_test[col].astype('category')\n",
    "\n",
    "    else:\n",
    "        df_train[col] = df_train[col].fillna(-1)\n",
    "        df_test[col] = df_test[col].fillna(-1)\n",
    "\n",
    "# выделяем фолды\n",
    "month_length = 3600 * 24 * 30\n",
    "fold0_idx = df_train[df_train['TransactionDT'] < df_train['TransactionDT'].min() + month_length].index\n",
    "fold1_idx = df_train[(df_train['TransactionDT'].min() + month_length <= df_train['TransactionDT']) & (df_train['TransactionDT'] < df_train['TransactionDT'].min() + 2 * month_length)].index\n",
    "fold2_idx = df_train[(df_train['TransactionDT'].min() + 2 * month_length <= df_train['TransactionDT']) & (df_train['TransactionDT'] < df_train['TransactionDT'].min() + 3 * month_length)].index\n",
    "fold3_idx = df_train[df_train['TransactionDT'].min() + 3 * month_length <= df_train['TransactionDT']].index\n",
    "folds_idx = [fold0_idx, fold1_idx, fold2_idx, fold3_idx]\n",
    "\n",
    "# выделяем идентификационный и временной признаки\n",
    "df_train.drop(['TransactionID', 'TransactionDT'], axis=1, inplace=True)\n",
    "df_test.drop(['TransactionID', 'TransactionDT'], axis=1, inplace=True)"
   ]
  },
  {
   "cell_type": "code",
   "execution_count": 16,
   "id": "cded116d",
   "metadata": {},
   "outputs": [],
   "source": [
    "cat_features = []\n",
    "for i,j in enumerate(df_train.columns[1:]):\n",
    "    if isinstance(df_train[j].dtype,\n",
    "                  pd.core.dtypes.dtypes.CategoricalDtype):\n",
    "        cat_features.append(i)"
   ]
  },
  {
   "cell_type": "code",
   "execution_count": 19,
   "id": "83580a2f",
   "metadata": {},
   "outputs": [],
   "source": [
    "from catboost import CatBoostClassifier, Pool"
   ]
  },
  {
   "cell_type": "code",
   "execution_count": 26,
   "id": "4e9987ba",
   "metadata": {},
   "outputs": [
    {
     "data": {
      "text/plain": [
       "array([0, 0, 0, ..., 0, 0, 0], dtype=uint8)"
      ]
     },
     "execution_count": 26,
     "metadata": {},
     "output_type": "execute_result"
    }
   ],
   "source": [
    "y_val"
   ]
  },
  {
   "cell_type": "code",
   "execution_count": 39,
   "id": "b05247c4",
   "metadata": {},
   "outputs": [
    {
     "data": {
      "text/plain": [
       "{0, 1}"
      ]
     },
     "execution_count": 39,
     "metadata": {},
     "output_type": "execute_result"
    }
   ],
   "source": [
    "set(y_train)"
   ]
  },
  {
   "cell_type": "code",
   "execution_count": 93,
   "id": "fc310513",
   "metadata": {},
   "outputs": [
    {
     "name": "stderr",
     "output_type": "stream",
     "text": [
      "Custom logger is already specified. Specify more than one logger at same time is not thread safe."
     ]
    },
    {
     "name": "stdout",
     "output_type": "stream",
     "text": [
      "Learning rate set to 0.032661\n",
      "0:\tlearn: 0.7479422\ttest: 0.7205881\tbest: 0.7205881 (0)\ttotal: 212ms\tremaining: 7m 3s\n",
      "100:\tlearn: 0.8812045\ttest: 0.8708998\tbest: 0.8709112 (99)\ttotal: 22s\tremaining: 6m 54s\n",
      "200:\tlearn: 0.8957749\ttest: 0.8821788\tbest: 0.8821788 (200)\ttotal: 43.6s\tremaining: 6m 29s\n",
      "300:\tlearn: 0.9043829\ttest: 0.8882214\tbest: 0.8882214 (300)\ttotal: 1m 4s\tremaining: 6m 6s\n",
      "400:\tlearn: 0.9106163\ttest: 0.8920618\tbest: 0.8921335 (399)\ttotal: 1m 26s\tremaining: 5m 45s\n",
      "500:\tlearn: 0.9149205\ttest: 0.8948430\tbest: 0.8948430 (500)\ttotal: 1m 48s\tremaining: 5m 23s\n",
      "600:\tlearn: 0.9184338\ttest: 0.8971157\tbest: 0.8971157 (600)\ttotal: 2m 9s\tremaining: 5m 1s\n",
      "700:\tlearn: 0.9217918\ttest: 0.8993582\tbest: 0.8993880 (699)\ttotal: 2m 31s\tremaining: 4m 40s\n",
      "800:\tlearn: 0.9247103\ttest: 0.9009711\tbest: 0.9009845 (798)\ttotal: 2m 53s\tremaining: 4m 19s\n",
      "900:\tlearn: 0.9272652\ttest: 0.9021989\tbest: 0.9022448 (895)\ttotal: 3m 14s\tremaining: 3m 57s\n",
      "1000:\tlearn: 0.9293230\ttest: 0.9034826\tbest: 0.9035263 (992)\ttotal: 3m 36s\tremaining: 3m 35s\n",
      "1100:\tlearn: 0.9312691\ttest: 0.9045181\tbest: 0.9045181 (1100)\ttotal: 3m 57s\tremaining: 3m 14s\n",
      "1200:\tlearn: 0.9332498\ttest: 0.9055636\tbest: 0.9055636 (1200)\ttotal: 4m 19s\tremaining: 2m 52s\n",
      "1300:\tlearn: 0.9348542\ttest: 0.9065070\tbest: 0.9065070 (1300)\ttotal: 4m 41s\tremaining: 2m 30s\n",
      "1400:\tlearn: 0.9365426\ttest: 0.9076974\tbest: 0.9076974 (1400)\ttotal: 5m 2s\tremaining: 2m 9s\n",
      "1500:\tlearn: 0.9380705\ttest: 0.9085689\tbest: 0.9085689 (1500)\ttotal: 5m 24s\tremaining: 1m 47s\n",
      "1600:\tlearn: 0.9394589\ttest: 0.9094250\tbest: 0.9094402 (1599)\ttotal: 5m 46s\tremaining: 1m 26s\n",
      "1700:\tlearn: 0.9405675\ttest: 0.9099466\tbest: 0.9099466 (1700)\ttotal: 6m 7s\tremaining: 1m 4s\n",
      "1800:\tlearn: 0.9422334\ttest: 0.9109622\tbest: 0.9109622 (1800)\ttotal: 6m 29s\tremaining: 43.1s\n",
      "1900:\tlearn: 0.9435054\ttest: 0.9116823\tbest: 0.9116868 (1898)\ttotal: 6m 51s\tremaining: 21.4s\n",
      "1999:\tlearn: 0.9445745\ttest: 0.9122200\tbest: 0.9122200 (1999)\ttotal: 7m 13s\tremaining: 0us\n",
      "bestTest = 0.9122200012\n",
      "bestIteration = 1999\n"
     ]
    }
   ],
   "source": [
    "X_train = df_train.drop(fold1_idx, axis=0)\n",
    "y_train = X_train['isFraud'].values\n",
    "X_val = df_train.iloc[fold1_idx]\n",
    "y_val = X_val['isFraud'].values\n",
    "X_train = X_train.drop('isFraud', axis=1)\n",
    "X_val = X_val.drop('isFraud', axis=1)\n",
    "\n",
    "\n",
    "CatBoost_model = CatBoostClassifier(\n",
    "    iterations=2000,\n",
    "    early_stopping_rounds=200,\n",
    "    task_type=\"GPU\",\n",
    "    eval_metric=\"AUC\"\n",
    ")\n",
    "\n",
    "CatBoost_model.fit(\n",
    "    X_train, y_train,\n",
    "    cat_features=cat_features,\n",
    "    eval_set=(X_val, y_val),\n",
    "    verbose=100\n",
    ")\n",
    "\n",
    "\n",
    "feature_importances = CatBoost_model.feature_importances_\n",
    "\n",
    "y_pred = CatBoost_model.predict_proba(X_val)[:, 1]\n",
    "score_fold = roc_auc_score(y_val, y_pred)\n",
    "y_test_pred = CatBoost_model.predict(df_test)"
   ]
  },
  {
   "cell_type": "code",
   "execution_count": 75,
   "id": "f3be113d",
   "metadata": {},
   "outputs": [
    {
     "data": {
      "text/plain": [
       "{'learn': {'Logloss': 0.07009910014360372, 'AUC': 0.9265406131744385},\n",
       " 'validation': {'Logloss': 0.09671724297461382, 'AUC': 0.9023482203483582}}"
      ]
     },
     "execution_count": 75,
     "metadata": {},
     "output_type": "execute_result"
    }
   ],
   "source": [
    "CatBoost_model.best_score_"
   ]
  },
  {
   "cell_type": "code",
   "execution_count": 84,
   "id": "800385d5",
   "metadata": {},
   "outputs": [
    {
     "data": {
      "text/plain": [
       "array([0, 0, 0, ..., 0, 0, 0], dtype=int64)"
      ]
     },
     "execution_count": 84,
     "metadata": {},
     "output_type": "execute_result"
    }
   ],
   "source": [
    "CatBoost_model.predict(X_train)"
   ]
  },
  {
   "cell_type": "code",
   "execution_count": 90,
   "id": "181e4b04",
   "metadata": {},
   "outputs": [],
   "source": [
    "score_fold_1 = roc_auc_score(y_val,CatBoost_model.predict_proba(X_val)[:, 1])"
   ]
  },
  {
   "cell_type": "code",
   "execution_count": 91,
   "id": "7f2fd7b2",
   "metadata": {},
   "outputs": [
    {
     "data": {
      "text/plain": [
       "0.9023480046571873"
      ]
     },
     "execution_count": 91,
     "metadata": {},
     "output_type": "execute_result"
    }
   ],
   "source": [
    "score_fold_1"
   ]
  },
  {
   "cell_type": "code",
   "execution_count": 63,
   "id": "07bf0044",
   "metadata": {},
   "outputs": [],
   "source": [
    "from sklearn.metrics import accuracy_score"
   ]
  },
  {
   "cell_type": "code",
   "execution_count": 67,
   "id": "ec7d503e",
   "metadata": {},
   "outputs": [
    {
     "data": {
      "text/plain": [
       "0.6750999935521342"
      ]
     },
     "execution_count": 67,
     "metadata": {},
     "output_type": "execute_result"
    }
   ],
   "source": [
    "score_fold_1"
   ]
  },
  {
   "cell_type": "code",
   "execution_count": 64,
   "id": "2ff20505",
   "metadata": {},
   "outputs": [
    {
     "data": {
      "text/plain": [
       "0.9999552567702099"
      ]
     },
     "execution_count": 64,
     "metadata": {},
     "output_type": "execute_result"
    }
   ],
   "source": [
    "accuracy_score(y_pred_1, y_pred)"
   ]
  },
  {
   "cell_type": "code",
   "execution_count": 62,
   "id": "0aefbac9",
   "metadata": {},
   "outputs": [
    {
     "data": {
      "text/plain": [
       "array([0, 0, 0, ..., 0, 0, 0], dtype=int64)"
      ]
     },
     "execution_count": 62,
     "metadata": {},
     "output_type": "execute_result"
    }
   ],
   "source": [
    "y_pred_1"
   ]
  },
  {
   "cell_type": "code",
   "execution_count": 58,
   "id": "83eea5f0",
   "metadata": {},
   "outputs": [
    {
     "data": {
      "text/plain": [
       "array([0, 0, 0, ..., 0, 0, 0], dtype=int64)"
      ]
     },
     "execution_count": 58,
     "metadata": {},
     "output_type": "execute_result"
    }
   ],
   "source": [
    "y_pred"
   ]
  },
  {
   "cell_type": "code",
   "execution_count": 59,
   "id": "1011e12d",
   "metadata": {},
   "outputs": [
    {
     "data": {
      "text/plain": [
       "0.6750999935521342"
      ]
     },
     "execution_count": 59,
     "metadata": {},
     "output_type": "execute_result"
    }
   ],
   "source": [
    "score_fold"
   ]
  },
  {
   "cell_type": "code",
   "execution_count": 60,
   "id": "ba21b2eb",
   "metadata": {},
   "outputs": [
    {
     "data": {
      "text/plain": [
       "array([0, 0, 0, ..., 0, 0, 0], dtype=int64)"
      ]
     },
     "execution_count": 60,
     "metadata": {},
     "output_type": "execute_result"
    }
   ],
   "source": [
    "y_test_pred"
   ]
  },
  {
   "cell_type": "code",
   "execution_count": 95,
   "id": "00478a06",
   "metadata": {
    "scrolled": true
   },
   "outputs": [
    {
     "name": "stderr",
     "output_type": "stream",
     "text": [
      "Custom logger is already specified. Specify more than one logger at same time is not thread safe."
     ]
    },
    {
     "name": "stdout",
     "output_type": "stream",
     "text": [
      "Learning rate set to 0.033073\n",
      "0:\tlearn: 0.7386703\ttest: 0.6584010\tbest: 0.6584010 (0)\ttotal: 334ms\tremaining: 11m 8s\n",
      "200:\tlearn: 0.8983387\ttest: 0.8532302\tbest: 0.8532302 (200)\ttotal: 38.2s\tremaining: 5m 42s\n",
      "400:\tlearn: 0.9142665\ttest: 0.8749225\tbest: 0.8749225 (400)\ttotal: 1m 16s\tremaining: 5m 3s\n",
      "600:\tlearn: 0.9227056\ttest: 0.8841200\tbest: 0.8841200 (600)\ttotal: 1m 54s\tremaining: 4m 25s\n",
      "800:\tlearn: 0.9289402\ttest: 0.8892760\tbest: 0.8892760 (800)\ttotal: 2m 32s\tremaining: 3m 48s\n",
      "1000:\tlearn: 0.9336908\ttest: 0.8933517\tbest: 0.8933517 (1000)\ttotal: 3m 10s\tremaining: 3m 10s\n",
      "1200:\tlearn: 0.9377566\ttest: 0.8958744\tbest: 0.8958744 (1200)\ttotal: 3m 48s\tremaining: 2m 32s\n",
      "1400:\tlearn: 0.9410815\ttest: 0.8976216\tbest: 0.8976267 (1399)\ttotal: 4m 27s\tremaining: 1m 54s\n",
      "1600:\tlearn: 0.9441493\ttest: 0.8998711\tbest: 0.8998711 (1600)\ttotal: 5m 5s\tremaining: 1m 16s\n",
      "1800:\tlearn: 0.9469239\ttest: 0.9016124\tbest: 0.9016401 (1784)\ttotal: 5m 44s\tremaining: 38s\n",
      "1999:\tlearn: 0.9493247\ttest: 0.9028190\tbest: 0.9028928 (1978)\ttotal: 6m 22s\tremaining: 0us\n",
      "bestTest = 0.9028927982\n",
      "bestIteration = 1978\n",
      "Shrink model to first 1979 iterations.\n",
      "Learning rate set to 0.032661\n",
      "0:\tlearn: 0.7479422\ttest: 0.7205881\tbest: 0.7205881 (0)\ttotal: 221ms\tremaining: 7m 20s\n",
      "200:\tlearn: 0.8957749\ttest: 0.8821788\tbest: 0.8821788 (200)\ttotal: 43.8s\tremaining: 6m 31s\n",
      "400:\tlearn: 0.9106163\ttest: 0.8920618\tbest: 0.8921335 (399)\ttotal: 1m 27s\tremaining: 5m 47s\n",
      "600:\tlearn: 0.9184338\ttest: 0.8971157\tbest: 0.8971157 (600)\ttotal: 2m 10s\tremaining: 5m 3s\n",
      "800:\tlearn: 0.9247103\ttest: 0.9009711\tbest: 0.9009845 (798)\ttotal: 2m 54s\tremaining: 4m 20s\n",
      "1000:\tlearn: 0.9293230\ttest: 0.9034826\tbest: 0.9035263 (992)\ttotal: 3m 37s\tremaining: 3m 36s\n",
      "1200:\tlearn: 0.9332498\ttest: 0.9055636\tbest: 0.9055636 (1200)\ttotal: 4m 21s\tremaining: 2m 54s\n",
      "1400:\tlearn: 0.9365426\ttest: 0.9076974\tbest: 0.9076974 (1400)\ttotal: 5m 6s\tremaining: 2m 10s\n",
      "1600:\tlearn: 0.9394589\ttest: 0.9094250\tbest: 0.9094402 (1599)\ttotal: 5m 50s\tremaining: 1m 27s\n",
      "1800:\tlearn: 0.9422334\ttest: 0.9109622\tbest: 0.9109622 (1800)\ttotal: 6m 34s\tremaining: 43.6s\n",
      "1999:\tlearn: 0.9445745\ttest: 0.9122201\tbest: 0.9122201 (1999)\ttotal: 7m 18s\tremaining: 0us\n",
      "bestTest = 0.9122201204\n",
      "bestIteration = 1999\n",
      "Learning rate set to 0.032685\n",
      "0:\tlearn: 0.7318929\ttest: 0.7410590\tbest: 0.7410590 (0)\ttotal: 221ms\tremaining: 7m 21s\n",
      "200:\tlearn: 0.8972177\ttest: 0.8945014\tbest: 0.8945014 (200)\ttotal: 43.5s\tremaining: 6m 29s\n",
      "400:\tlearn: 0.9118932\ttest: 0.9021978\tbest: 0.9021978 (400)\ttotal: 1m 26s\tremaining: 5m 45s\n",
      "600:\tlearn: 0.9198852\ttest: 0.9039985\tbest: 0.9040928 (583)\ttotal: 2m 9s\tremaining: 5m 1s\n",
      "800:\tlearn: 0.9253824\ttest: 0.9053242\tbest: 0.9053535 (793)\ttotal: 2m 52s\tremaining: 4m 18s\n",
      "1000:\tlearn: 0.9296095\ttest: 0.9063388\tbest: 0.9063388 (1000)\ttotal: 3m 35s\tremaining: 3m 34s\n",
      "1200:\tlearn: 0.9334736\ttest: 0.9078140\tbest: 0.9078174 (1199)\ttotal: 4m 18s\tremaining: 2m 51s\n",
      "1400:\tlearn: 0.9367324\ttest: 0.9088696\tbest: 0.9088740 (1397)\ttotal: 5m 1s\tremaining: 2m 8s\n",
      "1600:\tlearn: 0.9398348\ttest: 0.9097008\tbest: 0.9097008 (1600)\ttotal: 5m 45s\tremaining: 1m 26s\n",
      "1800:\tlearn: 0.9425789\ttest: 0.9107270\tbest: 0.9107639 (1796)\ttotal: 6m 28s\tremaining: 42.9s\n",
      "1999:\tlearn: 0.9449737\ttest: 0.9118674\tbest: 0.9119329 (1992)\ttotal: 7m 11s\tremaining: 0us\n",
      "bestTest = 0.9119328856\n",
      "bestIteration = 1992\n",
      "Shrink model to first 1993 iterations.\n",
      "Learning rate set to 0.032767\n",
      "0:\tlearn: 0.7900521\ttest: 0.7674647\tbest: 0.7674647 (0)\ttotal: 215ms\tremaining: 7m 10s\n",
      "200:\tlearn: 0.9001641\ttest: 0.8779665\tbest: 0.8779665 (200)\ttotal: 42.5s\tremaining: 6m 20s\n",
      "400:\tlearn: 0.9154295\ttest: 0.8856707\tbest: 0.8856707 (400)\ttotal: 1m 24s\tremaining: 5m 36s\n",
      "600:\tlearn: 0.9233707\ttest: 0.8891360\tbest: 0.8891428 (598)\ttotal: 2m 6s\tremaining: 4m 55s\n",
      "800:\tlearn: 0.9288767\ttest: 0.8914154\tbest: 0.8914154 (800)\ttotal: 2m 48s\tremaining: 4m 12s\n",
      "1000:\tlearn: 0.9333824\ttest: 0.8930286\tbest: 0.8930584 (966)\ttotal: 3m 31s\tremaining: 3m 30s\n",
      "1200:\tlearn: 0.9371260\ttest: 0.8948533\tbest: 0.8948648 (1191)\ttotal: 4m 13s\tremaining: 2m 48s\n",
      "1400:\tlearn: 0.9405934\ttest: 0.8964092\tbest: 0.8964241 (1398)\ttotal: 4m 55s\tremaining: 2m 6s\n",
      "1600:\tlearn: 0.9432254\ttest: 0.8975585\tbest: 0.8976070 (1592)\ttotal: 5m 38s\tremaining: 1m 24s\n",
      "1800:\tlearn: 0.9458117\ttest: 0.8978922\tbest: 0.8978922 (1800)\ttotal: 6m 21s\tremaining: 42.2s\n",
      "1999:\tlearn: 0.9483787\ttest: 0.8985909\tbest: 0.8986070 (1997)\ttotal: 7m 4s\tremaining: 0us\n",
      "bestTest = 0.898606956\n",
      "bestIteration = 1997\n",
      "Shrink model to first 1998 iterations.\n"
     ]
    }
   ],
   "source": [
    "scores = []\n",
    "\n",
    "feature_importances = pd.DataFrame()\n",
    "feature_importances['feature'] = df_train.columns.drop('isFraud')\n",
    "\n",
    "test_preds = []\n",
    "test_preds_proba = []\n",
    "\n",
    "for i in range(len(folds_idx)):\n",
    "    X_train = df_train.drop(folds_idx[i], axis=0)\n",
    "    y_train = X_train['isFraud'].values\n",
    "    X_val = df_train.iloc[folds_idx[i]]\n",
    "    y_val = X_val['isFraud'].values\n",
    "    X_train = X_train.drop('isFraud', axis=1)\n",
    "    X_val = X_val.drop('isFraud', axis=1)\n",
    "\n",
    "    CatBoost_model = CatBoostClassifier(\n",
    "        iterations=2000,\n",
    "        task_type=\"GPU\",\n",
    "        eval_metric=\"AUC\"\n",
    "    )\n",
    "\n",
    "    CatBoost_model.fit(\n",
    "        X_train, y_train,\n",
    "        cat_features=cat_features,\n",
    "        eval_set=(X_val, y_val),\n",
    "        early_stopping_rounds=200,\n",
    "        verbose=200\n",
    "    )\n",
    "    \n",
    "    feature_importances['fold_{}'.format(i)] = CatBoost_model.feature_importances_\n",
    "\n",
    "    y_pred = CatBoost_model.predict_proba(X_val)[:, 1]\n",
    "    score_fold = roc_auc_score(y_val, y_pred)\n",
    "    scores.append(score_fold)\n",
    "    y_test_pred = CatBoost_model.predict(df_test)\n",
    "    y_test_pred_proba = CatBoost_model.predict_proba(df_test)[:, 1]\n",
    "    test_preds.append(y_test_pred)\n",
    "    test_preds_proba.append(y_test_pred_proba)"
   ]
  },
  {
   "cell_type": "code",
   "execution_count": 96,
   "id": "cb5375ed",
   "metadata": {},
   "outputs": [
    {
     "data": {
      "text/plain": [
       "[0.9028928667043573,\n",
       " 0.9122202446609706,\n",
       " 0.9119328324606399,\n",
       " 0.8986069626803953]"
      ]
     },
     "execution_count": 96,
     "metadata": {},
     "output_type": "execute_result"
    }
   ],
   "source": [
    "scores"
   ]
  },
  {
   "cell_type": "code",
   "execution_count": 97,
   "id": "0d9662be",
   "metadata": {},
   "outputs": [
    {
     "data": {
      "text/plain": [
       "0.9064132266265909"
      ]
     },
     "execution_count": 97,
     "metadata": {},
     "output_type": "execute_result"
    }
   ],
   "source": [
    "np.mean(scores)"
   ]
  },
  {
   "cell_type": "code",
   "execution_count": 100,
   "id": "70bb859d",
   "metadata": {},
   "outputs": [
    {
     "data": {
      "text/plain": [
       "(4, 172981)"
      ]
     },
     "execution_count": 100,
     "metadata": {},
     "output_type": "execute_result"
    }
   ],
   "source": [
    "np.array(test_preds_proba).shape"
   ]
  },
  {
   "cell_type": "code",
   "execution_count": 103,
   "id": "2518f6ac",
   "metadata": {},
   "outputs": [
    {
     "data": {
      "text/plain": [
       "array([0.18761382, 0.15179981, 0.26761248, ..., 0.04718227, 0.08400515,\n",
       "       0.25145308])"
      ]
     },
     "execution_count": 103,
     "metadata": {},
     "output_type": "execute_result"
    }
   ],
   "source": [
    "final_pred = np.average(test_preds_proba, axis=0)\n",
    "final_pred"
   ]
  },
  {
   "cell_type": "code",
   "execution_count": 104,
   "id": "c82db8a0",
   "metadata": {},
   "outputs": [
    {
     "data": {
      "text/html": [
       "<div>\n",
       "<style scoped>\n",
       "    .dataframe tbody tr th:only-of-type {\n",
       "        vertical-align: middle;\n",
       "    }\n",
       "\n",
       "    .dataframe tbody tr th {\n",
       "        vertical-align: top;\n",
       "    }\n",
       "\n",
       "    .dataframe thead th {\n",
       "        text-align: right;\n",
       "    }\n",
       "</style>\n",
       "<table border=\"1\" class=\"dataframe\">\n",
       "  <thead>\n",
       "    <tr style=\"text-align: right;\">\n",
       "      <th></th>\n",
       "      <th>TransactionID</th>\n",
       "      <th>isFraud</th>\n",
       "    </tr>\n",
       "  </thead>\n",
       "  <tbody>\n",
       "    <tr>\n",
       "      <th>0</th>\n",
       "      <td>3404559</td>\n",
       "      <td>0.187614</td>\n",
       "    </tr>\n",
       "    <tr>\n",
       "      <th>1</th>\n",
       "      <td>3404560</td>\n",
       "      <td>0.151800</td>\n",
       "    </tr>\n",
       "    <tr>\n",
       "      <th>2</th>\n",
       "      <td>3404561</td>\n",
       "      <td>0.267612</td>\n",
       "    </tr>\n",
       "    <tr>\n",
       "      <th>3</th>\n",
       "      <td>3404562</td>\n",
       "      <td>0.116095</td>\n",
       "    </tr>\n",
       "    <tr>\n",
       "      <th>4</th>\n",
       "      <td>3404563</td>\n",
       "      <td>0.478346</td>\n",
       "    </tr>\n",
       "  </tbody>\n",
       "</table>\n",
       "</div>"
      ],
      "text/plain": [
       "   TransactionID   isFraud\n",
       "0        3404559  0.187614\n",
       "1        3404560  0.151800\n",
       "2        3404561  0.267612\n",
       "3        3404562  0.116095\n",
       "4        3404563  0.478346"
      ]
     },
     "execution_count": 104,
     "metadata": {},
     "output_type": "execute_result"
    }
   ],
   "source": [
    "sub = pd.DataFrame({'TransactionID': sample_submission['TransactionID'], 'isFraud': final_pred})\n",
    "sub.head()"
   ]
  },
  {
   "cell_type": "code",
   "execution_count": 105,
   "id": "6646fa06",
   "metadata": {},
   "outputs": [],
   "source": [
    "sub.to_csv('submission_baseline.csv', index=False)"
   ]
  },
  {
   "cell_type": "code",
   "execution_count": null,
   "id": "166e4d53",
   "metadata": {},
   "outputs": [],
   "source": []
  }
 ],
 "metadata": {
  "kernelspec": {
   "display_name": "Python 3",
   "language": "python",
   "name": "python3"
  },
  "language_info": {
   "codemirror_mode": {
    "name": "ipython",
    "version": 3
   },
   "file_extension": ".py",
   "mimetype": "text/x-python",
   "name": "python",
   "nbconvert_exporter": "python",
   "pygments_lexer": "ipython3",
   "version": "3.8.8"
  }
 },
 "nbformat": 4,
 "nbformat_minor": 5
}
